{
 "cells": [
  {
   "cell_type": "code",
   "execution_count": 2,
   "id": "8c266973",
   "metadata": {
    "vscode": {
     "languageId": "r"
    }
   },
   "outputs": [],
   "source": [
    "apsimx_wrapper_options <- function(apsimx_path,\n",
    "                                   apsimx_file, ... ) {\n",
    "\n",
    "  # Template list\n",
    "  options <- list()\n",
    "  options$apsimx_path <- character(0)\n",
    "  options$apsimx_file <- character(0)\n",
    "  options$time_display <- FALSE\n",
    "  options$warning_display <- TRUE\n",
    "  options$multi_process <- FALSE\n",
    "  options$predicted_table_name <- 'Report'\n",
    "  options$observed_table_name <- 'Observed'\n",
    "  options$variable_names <- character(0)\n",
    "  options$met_files_path <- character(0)\n",
    "  options$obs_files_path <- character(0)\n",
    "\n",
    "  # For getting the template\n",
    "  # running apsimx_wrapper_options\n",
    "  if (! nargs()) return(options)\n",
    "\n",
    "  # For fixing mandatory fields values\n",
    "  options$apsimx_path <- apsimx_path\n",
    "  options$apsimx_file <- apsimx_file\n",
    "\n",
    "  # Fixing optional fields,\n",
    "  # if corresponding to exact field names\n",
    "  # in options list\n",
    "  list_names <- names (options)\n",
    "  add_args <- list(...)\n",
    "\n",
    "  for (n in names(add_args)) {\n",
    "    if ( n %in% list_names) {\n",
    "      options[[n]] <- add_args[[n]]\n",
    "    }\n",
    "  }\n",
    "\n",
    "  # Adding dates variable for getting them in outputs\n",
    "  if ( ! is.element(\"Clock.Today\", options$variable_names ) ) {\n",
    "    if (length(options$variable_names) > 0 && grepl('Predicted.', options$variable_names[1])) {\n",
    "      options$variable_names <- c(options$variable_names, \"Predicted.Clock.Today\")\n",
    "    } else {\n",
    "      options$variable_names <- c(options$variable_names, \"Clock.Today\")\n",
    "    }\n",
    "  }\n",
    "\n",
    "  return(options)\n",
    "}"
   ]
  },
  {
   "cell_type": "code",
   "execution_count": null,
   "id": "c170fdf3",
   "metadata": {
    "vscode": {
     "languageId": "r"
    }
   },
   "outputs": [],
   "source": []
  },
  {
   "cell_type": "code",
   "execution_count": null,
   "metadata": {
    "vscode": {
     "languageId": "r"
    }
   },
   "outputs": [],
   "source": []
  },
  {
   "cell_type": "code",
   "execution_count": null,
   "metadata": {
    "vscode": {
     "languageId": "r"
    }
   },
   "outputs": [],
   "source": []
  },
  {
   "cell_type": "code",
   "execution_count": null,
   "id": "56c3438b",
   "metadata": {
    "vscode": {
     "languageId": "r"
    }
   },
   "outputs": [],
   "source": []
  },
  {
   "cell_type": "code",
   "execution_count": null,
   "metadata": {
    "vscode": {
     "languageId": "r"
    }
   },
   "outputs": [],
   "source": []
  },
  {
   "cell_type": "code",
   "execution_count": null,
   "id": "c497df54",
   "metadata": {
    "vscode": {
     "languageId": "r"
    }
   },
   "outputs": [
    {
     "name": "stdout",
     "output_type": "stream",
     "text": [
      "$apsimx_path\n",
      "[1] \"/usr/local/bin/Models\"\n",
      "\n",
      "$apsimx_file\n",
      "[1] \"/home/luanabeckerdaluz/git/luanabeckerdaluz/rapsimx/examples/template.apsimx\"\n",
      "\n",
      "$time_display\n",
      "[1] FALSE\n",
      "\n",
      "$warning_display\n",
      "[1] TRUE\n",
      "\n",
      "$multi_process\n",
      "[1] FALSE\n",
      "\n",
      "$predicted_table_name\n",
      "[1] \"DailyReport\"\n",
      "\n",
      "$observed_table_name\n",
      "[1] \"Observed\"\n",
      "\n",
      "$variable_names\n",
      "[1] \"Wheat.Leaf.LAI\" \"Clock.Today\"   \n",
      "\n",
      "$met_files_path\n",
      "[1] \"/home/luanabeckerdaluz/git/luanabeckerdaluz/rapsimx/examples\"\n",
      "\n",
      "$obs_files_path\n",
      "[1] \"/home/luanabeckerdaluz/git/luanabeckerdaluz/rapsimx/examples\"\n",
      "\n",
      "NULL\n"
     ]
    },
    {
     "data": {
      "text/html": [
       "<dl>\n",
       "\t<dt>$biomass</dt>\n",
       "\t\t<dd>20</dd>\n",
       "\t<dt>$yield</dt>\n",
       "\t\t<dd>100</dd>\n",
       "</dl>\n"
      ],
      "text/latex": [
       "\\begin{description}\n",
       "\\item[\\$biomass] 20\n",
       "\\item[\\$yield] 100\n",
       "\\end{description}\n"
      ],
      "text/markdown": [
       "$biomass\n",
       ":   20\n",
       "$yield\n",
       ":   100\n",
       "\n",
       "\n"
      ],
      "text/plain": [
       "$biomass\n",
       "[1] 20\n",
       "\n",
       "$yield\n",
       "[1] 100\n"
      ]
     },
     "metadata": {},
     "output_type": "display_data"
    },
    {
     "name": "stdout",
     "output_type": "stream",
     "text": [
      "$apsimx_path\n",
      "[1] \"/usr/local/bin/Models\"\n",
      "\n",
      "$apsimx_file\n",
      "[1] \"/home/luanabeckerdaluz/git/luanabeckerdaluz/rapsimx/examples/template.apsimx\"\n",
      "\n",
      "$time_display\n",
      "[1] FALSE\n",
      "\n",
      "$warning_display\n",
      "[1] TRUE\n",
      "\n",
      "$multi_process\n",
      "[1] FALSE\n",
      "\n",
      "$predicted_table_name\n",
      "[1] \"DailyReport\"\n",
      "\n",
      "$observed_table_name\n",
      "[1] \"Observed\"\n",
      "\n",
      "$variable_names\n",
      "[1] \"Wheat.Leaf.LAI\" \"Clock.Today\"   \n",
      "\n",
      "$met_files_path\n",
      "[1] \"/home/luanabeckerdaluz/git/luanabeckerdaluz/rapsimx/examples\"\n",
      "\n",
      "$obs_files_path\n",
      "[1] \"/home/luanabeckerdaluz/git/luanabeckerdaluz/rapsimx/examples\"\n",
      "\n",
      ".Simulations.Replacements.Wheat.Leaf.ExtinctionCoeff.VegetativePhase.FixedValue \n",
      "                                                                            0.4 \n",
      "             .Simulations.Replacements.Wheat.Leaf.Photosynthesis.RUE.FixedValue \n",
      "                                                                            1.4 \n"
     ]
    },
    {
     "data": {
      "text/html": [
       "<dl>\n",
       "\t<dt>$biomass</dt>\n",
       "\t\t<dd>20</dd>\n",
       "\t<dt>$yield</dt>\n",
       "\t\t<dd>100</dd>\n",
       "</dl>\n"
      ],
      "text/latex": [
       "\\begin{description}\n",
       "\\item[\\$biomass] 20\n",
       "\\item[\\$yield] 100\n",
       "\\end{description}\n"
      ],
      "text/markdown": [
       "$biomass\n",
       ":   20\n",
       "$yield\n",
       ":   100\n",
       "\n",
       "\n"
      ],
      "text/plain": [
       "$biomass\n",
       "[1] 20\n",
       "\n",
       "$yield\n",
       "[1] 100\n"
      ]
     },
     "metadata": {},
     "output_type": "display_data"
    }
   ],
   "source": [
    "model_options <- apsimx_wrapper_options(\n",
    "  apsimx_path = \"/usr/local/bin/Models\",\n",
    "  apsimx_file = file.path(getwd(), \"template.apsimx\"),\n",
    "  variable_names = c(\"Wheat.Leaf.LAI\"),\n",
    "  predicted_table_name = \"DailyReport\",\n",
    "  observed_table_name = \"Observed\",\n",
    "  met_files_path = getwd(),\n",
    "  obs_files_path = getwd()\n",
    ")\n",
    "\n",
    "apsimx_wrapper <- function(model_options, param_values = NULL) {\n",
    "  # print(model_options)\n",
    "  # print(param_values)\n",
    "  print(\"Rodando!!\")\n",
    "\n",
    "  return(list(\n",
    "    biomass = 20,\n",
    "    yield = 100\n",
    "    # sim_list\n",
    "    # db_file_name\n",
    "  ))\n",
    "}\n",
    "\n",
    "sim_before_optim <- apsimx_wrapper(model_options = model_options)\n",
    "sim_before_optim\n",
    "\n",
    "sim_par_forcing <- apsimx_wrapper(\n",
    "  param_values = c(\n",
    "    .Simulations.Replacements.Wheat.Leaf.ExtinctionCoeff.VegetativePhase.FixedValue=0.4,\n",
    "    .Simulations.Replacements.Wheat.Leaf.Photosynthesis.RUE.FixedValue=1.4\n",
    "  ),\n",
    "  model_options = model_options\n",
    ")\n",
    "sim_par_forcing\n",
    "\n",
    "# obs_list <- read_apsimx_output(\n",
    "#   sim_before_optim$db_file_name,\n",
    "#   model_options$observed_table_name,\n",
    "#   model_options$variable_names,\n",
    "#   names(sim_before_optim$sim_list)\n",
    "# )\n",
    "# obs_list <- filter_obs(\n",
    "#   obs_list,\n",
    "#   situation = \"GattonRowSpacingRowSpace25cm\",\n",
    "#   include = TRUE\n",
    "# )"
   ]
  },
  {
   "cell_type": "code",
   "execution_count": null,
   "metadata": {
    "vscode": {
     "languageId": "r"
    }
   },
   "outputs": [],
   "source": [
    "res <- estim_param(\n",
    "  obs_list = obs_list,\n",
    "  model_function = apsimx_wrapper,\n",
    "  model_options = model_options,\n",
    "  optim_options = list(\n",
    "    nb_rep = 7,\n",
    "    maxeval = 500,\n",
    "    xtol_rel = 1e-03,\n",
    "    out_dir = getwd(),\n",
    "    ranseed = 1234\n",
    "  ),\n",
    "  param_info = list(\n",
    "    lb = c(\n",
    "      .Simulations.Replacements.Wheat.Leaf.ExtinctionCoeff.VegetativePhase.FixedValue = 0.4,\n",
    "      .Simulations.Replacements.Wheat.Leaf.Photosynthesis.RUE.FixedValue = 1.4\n",
    "    ),\n",
    "    ub = c(\n",
    "      .Simulations.Replacements.Wheat.Leaf.ExtinctionCoeff.VegetativePhase.FixedValue = 0.6,\n",
    "      .Simulations.Replacements.Wheat.Leaf.Photosynthesis.RUE.FixedValue = 1.6\n",
    "    )\n",
    "  )\n",
    ")\n",
    "\n",
    "res$final_values"
   ]
  },
  {
   "cell_type": "code",
   "execution_count": null,
   "id": "9cd0c181",
   "metadata": {
    "vscode": {
     "languageId": "r"
    }
   },
   "outputs": [],
   "source": [
    "sim_after_optim <- apsimx_wrapper(param_values = res$final_values,\n",
    "                               model_options = model_options)"
   ]
  },
  {
   "cell_type": "code",
   "execution_count": null,
   "id": "11365cb1",
   "metadata": {
    "vscode": {
     "languageId": "r"
    }
   },
   "outputs": [],
   "source": []
  },
  {
   "cell_type": "code",
   "execution_count": null,
   "metadata": {
    "vscode": {
     "languageId": "r"
    }
   },
   "outputs": [],
   "source": []
  },
  {
   "cell_type": "code",
   "execution_count": null,
   "metadata": {
    "vscode": {
     "languageId": "r"
    }
   },
   "outputs": [],
   "source": []
  },
  {
   "cell_type": "code",
   "execution_count": null,
   "id": "a6f9a459",
   "metadata": {
    "vscode": {
     "languageId": "r"
    }
   },
   "outputs": [],
   "source": [
    "sensi <- rapsimx::RApsimxSensitivity(\n",
    "  folder = \"tmp_sensi\",\n",
    "  copy_met_data_from = \"../met_data/\",\n",
    "  multicores = 2,\n",
    "  models_command = NULL\n",
    ")"
   ]
  },
  {
   "cell_type": "code",
   "execution_count": null,
   "id": "a90555a8",
   "metadata": {
    "vscode": {
     "languageId": "r"
    }
   },
   "outputs": [],
   "source": [
    "sensi$import_or_overwrite_problem(\"problem.R\")\n",
    "sensi$problem"
   ]
  },
  {
   "cell_type": "code",
   "execution_count": null,
   "id": "9e40009c",
   "metadata": {
    "vscode": {
     "languageId": "r"
    }
   },
   "outputs": [],
   "source": [
    "sensi$generate_samples(method = \"LHS\", n_samples = 10L)"
   ]
  },
  {
   "cell_type": "code",
   "execution_count": null,
   "id": "a4373501",
   "metadata": {
    "vscode": {
     "languageId": "r"
    }
   },
   "outputs": [],
   "source": [
    "head(sensi$samples_df)\n",
    "sensi$samples_df.plot()"
   ]
  },
  {
   "cell_type": "code",
   "execution_count": null,
   "id": "a9d47218",
   "metadata": {
    "vscode": {
     "languageId": "r"
    }
   },
   "outputs": [],
   "source": [
    "sensi$info()"
   ]
  },
  {
   "cell_type": "code",
   "execution_count": null,
   "id": "484da849",
   "metadata": {
    "vscode": {
     "languageId": "r"
    }
   },
   "outputs": [],
   "source": [
    "sensi$generate_apsimxs(\n",
    "  sensit_base_sim_filepath = \"../base_simulations/Soy-BR-clean.apsimx\",\n",
    "  runs_only_some_n = 10L,\n",
    "  dry_run = FALSE\n",
    ")"
   ]
  },
  {
   "cell_type": "code",
   "execution_count": null,
   "id": "6cd66635",
   "metadata": {
    "vscode": {
     "languageId": "r"
    }
   },
   "outputs": [],
   "source": [
    "sensi$run(\n",
    "  runs_only_some_n = 2L,\n",
    "  simulations_names = NULL,\n",
    "  ids_to_run = NULL,\n",
    "  dry_run = FALSE\n",
    ")"
   ]
  },
  {
   "cell_type": "code",
   "execution_count": null,
   "id": "4f73b70b",
   "metadata": {
    "vscode": {
     "languageId": "r"
    }
   },
   "outputs": [],
   "source": [
    "sensi$summarize(\n",
    "  # ids_to_summarize = c(1,10),\n",
    "  # number_of_fields_to_check = 32L,\n",
    "  # runs_only_some_n = 2L,\n",
    "  # dry_run = FALSE\n",
    ")"
   ]
  },
  {
   "cell_type": "code",
   "execution_count": null,
   "id": "5f7094fa",
   "metadata": {
    "vscode": {
     "languageId": "r"
    }
   },
   "outputs": [],
   "source": [
    "head(sensi$summarize_df)\n",
    "# sensi$info()"
   ]
  },
  {
   "cell_type": "code",
   "execution_count": null,
   "id": "e7d02359",
   "metadata": {
    "vscode": {
     "languageId": "r"
    }
   },
   "outputs": [],
   "source": []
  }
 ],
 "metadata": {
  "kernelspec": {
   "display_name": "R",
   "language": "R",
   "name": "ir"
  },
  "language_info": {
   "codemirror_mode": "r",
   "file_extension": ".r",
   "mimetype": "text/x-r-source",
   "name": "R",
   "pygments_lexer": "r",
   "version": "4.4.3"
  }
 },
 "nbformat": 4,
 "nbformat_minor": 5
}
