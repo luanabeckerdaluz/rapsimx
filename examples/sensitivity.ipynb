{
 "cells": [
  {
   "cell_type": "code",
   "execution_count": 45,
   "id": "c497df54",
   "metadata": {
    "vscode": {
     "languageId": "r"
    }
   },
   "outputs": [
    {
     "name": "stderr",
     "output_type": "stream",
     "text": [
      "Removing package from ‘/home/luanabeckerdaluz/anaconda3/envs/rapsimx/lib/R/library’\n",
      "(as ‘lib’ is unspecified)\n",
      "\n",
      "Updating HTML index of packages in '.Library'\n",
      "\n",
      "Making 'packages.html' ...\n"
     ]
    },
    {
     "name": "stderr",
     "output_type": "stream",
     "text": [
      " done\n",
      "\n",
      "Using GitHub PAT from the git credential store.\n",
      "\n",
      "Downloading GitHub repo luanabeckerdaluz/rapsimx@HEAD\n",
      "\n"
     ]
    },
    {
     "name": "stdout",
     "output_type": "stream",
     "text": [
      "\n",
      "\u001b[36m──\u001b[39m \u001b[36mR CMD build\u001b[39m \u001b[36m─────────────────────────────────────────────────────────────────\u001b[39m\n",
      "* checking for file ‘/tmp/RtmpiXht8o/remotese447f352a6f60/luanabeckerdaluz-rapsimx-da648d6/DESCRIPTION’ ... OK\n",
      "* preparing ‘rapsimx’:\n",
      "* checking DESCRIPTION meta-information ... OK\n",
      "* checking for LF line-endings in source and make files and shell scripts\n",
      "* checking for empty or unneeded directories\n",
      "  NB: this package now depends on R (>= 4.1.0)\n",
      "  WARNING: Added dependency on R >= 4.1.0 because package code uses the\n",
      "  pipe |> or function shorthand \\(...) syntax added in R 4.1.0.\n",
      "  File(s) using such syntax:\n",
      "    ‘sensi_class.R’ ‘sensi_utils_salib.R’ ‘sensi_utils_summarize.R’\n",
      "* building ‘rapsimx_0.2.22.tar.gz’\n",
      "\n"
     ]
    },
    {
     "data": {
      "text/plain": [
       "[1] ‘0.2.22’"
      ]
     },
     "metadata": {},
     "output_type": "display_data"
    }
   ],
   "source": [
    "detach(\"package:rapsimx\", unload = TRUE, character.only = TRUE)\n",
    "remove.packages(\"rapsimx\")\n",
    "\n",
    "remotes::install_github(\"https://github.com/luanabeckerdaluz/rapsimx\", dependencies = TRUE)\n",
    "library(rapsimx)\n",
    "packageVersion(\"rapsimx\")"
   ]
  },
  {
   "cell_type": "code",
   "execution_count": 46,
   "id": "a6f9a459",
   "metadata": {
    "vscode": {
     "languageId": "r"
    }
   },
   "outputs": [
    {
     "name": "stderr",
     "output_type": "stream",
     "text": [
      "\u001b[32m✔\u001b[39m Command '/usr/local/bin/Models' is running!\n",
      "\n",
      "\u001b[32m✔\u001b[39m Loading tmp folder...\n",
      "\n",
      "\u001b[32m✔\u001b[39m Folder: /home/luanabeckerdaluz/git/rapsimx/tmp\n",
      "\n",
      "\u001b[32m✔\u001b[39m Parallel enabled! Multicores = 2\n",
      "\n",
      "\u001b[32m✔\u001b[39m ApsimX command = /usr/local/bin/Models\n",
      "\n",
      "\u001b[32m✔\u001b[39m File problem.rds is available!\n",
      "\n",
      "\u001b[32m✔\u001b[39m File samples.csv is available!\n",
      "\n",
      "\u001b[32m✔\u001b[39m File summarized.csv is available!\n",
      "\n",
      "\u001b[33m!\u001b[39m File salib.csv does not exist!\n",
      "\n",
      "\u001b[36mℹ\u001b[39m Summary:\n",
      "\n",
      "\u001b[36mℹ\u001b[39m   Folder = /home/luanabeckerdaluz/git/rapsimx/tmp\n",
      "\n",
      "\u001b[36mℹ\u001b[39m   Number of dbs: 2\n",
      "\n",
      "\u001b[36mℹ\u001b[39m   Number of apsimxs: 2\n",
      "\n"
     ]
    }
   ],
   "source": [
    "sensi <- rapsimx::RApsimxSensitivity(\n",
    "  folder = \"../tmp\",\n",
    "  copy_met_data_from = \"../met_data/\",\n",
    "  multicores = 2,\n",
    "  models_command = \"/usr/local/bin/Models\"\n",
    ")"
   ]
  },
  {
   "cell_type": "markdown",
   "id": "e1668480",
   "metadata": {},
   "source": [
    "# (Optional) Overwrite problem with local file"
   ]
  },
  {
   "cell_type": "code",
   "execution_count": 29,
   "id": "a90555a8",
   "metadata": {
    "vscode": {
     "languageId": "r"
    }
   },
   "outputs": [
    {
     "name": "stderr",
     "output_type": "stream",
     "text": [
      "\u001b[32m✔\u001b[39m File sensitivity_problem.R is available!\n",
      "\n",
      "\u001b[32m✔\u001b[39m problem was updated!\n",
      "\n"
     ]
    },
    {
     "data": {
      "text/html": [
       "<dl>\n",
       "\t<dt>$num_vars</dt>\n",
       "\t\t<dd>17</dd>\n",
       "\t<dt>$names</dt>\n",
       "\t\t<dd><style>\n",
       ".list-inline {list-style: none; margin:0; padding: 0}\n",
       ".list-inline>li {display: inline-block}\n",
       ".list-inline>li:not(:last-child)::after {content: \"\\00b7\"; padding: 0 .5ex}\n",
       "</style>\n",
       "<ol class=list-inline><li>'phen_VegTherTimeResp_X3'</li><li>'phen_RepTherTimeResp_X3'</li><li>'phen_VegPhoMod_X1'</li><li>'phen_RepPhoMod_X1'</li><li>'phen_VegetativeTarget'</li><li>'phen_EarlyFloweringTarget'</li><li>'phen_EarlyPodDevTarget'</li><li>'phen_FractGrainFill'</li><li>'phen_MidGrainFill'</li><li>'phen_EntGrainFill'</li><li>'phen_Maturing'</li><li>'phen_Ripening'</li><li>'leaf_RUE'</li><li>'leaf_AreaLargLeaf'</li><li>'leaf_Phyllochron'</li><li>'leaf_ExtinctionCoef_Y1'</li><li>'grain_HarvIndex'</li></ol>\n",
       "</dd>\n",
       "\t<dt>$bounds</dt>\n",
       "\t\t<dd><ol>\n",
       "\t<li><style>\n",
       ".list-inline {list-style: none; margin:0; padding: 0}\n",
       ".list-inline>li {display: inline-block}\n",
       ".list-inline>li:not(:last-child)::after {content: \"\\00b7\"; padding: 0 .5ex}\n",
       "</style>\n",
       "<ol class=list-inline><li>21</li><li>39</li></ol>\n",
       "</li>\n",
       "\t<li><style>\n",
       ".list-inline {list-style: none; margin:0; padding: 0}\n",
       ".list-inline>li {display: inline-block}\n",
       ".list-inline>li:not(:last-child)::after {content: \"\\00b7\"; padding: 0 .5ex}\n",
       "</style>\n",
       "<ol class=list-inline><li>21</li><li>39</li></ol>\n",
       "</li>\n",
       "\t<li><style>\n",
       ".list-inline {list-style: none; margin:0; padding: 0}\n",
       ".list-inline>li {display: inline-block}\n",
       ".list-inline>li:not(:last-child)::after {content: \"\\00b7\"; padding: 0 .5ex}\n",
       "</style>\n",
       "<ol class=list-inline><li>10.5</li><li>14.5</li></ol>\n",
       "</li>\n",
       "\t<li><style>\n",
       ".list-inline {list-style: none; margin:0; padding: 0}\n",
       ".list-inline>li {display: inline-block}\n",
       ".list-inline>li:not(:last-child)::after {content: \"\\00b7\"; padding: 0 .5ex}\n",
       "</style>\n",
       "<ol class=list-inline><li>10.5</li><li>14.5</li></ol>\n",
       "</li>\n",
       "\t<li><style>\n",
       ".list-inline {list-style: none; margin:0; padding: 0}\n",
       ".list-inline>li {display: inline-block}\n",
       ".list-inline>li:not(:last-child)::after {content: \"\\00b7\"; padding: 0 .5ex}\n",
       "</style>\n",
       "<ol class=list-inline><li>200</li><li>600</li></ol>\n",
       "</li>\n",
       "\t<li><style>\n",
       ".list-inline {list-style: none; margin:0; padding: 0}\n",
       ".list-inline>li {display: inline-block}\n",
       ".list-inline>li:not(:last-child)::after {content: \"\\00b7\"; padding: 0 .5ex}\n",
       "</style>\n",
       "<ol class=list-inline><li>100</li><li>300</li></ol>\n",
       "</li>\n",
       "\t<li><style>\n",
       ".list-inline {list-style: none; margin:0; padding: 0}\n",
       ".list-inline>li {display: inline-block}\n",
       ".list-inline>li:not(:last-child)::after {content: \"\\00b7\"; padding: 0 .5ex}\n",
       "</style>\n",
       "<ol class=list-inline><li>70</li><li>210</li></ol>\n",
       "</li>\n",
       "\t<li><style>\n",
       ".list-inline {list-style: none; margin:0; padding: 0}\n",
       ".list-inline>li {display: inline-block}\n",
       ".list-inline>li:not(:last-child)::after {content: \"\\00b7\"; padding: 0 .5ex}\n",
       "</style>\n",
       "<ol class=list-inline><li>0.035</li><li>0.065</li></ol>\n",
       "</li>\n",
       "\t<li><style>\n",
       ".list-inline {list-style: none; margin:0; padding: 0}\n",
       ".list-inline>li {display: inline-block}\n",
       ".list-inline>li:not(:last-child)::after {content: \"\\00b7\"; padding: 0 .5ex}\n",
       "</style>\n",
       "<ol class=list-inline><li>0.35</li><li>0.65</li></ol>\n",
       "</li>\n",
       "\t<li><style>\n",
       ".list-inline {list-style: none; margin:0; padding: 0}\n",
       ".list-inline>li {display: inline-block}\n",
       ".list-inline>li:not(:last-child)::after {content: \"\\00b7\"; padding: 0 .5ex}\n",
       "</style>\n",
       "<ol class=list-inline><li>250</li><li>750</li></ol>\n",
       "</li>\n",
       "\t<li><style>\n",
       ".list-inline {list-style: none; margin:0; padding: 0}\n",
       ".list-inline>li {display: inline-block}\n",
       ".list-inline>li:not(:last-child)::after {content: \"\\00b7\"; padding: 0 .5ex}\n",
       "</style>\n",
       "<ol class=list-inline><li>35</li><li>65</li></ol>\n",
       "</li>\n",
       "\t<li><style>\n",
       ".list-inline {list-style: none; margin:0; padding: 0}\n",
       ".list-inline>li {display: inline-block}\n",
       ".list-inline>li:not(:last-child)::after {content: \"\\00b7\"; padding: 0 .5ex}\n",
       "</style>\n",
       "<ol class=list-inline><li>35</li><li>65</li></ol>\n",
       "</li>\n",
       "\t<li><style>\n",
       ".list-inline {list-style: none; margin:0; padding: 0}\n",
       ".list-inline>li {display: inline-block}\n",
       ".list-inline>li:not(:last-child)::after {content: \"\\00b7\"; padding: 0 .5ex}\n",
       "</style>\n",
       "<ol class=list-inline><li>0.8</li><li>1.6</li></ol>\n",
       "</li>\n",
       "\t<li><style>\n",
       ".list-inline {list-style: none; margin:0; padding: 0}\n",
       ".list-inline>li {display: inline-block}\n",
       ".list-inline>li:not(:last-child)::after {content: \"\\00b7\"; padding: 0 .5ex}\n",
       "</style>\n",
       "<ol class=list-inline><li>0.004</li><li>0.008</li></ol>\n",
       "</li>\n",
       "\t<li><style>\n",
       ".list-inline {list-style: none; margin:0; padding: 0}\n",
       ".list-inline>li {display: inline-block}\n",
       ".list-inline>li:not(:last-child)::after {content: \"\\00b7\"; padding: 0 .5ex}\n",
       "</style>\n",
       "<ol class=list-inline><li>35</li><li>65</li></ol>\n",
       "</li>\n",
       "\t<li><style>\n",
       ".list-inline {list-style: none; margin:0; padding: 0}\n",
       ".list-inline>li {display: inline-block}\n",
       ".list-inline>li:not(:last-child)::after {content: \"\\00b7\"; padding: 0 .5ex}\n",
       "</style>\n",
       "<ol class=list-inline><li>0.4</li><li>0.8</li></ol>\n",
       "</li>\n",
       "\t<li><style>\n",
       ".list-inline {list-style: none; margin:0; padding: 0}\n",
       ".list-inline>li {display: inline-block}\n",
       ".list-inline>li:not(:last-child)::after {content: \"\\00b7\"; padding: 0 .5ex}\n",
       "</style>\n",
       "<ol class=list-inline><li>0.35</li><li>0.65</li></ol>\n",
       "</li>\n",
       "</ol>\n",
       "</dd>\n",
       "</dl>\n"
      ],
      "text/latex": [
       "\\begin{description}\n",
       "\\item[\\$num\\_vars] 17\n",
       "\\item[\\$names] \\begin{enumerate*}\n",
       "\\item 'phen\\_VegTherTimeResp\\_X3'\n",
       "\\item 'phen\\_RepTherTimeResp\\_X3'\n",
       "\\item 'phen\\_VegPhoMod\\_X1'\n",
       "\\item 'phen\\_RepPhoMod\\_X1'\n",
       "\\item 'phen\\_VegetativeTarget'\n",
       "\\item 'phen\\_EarlyFloweringTarget'\n",
       "\\item 'phen\\_EarlyPodDevTarget'\n",
       "\\item 'phen\\_FractGrainFill'\n",
       "\\item 'phen\\_MidGrainFill'\n",
       "\\item 'phen\\_EntGrainFill'\n",
       "\\item 'phen\\_Maturing'\n",
       "\\item 'phen\\_Ripening'\n",
       "\\item 'leaf\\_RUE'\n",
       "\\item 'leaf\\_AreaLargLeaf'\n",
       "\\item 'leaf\\_Phyllochron'\n",
       "\\item 'leaf\\_ExtinctionCoef\\_Y1'\n",
       "\\item 'grain\\_HarvIndex'\n",
       "\\end{enumerate*}\n",
       "\n",
       "\\item[\\$bounds] \\begin{enumerate}\n",
       "\\item \\begin{enumerate*}\n",
       "\\item 21\n",
       "\\item 39\n",
       "\\end{enumerate*}\n",
       "\n",
       "\\item \\begin{enumerate*}\n",
       "\\item 21\n",
       "\\item 39\n",
       "\\end{enumerate*}\n",
       "\n",
       "\\item \\begin{enumerate*}\n",
       "\\item 10.5\n",
       "\\item 14.5\n",
       "\\end{enumerate*}\n",
       "\n",
       "\\item \\begin{enumerate*}\n",
       "\\item 10.5\n",
       "\\item 14.5\n",
       "\\end{enumerate*}\n",
       "\n",
       "\\item \\begin{enumerate*}\n",
       "\\item 200\n",
       "\\item 600\n",
       "\\end{enumerate*}\n",
       "\n",
       "\\item \\begin{enumerate*}\n",
       "\\item 100\n",
       "\\item 300\n",
       "\\end{enumerate*}\n",
       "\n",
       "\\item \\begin{enumerate*}\n",
       "\\item 70\n",
       "\\item 210\n",
       "\\end{enumerate*}\n",
       "\n",
       "\\item \\begin{enumerate*}\n",
       "\\item 0.035\n",
       "\\item 0.065\n",
       "\\end{enumerate*}\n",
       "\n",
       "\\item \\begin{enumerate*}\n",
       "\\item 0.35\n",
       "\\item 0.65\n",
       "\\end{enumerate*}\n",
       "\n",
       "\\item \\begin{enumerate*}\n",
       "\\item 250\n",
       "\\item 750\n",
       "\\end{enumerate*}\n",
       "\n",
       "\\item \\begin{enumerate*}\n",
       "\\item 35\n",
       "\\item 65\n",
       "\\end{enumerate*}\n",
       "\n",
       "\\item \\begin{enumerate*}\n",
       "\\item 35\n",
       "\\item 65\n",
       "\\end{enumerate*}\n",
       "\n",
       "\\item \\begin{enumerate*}\n",
       "\\item 0.8\n",
       "\\item 1.6\n",
       "\\end{enumerate*}\n",
       "\n",
       "\\item \\begin{enumerate*}\n",
       "\\item 0.004\n",
       "\\item 0.008\n",
       "\\end{enumerate*}\n",
       "\n",
       "\\item \\begin{enumerate*}\n",
       "\\item 35\n",
       "\\item 65\n",
       "\\end{enumerate*}\n",
       "\n",
       "\\item \\begin{enumerate*}\n",
       "\\item 0.4\n",
       "\\item 0.8\n",
       "\\end{enumerate*}\n",
       "\n",
       "\\item \\begin{enumerate*}\n",
       "\\item 0.35\n",
       "\\item 0.65\n",
       "\\end{enumerate*}\n",
       "\n",
       "\\end{enumerate}\n",
       "\n",
       "\\end{description}\n"
      ],
      "text/markdown": [
       "$num_vars\n",
       ":   17\n",
       "$names\n",
       ":   1. 'phen_VegTherTimeResp_X3'\n",
       "2. 'phen_RepTherTimeResp_X3'\n",
       "3. 'phen_VegPhoMod_X1'\n",
       "4. 'phen_RepPhoMod_X1'\n",
       "5. 'phen_VegetativeTarget'\n",
       "6. 'phen_EarlyFloweringTarget'\n",
       "7. 'phen_EarlyPodDevTarget'\n",
       "8. 'phen_FractGrainFill'\n",
       "9. 'phen_MidGrainFill'\n",
       "10. 'phen_EntGrainFill'\n",
       "11. 'phen_Maturing'\n",
       "12. 'phen_Ripening'\n",
       "13. 'leaf_RUE'\n",
       "14. 'leaf_AreaLargLeaf'\n",
       "15. 'leaf_Phyllochron'\n",
       "16. 'leaf_ExtinctionCoef_Y1'\n",
       "17. 'grain_HarvIndex'\n",
       "\n",
       "\n",
       "\n",
       "$bounds\n",
       ":   1. 1. 21\n",
       "2. 39\n",
       "\n",
       "\n",
       "\n",
       "2. 1. 21\n",
       "2. 39\n",
       "\n",
       "\n",
       "\n",
       "3. 1. 10.5\n",
       "2. 14.5\n",
       "\n",
       "\n",
       "\n",
       "4. 1. 10.5\n",
       "2. 14.5\n",
       "\n",
       "\n",
       "\n",
       "5. 1. 200\n",
       "2. 600\n",
       "\n",
       "\n",
       "\n",
       "6. 1. 100\n",
       "2. 300\n",
       "\n",
       "\n",
       "\n",
       "7. 1. 70\n",
       "2. 210\n",
       "\n",
       "\n",
       "\n",
       "8. 1. 0.035\n",
       "2. 0.065\n",
       "\n",
       "\n",
       "\n",
       "9. 1. 0.35\n",
       "2. 0.65\n",
       "\n",
       "\n",
       "\n",
       "10. 1. 250\n",
       "2. 750\n",
       "\n",
       "\n",
       "\n",
       "11. 1. 35\n",
       "2. 65\n",
       "\n",
       "\n",
       "\n",
       "12. 1. 35\n",
       "2. 65\n",
       "\n",
       "\n",
       "\n",
       "13. 1. 0.8\n",
       "2. 1.6\n",
       "\n",
       "\n",
       "\n",
       "14. 1. 0.004\n",
       "2. 0.008\n",
       "\n",
       "\n",
       "\n",
       "15. 1. 35\n",
       "2. 65\n",
       "\n",
       "\n",
       "\n",
       "16. 1. 0.4\n",
       "2. 0.8\n",
       "\n",
       "\n",
       "\n",
       "17. 1. 0.35\n",
       "2. 0.65\n",
       "\n",
       "\n",
       "\n",
       "\n",
       "\n",
       "\n",
       "\n",
       "\n"
      ],
      "text/plain": [
       "$num_vars\n",
       "[1] 17\n",
       "\n",
       "$names\n",
       " [1] \"phen_VegTherTimeResp_X3\"   \"phen_RepTherTimeResp_X3\"  \n",
       " [3] \"phen_VegPhoMod_X1\"         \"phen_RepPhoMod_X1\"        \n",
       " [5] \"phen_VegetativeTarget\"     \"phen_EarlyFloweringTarget\"\n",
       " [7] \"phen_EarlyPodDevTarget\"    \"phen_FractGrainFill\"      \n",
       " [9] \"phen_MidGrainFill\"         \"phen_EntGrainFill\"        \n",
       "[11] \"phen_Maturing\"             \"phen_Ripening\"            \n",
       "[13] \"leaf_RUE\"                  \"leaf_AreaLargLeaf\"        \n",
       "[15] \"leaf_Phyllochron\"          \"leaf_ExtinctionCoef_Y1\"   \n",
       "[17] \"grain_HarvIndex\"          \n",
       "\n",
       "$bounds\n",
       "$bounds[[1]]\n",
       "[1] 21 39\n",
       "\n",
       "$bounds[[2]]\n",
       "[1] 21 39\n",
       "\n",
       "$bounds[[3]]\n",
       "[1] 10.5 14.5\n",
       "\n",
       "$bounds[[4]]\n",
       "[1] 10.5 14.5\n",
       "\n",
       "$bounds[[5]]\n",
       "[1] 200 600\n",
       "\n",
       "$bounds[[6]]\n",
       "[1] 100 300\n",
       "\n",
       "$bounds[[7]]\n",
       "[1]  70 210\n",
       "\n",
       "$bounds[[8]]\n",
       "[1] 0.035 0.065\n",
       "\n",
       "$bounds[[9]]\n",
       "[1] 0.35 0.65\n",
       "\n",
       "$bounds[[10]]\n",
       "[1] 250 750\n",
       "\n",
       "$bounds[[11]]\n",
       "[1] 35 65\n",
       "\n",
       "$bounds[[12]]\n",
       "[1] 35 65\n",
       "\n",
       "$bounds[[13]]\n",
       "[1] 0.8 1.6\n",
       "\n",
       "$bounds[[14]]\n",
       "[1] 0.004 0.008\n",
       "\n",
       "$bounds[[15]]\n",
       "[1] 35 65\n",
       "\n",
       "$bounds[[16]]\n",
       "[1] 0.4 0.8\n",
       "\n",
       "$bounds[[17]]\n",
       "[1] 0.35 0.65\n",
       "\n"
      ]
     },
     "metadata": {},
     "output_type": "display_data"
    }
   ],
   "source": [
    "sensi$import_or_overwrite_problem(\"sensitivity_problem.R\")\n",
    "sensi$problem"
   ]
  },
  {
   "cell_type": "markdown",
   "id": "bd062f03",
   "metadata": {},
   "source": [
    "# Generate samples or plot it"
   ]
  },
  {
   "cell_type": "code",
   "execution_count": 47,
   "id": "9e40009c",
   "metadata": {
    "vscode": {
     "languageId": "r"
    }
   },
   "outputs": [
    {
     "name": "stderr",
     "output_type": "stream",
     "text": [
      "\u001b[33m!\u001b[39m Samples file samples.csv already exists! However, it will be overwritten.\n",
      "\n"
     ]
    },
    {
     "name": "stdout",
     "output_type": "stream",
     "text": [
      "[1] 72 18\n"
     ]
    },
    {
     "name": "stderr",
     "output_type": "stream",
     "text": [
      "\u001b[32m✔\u001b[39m File samples.csv saved!\n",
      "\n"
     ]
    }
   ],
   "source": [
    "sensi$generate_samples(method = \"SOBOL\", n_samples = 2L)"
   ]
  },
  {
   "cell_type": "code",
   "execution_count": 48,
   "id": "a4373501",
   "metadata": {
    "vscode": {
     "languageId": "r"
    }
   },
   "outputs": [
    {
     "data": {
      "text/html": [
       "<table class=\"dataframe\">\n",
       "<caption>A data.frame: 6 × 18</caption>\n",
       "<thead>\n",
       "\t<tr><th></th><th scope=col>id</th><th scope=col>phen_VegTherTimeResp_X3</th><th scope=col>phen_RepTherTimeResp_X3</th><th scope=col>phen_VegPhoMod_X1</th><th scope=col>phen_RepPhoMod_X1</th><th scope=col>phen_VegetativeTarget</th><th scope=col>phen_EarlyFloweringTarget</th><th scope=col>phen_EarlyPodDevTarget</th><th scope=col>phen_FractGrainFill</th><th scope=col>phen_MidGrainFill</th><th scope=col>phen_EntGrainFill</th><th scope=col>phen_Maturing</th><th scope=col>phen_Ripening</th><th scope=col>leaf_RUE</th><th scope=col>leaf_AreaLargLeaf</th><th scope=col>leaf_Phyllochron</th><th scope=col>leaf_ExtinctionCoef_Y1</th><th scope=col>grain_HarvIndex</th></tr>\n",
       "\t<tr><th></th><th scope=col>&lt;chr&gt;</th><th scope=col>&lt;dbl&gt;</th><th scope=col>&lt;dbl&gt;</th><th scope=col>&lt;dbl&gt;</th><th scope=col>&lt;dbl&gt;</th><th scope=col>&lt;dbl&gt;</th><th scope=col>&lt;dbl&gt;</th><th scope=col>&lt;dbl&gt;</th><th scope=col>&lt;dbl&gt;</th><th scope=col>&lt;dbl&gt;</th><th scope=col>&lt;dbl&gt;</th><th scope=col>&lt;dbl&gt;</th><th scope=col>&lt;dbl&gt;</th><th scope=col>&lt;dbl&gt;</th><th scope=col>&lt;dbl&gt;</th><th scope=col>&lt;dbl&gt;</th><th scope=col>&lt;dbl&gt;</th><th scope=col>&lt;dbl&gt;</th></tr>\n",
       "</thead>\n",
       "<tbody>\n",
       "\t<tr><th scope=row>1</th><td>1</td><td>21.56097</td><td>29.20228</td><td>13.5385</td><td>13.21032</td><td>517.1273</td><td>283.1753</td><td>177.27</td><td>0.04724507</td><td>0.4399031</td><td>358.0218</td><td>64.32695</td><td>54.77589</td><td>1.416003</td><td>0.007542648</td><td>58.95869</td><td>0.4590308</td><td>0.3881022</td></tr>\n",
       "\t<tr><th scope=row>2</th><td>2</td><td>31.23215</td><td>29.20228</td><td>13.5385</td><td>13.21032</td><td>517.1273</td><td>283.1753</td><td>177.27</td><td>0.04724507</td><td>0.4399031</td><td>358.0218</td><td>64.32695</td><td>54.77589</td><td>1.416003</td><td>0.007542648</td><td>58.95869</td><td>0.4590308</td><td>0.3881022</td></tr>\n",
       "\t<tr><th scope=row>3</th><td>3</td><td>21.56097</td><td>37.48754</td><td>13.5385</td><td>13.21032</td><td>517.1273</td><td>283.1753</td><td>177.27</td><td>0.04724507</td><td>0.4399031</td><td>358.0218</td><td>64.32695</td><td>54.77589</td><td>1.416003</td><td>0.007542648</td><td>58.95869</td><td>0.4590308</td><td>0.3881022</td></tr>\n",
       "\t<tr><th scope=row>4</th><td>4</td><td>21.56097</td><td>29.20228</td><td>12.0442</td><td>13.21032</td><td>517.1273</td><td>283.1753</td><td>177.27</td><td>0.04724507</td><td>0.4399031</td><td>358.0218</td><td>64.32695</td><td>54.77589</td><td>1.416003</td><td>0.007542648</td><td>58.95869</td><td>0.4590308</td><td>0.3881022</td></tr>\n",
       "\t<tr><th scope=row>5</th><td>5</td><td>21.56097</td><td>29.20228</td><td>13.5385</td><td>12.27875</td><td>517.1273</td><td>283.1753</td><td>177.27</td><td>0.04724507</td><td>0.4399031</td><td>358.0218</td><td>64.32695</td><td>54.77589</td><td>1.416003</td><td>0.007542648</td><td>58.95869</td><td>0.4590308</td><td>0.3881022</td></tr>\n",
       "\t<tr><th scope=row>6</th><td>6</td><td>21.56097</td><td>29.20228</td><td>13.5385</td><td>13.21032</td><td>207.5495</td><td>283.1753</td><td>177.27</td><td>0.04724507</td><td>0.4399031</td><td>358.0218</td><td>64.32695</td><td>54.77589</td><td>1.416003</td><td>0.007542648</td><td>58.95869</td><td>0.4590308</td><td>0.3881022</td></tr>\n",
       "</tbody>\n",
       "</table>\n"
      ],
      "text/latex": [
       "A data.frame: 6 × 18\n",
       "\\begin{tabular}{r|llllllllllllllllll}\n",
       "  & id & phen\\_VegTherTimeResp\\_X3 & phen\\_RepTherTimeResp\\_X3 & phen\\_VegPhoMod\\_X1 & phen\\_RepPhoMod\\_X1 & phen\\_VegetativeTarget & phen\\_EarlyFloweringTarget & phen\\_EarlyPodDevTarget & phen\\_FractGrainFill & phen\\_MidGrainFill & phen\\_EntGrainFill & phen\\_Maturing & phen\\_Ripening & leaf\\_RUE & leaf\\_AreaLargLeaf & leaf\\_Phyllochron & leaf\\_ExtinctionCoef\\_Y1 & grain\\_HarvIndex\\\\\n",
       "  & <chr> & <dbl> & <dbl> & <dbl> & <dbl> & <dbl> & <dbl> & <dbl> & <dbl> & <dbl> & <dbl> & <dbl> & <dbl> & <dbl> & <dbl> & <dbl> & <dbl> & <dbl>\\\\\n",
       "\\hline\n",
       "\t1 & 1 & 21.56097 & 29.20228 & 13.5385 & 13.21032 & 517.1273 & 283.1753 & 177.27 & 0.04724507 & 0.4399031 & 358.0218 & 64.32695 & 54.77589 & 1.416003 & 0.007542648 & 58.95869 & 0.4590308 & 0.3881022\\\\\n",
       "\t2 & 2 & 31.23215 & 29.20228 & 13.5385 & 13.21032 & 517.1273 & 283.1753 & 177.27 & 0.04724507 & 0.4399031 & 358.0218 & 64.32695 & 54.77589 & 1.416003 & 0.007542648 & 58.95869 & 0.4590308 & 0.3881022\\\\\n",
       "\t3 & 3 & 21.56097 & 37.48754 & 13.5385 & 13.21032 & 517.1273 & 283.1753 & 177.27 & 0.04724507 & 0.4399031 & 358.0218 & 64.32695 & 54.77589 & 1.416003 & 0.007542648 & 58.95869 & 0.4590308 & 0.3881022\\\\\n",
       "\t4 & 4 & 21.56097 & 29.20228 & 12.0442 & 13.21032 & 517.1273 & 283.1753 & 177.27 & 0.04724507 & 0.4399031 & 358.0218 & 64.32695 & 54.77589 & 1.416003 & 0.007542648 & 58.95869 & 0.4590308 & 0.3881022\\\\\n",
       "\t5 & 5 & 21.56097 & 29.20228 & 13.5385 & 12.27875 & 517.1273 & 283.1753 & 177.27 & 0.04724507 & 0.4399031 & 358.0218 & 64.32695 & 54.77589 & 1.416003 & 0.007542648 & 58.95869 & 0.4590308 & 0.3881022\\\\\n",
       "\t6 & 6 & 21.56097 & 29.20228 & 13.5385 & 13.21032 & 207.5495 & 283.1753 & 177.27 & 0.04724507 & 0.4399031 & 358.0218 & 64.32695 & 54.77589 & 1.416003 & 0.007542648 & 58.95869 & 0.4590308 & 0.3881022\\\\\n",
       "\\end{tabular}\n"
      ],
      "text/markdown": [
       "\n",
       "A data.frame: 6 × 18\n",
       "\n",
       "| <!--/--> | id &lt;chr&gt; | phen_VegTherTimeResp_X3 &lt;dbl&gt; | phen_RepTherTimeResp_X3 &lt;dbl&gt; | phen_VegPhoMod_X1 &lt;dbl&gt; | phen_RepPhoMod_X1 &lt;dbl&gt; | phen_VegetativeTarget &lt;dbl&gt; | phen_EarlyFloweringTarget &lt;dbl&gt; | phen_EarlyPodDevTarget &lt;dbl&gt; | phen_FractGrainFill &lt;dbl&gt; | phen_MidGrainFill &lt;dbl&gt; | phen_EntGrainFill &lt;dbl&gt; | phen_Maturing &lt;dbl&gt; | phen_Ripening &lt;dbl&gt; | leaf_RUE &lt;dbl&gt; | leaf_AreaLargLeaf &lt;dbl&gt; | leaf_Phyllochron &lt;dbl&gt; | leaf_ExtinctionCoef_Y1 &lt;dbl&gt; | grain_HarvIndex &lt;dbl&gt; |\n",
       "|---|---|---|---|---|---|---|---|---|---|---|---|---|---|---|---|---|---|---|\n",
       "| 1 | 1 | 21.56097 | 29.20228 | 13.5385 | 13.21032 | 517.1273 | 283.1753 | 177.27 | 0.04724507 | 0.4399031 | 358.0218 | 64.32695 | 54.77589 | 1.416003 | 0.007542648 | 58.95869 | 0.4590308 | 0.3881022 |\n",
       "| 2 | 2 | 31.23215 | 29.20228 | 13.5385 | 13.21032 | 517.1273 | 283.1753 | 177.27 | 0.04724507 | 0.4399031 | 358.0218 | 64.32695 | 54.77589 | 1.416003 | 0.007542648 | 58.95869 | 0.4590308 | 0.3881022 |\n",
       "| 3 | 3 | 21.56097 | 37.48754 | 13.5385 | 13.21032 | 517.1273 | 283.1753 | 177.27 | 0.04724507 | 0.4399031 | 358.0218 | 64.32695 | 54.77589 | 1.416003 | 0.007542648 | 58.95869 | 0.4590308 | 0.3881022 |\n",
       "| 4 | 4 | 21.56097 | 29.20228 | 12.0442 | 13.21032 | 517.1273 | 283.1753 | 177.27 | 0.04724507 | 0.4399031 | 358.0218 | 64.32695 | 54.77589 | 1.416003 | 0.007542648 | 58.95869 | 0.4590308 | 0.3881022 |\n",
       "| 5 | 5 | 21.56097 | 29.20228 | 13.5385 | 12.27875 | 517.1273 | 283.1753 | 177.27 | 0.04724507 | 0.4399031 | 358.0218 | 64.32695 | 54.77589 | 1.416003 | 0.007542648 | 58.95869 | 0.4590308 | 0.3881022 |\n",
       "| 6 | 6 | 21.56097 | 29.20228 | 13.5385 | 13.21032 | 207.5495 | 283.1753 | 177.27 | 0.04724507 | 0.4399031 | 358.0218 | 64.32695 | 54.77589 | 1.416003 | 0.007542648 | 58.95869 | 0.4590308 | 0.3881022 |\n",
       "\n"
      ],
      "text/plain": [
       "  id phen_VegTherTimeResp_X3 phen_RepTherTimeResp_X3 phen_VegPhoMod_X1\n",
       "1 1  21.56097                29.20228                13.5385          \n",
       "2 2  31.23215                29.20228                13.5385          \n",
       "3 3  21.56097                37.48754                13.5385          \n",
       "4 4  21.56097                29.20228                12.0442          \n",
       "5 5  21.56097                29.20228                13.5385          \n",
       "6 6  21.56097                29.20228                13.5385          \n",
       "  phen_RepPhoMod_X1 phen_VegetativeTarget phen_EarlyFloweringTarget\n",
       "1 13.21032          517.1273              283.1753                 \n",
       "2 13.21032          517.1273              283.1753                 \n",
       "3 13.21032          517.1273              283.1753                 \n",
       "4 13.21032          517.1273              283.1753                 \n",
       "5 12.27875          517.1273              283.1753                 \n",
       "6 13.21032          207.5495              283.1753                 \n",
       "  phen_EarlyPodDevTarget phen_FractGrainFill phen_MidGrainFill\n",
       "1 177.27                 0.04724507          0.4399031        \n",
       "2 177.27                 0.04724507          0.4399031        \n",
       "3 177.27                 0.04724507          0.4399031        \n",
       "4 177.27                 0.04724507          0.4399031        \n",
       "5 177.27                 0.04724507          0.4399031        \n",
       "6 177.27                 0.04724507          0.4399031        \n",
       "  phen_EntGrainFill phen_Maturing phen_Ripening leaf_RUE leaf_AreaLargLeaf\n",
       "1 358.0218          64.32695      54.77589      1.416003 0.007542648      \n",
       "2 358.0218          64.32695      54.77589      1.416003 0.007542648      \n",
       "3 358.0218          64.32695      54.77589      1.416003 0.007542648      \n",
       "4 358.0218          64.32695      54.77589      1.416003 0.007542648      \n",
       "5 358.0218          64.32695      54.77589      1.416003 0.007542648      \n",
       "6 358.0218          64.32695      54.77589      1.416003 0.007542648      \n",
       "  leaf_Phyllochron leaf_ExtinctionCoef_Y1 grain_HarvIndex\n",
       "1 58.95869         0.4590308              0.3881022      \n",
       "2 58.95869         0.4590308              0.3881022      \n",
       "3 58.95869         0.4590308              0.3881022      \n",
       "4 58.95869         0.4590308              0.3881022      \n",
       "5 58.95869         0.4590308              0.3881022      \n",
       "6 58.95869         0.4590308              0.3881022      "
      ]
     },
     "metadata": {},
     "output_type": "display_data"
    },
    {
     "data": {
      "image/png": "[encoded data removed]",
      "text/plain": [
       "plot without title"
      ]
     },
     "metadata": {
      "image/png": {
       "height": 420,
       "width": 420
      }
     },
     "output_type": "display_data"
    }
   ],
   "source": [
    "head(sensi$samples_df)\n",
    "sensi$samples_df.plot()"
   ]
  },
  {
   "cell_type": "code",
   "execution_count": 49,
   "id": "a9d47218",
   "metadata": {
    "vscode": {
     "languageId": "r"
    }
   },
   "outputs": [
    {
     "name": "stderr",
     "output_type": "stream",
     "text": [
      "\u001b[32m✔\u001b[39m Folder: /home/luanabeckerdaluz/git/rapsimx/tmp\n",
      "\n",
      "\u001b[32m✔\u001b[39m Parallel enabled! Multicores = 2\n",
      "\n"
     ]
    },
    {
     "name": "stderr",
     "output_type": "stream",
     "text": [
      "\u001b[32m✔\u001b[39m ApsimX command = /usr/local/bin/Models\n",
      "\n",
      "\u001b[32m✔\u001b[39m File problem.rds is available!\n",
      "\n",
      "\u001b[32m✔\u001b[39m File samples.csv is available!\n",
      "\n",
      "\u001b[32m✔\u001b[39m File summarized.csv is available!\n",
      "\n",
      "\u001b[33m!\u001b[39m File salib.csv does not exist!\n",
      "\n",
      "\u001b[36mℹ\u001b[39m Summary:\n",
      "\n",
      "\u001b[36mℹ\u001b[39m   Folder = /home/luanabeckerdaluz/git/rapsimx/tmp\n",
      "\n",
      "\u001b[36mℹ\u001b[39m   Number of dbs: 2\n",
      "\n",
      "\u001b[36mℹ\u001b[39m   Number of apsimxs: 2\n",
      "\n"
     ]
    }
   ],
   "source": [
    "sensi$info()"
   ]
  },
  {
   "cell_type": "markdown",
   "id": "06ed5c03",
   "metadata": {},
   "source": [
    "# Generate simulations"
   ]
  },
  {
   "cell_type": "code",
   "execution_count": 50,
   "id": "484da849",
   "metadata": {
    "vscode": {
     "languageId": "r"
    }
   },
   "outputs": [
    {
     "name": "stderr",
     "output_type": "stream",
     "text": [
      "\u001b[32m✔\u001b[39m Generating 72 samples...\n",
      "\n",
      "\u001b[32m✔\u001b[39m Running in parallel with 2 cores\n",
      "\n"
     ]
    },
    {
     "name": "stderr",
     "output_type": "stream",
     "text": [
      "\u001b[36mℹ\u001b[39m Summary:\n",
      "\n",
      "\u001b[36mℹ\u001b[39m   Folder = /home/luanabeckerdaluz/git/rapsimx/tmp\n",
      "\n",
      "\u001b[36mℹ\u001b[39m   Number of dbs: 2\n",
      "\n",
      "\u001b[36mℹ\u001b[39m   Number of apsimxs: 72\n",
      "\n"
     ]
    }
   ],
   "source": [
    "sensi$generate_apsimxs(\n",
    "  sensit_base_sim_filepath = \"../base_simulations/Soy-BR-clean.apsimx\",\n",
    "  # runs_only_some_n = 2L,\n",
    "  dry_run = FALSE\n",
    ")"
   ]
  },
  {
   "cell_type": "markdown",
   "id": "7b0dac31",
   "metadata": {},
   "source": [
    "# Run simulations"
   ]
  },
  {
   "cell_type": "code",
   "execution_count": 51,
   "id": "6cd66635",
   "metadata": {
    "vscode": {
     "languageId": "r"
    }
   },
   "outputs": [
    {
     "name": "stderr",
     "output_type": "stream",
     "text": [
      "\u001b[32m✔\u001b[39m Running 72 apsimx simulations...\n",
      "\n",
      "\u001b[32m✔\u001b[39m Running in parallel with 2 cores\n",
      "\n"
     ]
    },
    {
     "name": "stderr",
     "output_type": "stream",
     "text": [
      "\u001b[36mℹ\u001b[39m Summary:\n",
      "\n",
      "\u001b[36mℹ\u001b[39m   Folder = /home/luanabeckerdaluz/git/rapsimx/tmp\n",
      "\n",
      "\u001b[36mℹ\u001b[39m   Number of dbs: 72\n",
      "\n",
      "\u001b[36mℹ\u001b[39m   Number of apsimxs: 72\n",
      "\n"
     ]
    }
   ],
   "source": [
    "sensi$run(\n",
    "  # runs_only_some_n = 2L,\n",
    "  # simulations_names = NULL,\n",
    "  # ids_to_run = NULL,\n",
    "  # dry_run = FALSE\n",
    ")"
   ]
  },
  {
   "cell_type": "markdown",
   "id": "0e467242",
   "metadata": {},
   "source": [
    "# Summarize db's"
   ]
  },
  {
   "cell_type": "code",
   "execution_count": 52,
   "id": "4f73b70b",
   "metadata": {
    "vscode": {
     "languageId": "r"
    }
   },
   "outputs": [
    {
     "name": "stderr",
     "output_type": "stream",
     "text": [
      "\u001b[33m!\u001b[39m summarized.csv file already exists. Overwriting...\n",
      "\n",
      "\u001b[32m✔\u001b[39m Running in parallel with 2 cores\n",
      "\n"
     ]
    },
    {
     "name": "stdout",
     "output_type": "stream",
     "text": [
      "[1] 72 10\n"
     ]
    },
    {
     "name": "stderr",
     "output_type": "stream",
     "text": [
      "\u001b[32m✔\u001b[39m File 'summarized.csv' saved!\n",
      "\n"
     ]
    }
   ],
   "source": [
    "sensi$summarize(\n",
    "  # ids_to_summarize = c(1,10),\n",
    "  # number_of_fields_to_check = 32L,\n",
    "  # runs_only_some_n = 2L,\n",
    "  # dry_run = FALSE\n",
    ")"
   ]
  },
  {
   "cell_type": "code",
   "execution_count": 55,
   "id": "5f7094fa",
   "metadata": {
    "vscode": {
     "languageId": "r"
    }
   },
   "outputs": [
    {
     "data": {
      "text/html": [
       "<style>\n",
       ".list-inline {list-style: none; margin:0; padding: 0}\n",
       ".list-inline>li {display: inline-block}\n",
       ".list-inline>li:not(:last-child)::after {content: \"\\00b7\"; padding: 0 .5ex}\n",
       "</style>\n",
       "<ol class=list-inline><li>72</li><li>10</li></ol>\n"
      ],
      "text/latex": [
       "\\begin{enumerate*}\n",
       "\\item 72\n",
       "\\item 10\n",
       "\\end{enumerate*}\n"
      ],
      "text/markdown": [
       "1. 72\n",
       "2. 10\n",
       "\n",
       "\n"
      ],
      "text/plain": [
       "[1] 72 10"
      ]
     },
     "metadata": {},
     "output_type": "display_data"
    },
    {
     "data": {
      "text/html": [
       "<table class=\"dataframe\">\n",
       "<caption>A data.frame: 6 × 10</caption>\n",
       "<thead>\n",
       "\t<tr><th></th><th scope=col>id</th><th scope=col>SimulationID</th><th scope=col>CheckpointID</th><th scope=col>Zone</th><th scope=col>Clock.Today</th><th scope=col>Biomass</th><th scope=col>Yield</th><th scope=col>Soybean.Phenology.FloweringDAS</th><th scope=col>Soybean.Phenology.MaturityDAS</th><th scope=col>Name</th></tr>\n",
       "\t<tr><th></th><th scope=col>&lt;dbl&gt;</th><th scope=col>&lt;int&gt;</th><th scope=col>&lt;int&gt;</th><th scope=col>&lt;chr&gt;</th><th scope=col>&lt;chr&gt;</th><th scope=col>&lt;dbl&gt;</th><th scope=col>&lt;dbl&gt;</th><th scope=col>&lt;dbl&gt;</th><th scope=col>&lt;dbl&gt;</th><th scope=col>&lt;chr&gt;</th></tr>\n",
       "</thead>\n",
       "<tbody>\n",
       "\t<tr><th scope=row>1</th><td> 1</td><td>1</td><td>1</td><td>paddock</td><td>2016-03-13 12:00:00</td><td>8244.653</td><td>2987.827</td><td>46</td><td>111</td><td>CR16</td></tr>\n",
       "\t<tr><th scope=row>2</th><td>10</td><td>1</td><td>1</td><td>paddock</td><td>2016-03-13 12:00:00</td><td>8328.615</td><td>2984.947</td><td>46</td><td>111</td><td>CR16</td></tr>\n",
       "\t<tr><th scope=row>3</th><td>11</td><td>1</td><td>1</td><td>paddock</td><td>2016-03-30 12:00:00</td><td>9520.541</td><td>3268.629</td><td>46</td><td>128</td><td>CR16</td></tr>\n",
       "\t<tr><th scope=row>4</th><td>12</td><td>1</td><td>1</td><td>paddock</td><td>2016-03-10 12:00:00</td><td>8199.715</td><td>2975.844</td><td>46</td><td>109</td><td>CR16</td></tr>\n",
       "\t<tr><th scope=row>5</th><td>13</td><td>1</td><td>1</td><td>paddock</td><td>2016-03-12 12:00:00</td><td>8269.933</td><td>2987.827</td><td>46</td><td>111</td><td>CR16</td></tr>\n",
       "\t<tr><th scope=row>6</th><td>14</td><td>1</td><td>1</td><td>paddock</td><td>2016-03-13 12:00:00</td><td>7801.629</td><td>2841.919</td><td>46</td><td>111</td><td>CR16</td></tr>\n",
       "</tbody>\n",
       "</table>\n"
      ],
      "text/latex": [
       "A data.frame: 6 × 10\n",
       "\\begin{tabular}{r|llllllllll}\n",
       "  & id & SimulationID & CheckpointID & Zone & Clock.Today & Biomass & Yield & Soybean.Phenology.FloweringDAS & Soybean.Phenology.MaturityDAS & Name\\\\\n",
       "  & <dbl> & <int> & <int> & <chr> & <chr> & <dbl> & <dbl> & <dbl> & <dbl> & <chr>\\\\\n",
       "\\hline\n",
       "\t1 &  1 & 1 & 1 & paddock & 2016-03-13 12:00:00 & 8244.653 & 2987.827 & 46 & 111 & CR16\\\\\n",
       "\t2 & 10 & 1 & 1 & paddock & 2016-03-13 12:00:00 & 8328.615 & 2984.947 & 46 & 111 & CR16\\\\\n",
       "\t3 & 11 & 1 & 1 & paddock & 2016-03-30 12:00:00 & 9520.541 & 3268.629 & 46 & 128 & CR16\\\\\n",
       "\t4 & 12 & 1 & 1 & paddock & 2016-03-10 12:00:00 & 8199.715 & 2975.844 & 46 & 109 & CR16\\\\\n",
       "\t5 & 13 & 1 & 1 & paddock & 2016-03-12 12:00:00 & 8269.933 & 2987.827 & 46 & 111 & CR16\\\\\n",
       "\t6 & 14 & 1 & 1 & paddock & 2016-03-13 12:00:00 & 7801.629 & 2841.919 & 46 & 111 & CR16\\\\\n",
       "\\end{tabular}\n"
      ],
      "text/markdown": [
       "\n",
       "A data.frame: 6 × 10\n",
       "\n",
       "| <!--/--> | id &lt;dbl&gt; | SimulationID &lt;int&gt; | CheckpointID &lt;int&gt; | Zone &lt;chr&gt; | Clock.Today &lt;chr&gt; | Biomass &lt;dbl&gt; | Yield &lt;dbl&gt; | Soybean.Phenology.FloweringDAS &lt;dbl&gt; | Soybean.Phenology.MaturityDAS &lt;dbl&gt; | Name &lt;chr&gt; |\n",
       "|---|---|---|---|---|---|---|---|---|---|---|\n",
       "| 1 |  1 | 1 | 1 | paddock | 2016-03-13 12:00:00 | 8244.653 | 2987.827 | 46 | 111 | CR16 |\n",
       "| 2 | 10 | 1 | 1 | paddock | 2016-03-13 12:00:00 | 8328.615 | 2984.947 | 46 | 111 | CR16 |\n",
       "| 3 | 11 | 1 | 1 | paddock | 2016-03-30 12:00:00 | 9520.541 | 3268.629 | 46 | 128 | CR16 |\n",
       "| 4 | 12 | 1 | 1 | paddock | 2016-03-10 12:00:00 | 8199.715 | 2975.844 | 46 | 109 | CR16 |\n",
       "| 5 | 13 | 1 | 1 | paddock | 2016-03-12 12:00:00 | 8269.933 | 2987.827 | 46 | 111 | CR16 |\n",
       "| 6 | 14 | 1 | 1 | paddock | 2016-03-13 12:00:00 | 7801.629 | 2841.919 | 46 | 111 | CR16 |\n",
       "\n"
      ],
      "text/plain": [
       "  id SimulationID CheckpointID Zone    Clock.Today         Biomass  Yield   \n",
       "1  1 1            1            paddock 2016-03-13 12:00:00 8244.653 2987.827\n",
       "2 10 1            1            paddock 2016-03-13 12:00:00 8328.615 2984.947\n",
       "3 11 1            1            paddock 2016-03-30 12:00:00 9520.541 3268.629\n",
       "4 12 1            1            paddock 2016-03-10 12:00:00 8199.715 2975.844\n",
       "5 13 1            1            paddock 2016-03-12 12:00:00 8269.933 2987.827\n",
       "6 14 1            1            paddock 2016-03-13 12:00:00 7801.629 2841.919\n",
       "  Soybean.Phenology.FloweringDAS Soybean.Phenology.MaturityDAS Name\n",
       "1 46                             111                           CR16\n",
       "2 46                             111                           CR16\n",
       "3 46                             128                           CR16\n",
       "4 46                             109                           CR16\n",
       "5 46                             111                           CR16\n",
       "6 46                             111                           CR16"
      ]
     },
     "metadata": {},
     "output_type": "display_data"
    },
    {
     "name": "stderr",
     "output_type": "stream",
     "text": [
      "\u001b[32m✔\u001b[39m Folder: /home/luanabeckerdaluz/git/rapsimx/tmp\n",
      "\n",
      "\u001b[32m✔\u001b[39m Parallel enabled! Multicores = 2\n",
      "\n",
      "\u001b[32m✔\u001b[39m ApsimX command = /usr/local/bin/Models\n",
      "\n",
      "\u001b[32m✔\u001b[39m File problem.rds is available!\n",
      "\n",
      "\u001b[32m✔\u001b[39m File samples.csv is available!\n",
      "\n",
      "\u001b[32m✔\u001b[39m File summarized.csv is available!\n",
      "\n",
      "\u001b[33m!\u001b[39m File salib.csv does not exist!\n",
      "\n",
      "\u001b[36mℹ\u001b[39m Summary:\n",
      "\n",
      "\u001b[36mℹ\u001b[39m   Folder = /home/luanabeckerdaluz/git/rapsimx/tmp\n",
      "\n",
      "\u001b[36mℹ\u001b[39m   Number of dbs: 72\n",
      "\n",
      "\u001b[36mℹ\u001b[39m   Number of apsimxs: 72\n",
      "\n"
     ]
    }
   ],
   "source": [
    "# sensi$summarize_info()\n",
    "# # printa df\n",
    "# # printa dim\n",
    "# # printa plot\n",
    "\n",
    "\n",
    "dim(sensi$summarize_df)\n",
    "head(sensi$summarize_df)\n",
    "sensi$info()"
   ]
  },
  {
   "cell_type": "markdown",
   "id": "7bf9fe11",
   "metadata": {},
   "source": [
    "# Run SALib"
   ]
  },
  {
   "cell_type": "code",
   "execution_count": 56,
   "id": "e7d02359",
   "metadata": {
    "vscode": {
     "languageId": "r"
    }
   },
   "outputs": [
    {
     "name": "stderr",
     "output_type": "stream",
     "text": [
      "\u001b[32m✔\u001b[39m Running in parallel with 2 cores\n",
      "\n"
     ]
    },
    {
     "name": "stdout",
     "output_type": "stream",
     "text": [
      "[1] \"POSSIVEL1\"\n",
      "[1] \"POSSIVEL2\"\n",
      "[1] \"POSSIVEL3\"\n",
      "[1] \"POSSIVEL4\"\n",
      "[1] \"POSSIVEL5\"\n",
      "[1] \"POSSIVEL5\"\n",
      "[1] \"POSSIVEL1\"\n",
      "[1] \"POSSIVEL2\"\n",
      "[1] \"POSSIVEL3\"\n",
      "[1] \"POSSIVEL4\"\n",
      "[1] \"POSSIVEL5\"\n",
      "[1] \"POSSIVEL5\"\n",
      "[1] \"POSSIVEL1\"\n",
      "[1] \"POSSIVEL2\"\n",
      "[1] \"POSSIVEL3\"\n",
      "[1] \"POSSIVEL4\"\n",
      "[1] \"POSSIVEL5\"\n",
      "[1] \"POSSIVEL5\"\n",
      "[1] \"POSSIVEL1\"\n",
      "[1] \"POSSIVEL2\"\n",
      "[1] \"POSSIVEL3\"\n",
      "[1] \"POSSIVEL4\"\n",
      "[1] \"POSSIVEL5\"\n",
      "[1] \"POSSIVEL5\"\n",
      "[1] 68  7\n"
     ]
    },
    {
     "ename": "ERROR",
     "evalue": "Error in as_tibble(head(self$salib_df)): could not find function \"as_tibble\"\n",
     "output_type": "error",
     "traceback": [
      "Error in as_tibble(head(self$salib_df)): could not find function \"as_tibble\"\nTraceback:\n",
      "1. print(as_tibble(head(self$salib_df)))",
      "2. .handleSimpleError(function (cnd) \n . {\n .     watcher$capture_plot_and_output()\n .     cnd <- sanitize_call(cnd)\n .     watcher$push(cnd)\n .     switch(on_error, continue = invokeRestart(\"eval_continue\"), \n .         stop = invokeRestart(\"eval_stop\"), error = NULL)\n . }, \"could not find function \\\"as_tibble\\\"\", base::quote(as_tibble(head(self$salib_df))))"
     ]
    }
   ],
   "source": [
    "sensi$compute_salib_for_all_params_and_fields(\n",
    "  \"Name\",\n",
    "  salib_sobol = TRUE,\n",
    "  columns_to_exclude = c(\"SimulationID\", \"CheckpointID\", \"Zone\", \"Clock.Today\", \"Name\", \"id\"),\n",
    "  fix_NAs_with_mean = FALSE,\n",
    "  dry_run = FALSE\n",
    ")"
   ]
  },
  {
   "cell_type": "code",
   "execution_count": null,
   "id": "800abc9f",
   "metadata": {
    "vscode": {
     "languageId": "r"
    }
   },
   "outputs": [],
   "source": []
  },
  {
   "cell_type": "code",
   "execution_count": null,
   "id": "ff21473a",
   "metadata": {
    "vscode": {
     "languageId": "r"
    }
   },
   "outputs": [],
   "source": []
  }
 ],
 "metadata": {
  "kernelspec": {
   "display_name": "R",
   "language": "R",
   "name": "ir"
  },
  "language_info": {
   "codemirror_mode": "r",
   "file_extension": ".r",
   "mimetype": "text/x-r-source",
   "name": "R",
   "pygments_lexer": "r",
   "version": "4.4.3"
  }
 },
 "nbformat": 4,
 "nbformat_minor": 5
}
