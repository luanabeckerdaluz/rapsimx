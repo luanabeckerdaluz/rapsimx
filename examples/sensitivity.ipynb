{
 "cells": [
  {
   "cell_type": "code",
   "execution_count": null,
   "id": "c497df54",
   "metadata": {
    "vscode": {
     "languageId": "r"
    }
   },
   "outputs": [],
   "source": [
    "# remotes::install_github(\"https://github.com/luanabeckerdaluz/rapsimx\", dependencies = FALSE)\n",
    "\n",
    "# install.packages(\"/home/luanabeckerdaluz/git/luanabeckerdaluz/rapsimx\", repos = NULL, type = \"source\")\n",
    "\n",
    "# remove.packages(\"rapsimx\")\n",
    "\n",
    "# detach(\"package:rapsimx\", unload = TRUE, character.only = TRUE)"
   ]
  },
  {
   "cell_type": "code",
   "execution_count": null,
   "id": "a6f9a459",
   "metadata": {
    "vscode": {
     "languageId": "r"
    }
   },
   "outputs": [],
   "source": [
    "sensi <- rapsimx::RApsimxSensitivity(\n",
    "  folder = \"tmp_sensi\",\n",
    "  copy_met_data_from = \"../met_data/\",\n",
    "  multicores = 2,\n",
    "  models_command = NULL\n",
    ")"
   ]
  },
  {
   "cell_type": "code",
   "execution_count": null,
   "id": "a90555a8",
   "metadata": {
    "vscode": {
     "languageId": "r"
    }
   },
   "outputs": [],
   "source": [
    "sensi$import_or_overwrite_problem(\"problem.R\")\n",
    "sensi$problem"
   ]
  },
  {
   "cell_type": "code",
   "execution_count": null,
   "id": "9e40009c",
   "metadata": {
    "vscode": {
     "languageId": "r"
    }
   },
   "outputs": [],
   "source": [
    "sensi$generate_samples(method = \"LHS\", n_samples = 10L)"
   ]
  },
  {
   "cell_type": "code",
   "execution_count": null,
   "id": "a4373501",
   "metadata": {
    "vscode": {
     "languageId": "r"
    }
   },
   "outputs": [],
   "source": [
    "head(sensi$samples_df)\n",
    "sensi$samples_df.plot()"
   ]
  },
  {
   "cell_type": "code",
   "execution_count": null,
   "id": "a9d47218",
   "metadata": {
    "vscode": {
     "languageId": "r"
    }
   },
   "outputs": [],
   "source": [
    "sensi$info()"
   ]
  },
  {
   "cell_type": "code",
   "execution_count": null,
   "id": "484da849",
   "metadata": {
    "vscode": {
     "languageId": "r"
    }
   },
   "outputs": [],
   "source": [
    "sensi$generate_apsimxs(\n",
    "  sensit_base_sim_filepath = \"../base_simulations/Soy-BR-clean.apsimx\",\n",
    "  runs_only_some_n = 10L,\n",
    "  dry_run = FALSE\n",
    ")"
   ]
  },
  {
   "cell_type": "code",
   "execution_count": null,
   "id": "6cd66635",
   "metadata": {
    "vscode": {
     "languageId": "r"
    }
   },
   "outputs": [],
   "source": [
    "sensi$run(\n",
    "  runs_only_some_n = 2L,\n",
    "  simulations_names = NULL,\n",
    "  ids_to_run = NULL,\n",
    "  dry_run = FALSE\n",
    ")"
   ]
  },
  {
   "cell_type": "code",
   "execution_count": null,
   "id": "4f73b70b",
   "metadata": {
    "vscode": {
     "languageId": "r"
    }
   },
   "outputs": [],
   "source": [
    "sensi$summarize(\n",
    "  # ids_to_summarize = c(1,10),\n",
    "  # number_of_fields_to_check = 32L,\n",
    "  # runs_only_some_n = 2L,\n",
    "  # dry_run = FALSE\n",
    ")"
   ]
  },
  {
   "cell_type": "code",
   "execution_count": null,
   "id": "5f7094fa",
   "metadata": {
    "vscode": {
     "languageId": "r"
    }
   },
   "outputs": [],
   "source": [
    "head(sensi$summarize_df)\n",
    "# sensi$info()"
   ]
  },
  {
   "cell_type": "code",
   "execution_count": null,
   "id": "e7d02359",
   "metadata": {
    "vscode": {
     "languageId": "r"
    }
   },
   "outputs": [],
   "source": []
  }
 ],
 "metadata": {
  "kernelspec": {
   "display_name": "R",
   "language": "R",
   "name": "ir"
  },
  "language_info": {
   "codemirror_mode": "r",
   "file_extension": ".r",
   "mimetype": "text/x-r-source",
   "name": "R",
   "pygments_lexer": "r",
   "version": "4.4.3"
  }
 },
 "nbformat": 4,
 "nbformat_minor": 5
}
