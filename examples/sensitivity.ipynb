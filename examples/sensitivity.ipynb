{
 "cells": [
  {
   "cell_type": "code",
   "execution_count": 8,
   "id": "ee2ac1b3",
   "metadata": {
    "vscode": {
     "languageId": "r"
    }
   },
   "outputs": [],
   "source": [
    "# remotes::install_github(\"https://github.com/luanabeckerdaluz/rapsimx\", dependencies = FALSE)"
   ]
  },
  {
   "cell_type": "code",
   "execution_count": 13,
   "id": "d74aa515",
   "metadata": {
    "vscode": {
     "languageId": "r"
    }
   },
   "outputs": [],
   "source": [
    "detach(\"package:rapsimx\", unload = TRUE, character.only = TRUE)"
   ]
  },
  {
   "cell_type": "code",
   "execution_count": null,
   "id": "b7b07ce6",
   "metadata": {
    "vscode": {
     "languageId": "r"
    }
   },
   "outputs": [],
   "source": [
    "# R CMD INSTALL /home/luanabeckerdaluz/git/luanabeckerdaluz/rapsimx"
   ]
  },
  {
   "cell_type": "code",
   "execution_count": 2,
   "id": "c5cfd9b5",
   "metadata": {
    "vscode": {
     "languageId": "r"
    }
   },
   "outputs": [
    {
     "name": "stderr",
     "output_type": "stream",
     "text": [
      "\n",
      "Attaching package: ‘dplyr’\n",
      "\n",
      "\n",
      "The following objects are masked from ‘package:stats’:\n",
      "\n",
      "    filter, lag\n",
      "\n",
      "\n",
      "The following objects are masked from ‘package:base’:\n",
      "\n",
      "    intersect, setdiff, setequal, union\n",
      "\n",
      "\n",
      "\u001b[32m✔\u001b[39m ApsimX Models folder = /usr/local/bin/Models\n",
      "\n",
      "\u001b[32m✔\u001b[39m Multicores = 3\n",
      "\n"
     ]
    }
   ],
   "source": [
    "library(dplyr)\n",
    "library(rapsimx)\n",
    "\n",
    "rapsimx::init(multicores = 3)"
   ]
  },
  {
   "cell_type": "markdown",
   "id": "a39d39f3",
   "metadata": {},
   "source": [
    "# Generate or load sensi folder"
   ]
  },
  {
   "cell_type": "code",
   "execution_count": 6,
   "id": "10b0aa51",
   "metadata": {
    "vscode": {
     "languageId": "r"
    }
   },
   "outputs": [
    {
     "name": "stderr",
     "output_type": "stream",
     "text": [
      "\u001b[32m✔\u001b[39m Folder /home/luanabeckerdaluz/git/luanabeckerdaluz/rapsimx/tmp_sensi_1 already exists. Checking...\n",
      "\n"
     ]
    },
    {
     "data": {
      "text/html": [
       "'/home/luanabeckerdaluz/git/luanabeckerdaluz/rapsimx/tmp_sensi_1'"
      ],
      "text/latex": [
       "'/home/luanabeckerdaluz/git/luanabeckerdaluz/rapsimx/tmp\\_sensi\\_1'"
      ],
      "text/markdown": [
       "'/home/luanabeckerdaluz/git/luanabeckerdaluz/rapsimx/tmp_sensi_1'"
      ],
      "text/plain": [
       "[1] \"/home/luanabeckerdaluz/git/luanabeckerdaluz/rapsimx/tmp_sensi_1\""
      ]
     },
     "metadata": {},
     "output_type": "display_data"
    }
   ],
   "source": [
    "# sensi_tmp_folder <- rapsimx::sensi_generate_folder(\n",
    "#   folderpath = \"../tmp_sensi_1\",\n",
    "#   copy_met_data_from = \"../met_data/\"\n",
    "# )\n",
    "\n",
    "sensi_tmp_folder <- rapsimx::sensi_load_folder(\n",
    "  file.path(\"/home/luanabeckerdaluz/git/luanabeckerdaluz/rapsimx/tmp_sensi_1\")\n",
    ")\n",
    "\n",
    "sensi_tmp_folder"
   ]
  },
  {
   "cell_type": "markdown",
   "id": "8611e448",
   "metadata": {},
   "source": [
    "# Load problem"
   ]
  },
  {
   "cell_type": "code",
   "execution_count": 9,
   "id": "259a08f6",
   "metadata": {
    "vscode": {
     "languageId": "r"
    }
   },
   "outputs": [
    {
     "name": "stderr",
     "output_type": "stream",
     "text": [
      "\u001b[31m✖\u001b[39m 'problem.R' file doesn't exist on /home/luanabeckerdaluz/git/luanabeckerdaluz/rapsimx/examples folder! Please, specify a valid folder!\n",
      "\n"
     ]
    },
    {
     "ename": "ERROR",
     "evalue": "Error in sensi_load_problem(folder): \n",
     "output_type": "error",
     "traceback": [
      "Error in sensi_load_problem(folder): \nTraceback:\n",
      "1. sensi_load_problem(folder)",
      "2. stop()",
      "3. .handleSimpleError(function (cnd) \n . {\n .     watcher$capture_plot_and_output()\n .     cnd <- sanitize_call(cnd)\n .     watcher$push(cnd)\n .     switch(on_error, continue = invokeRestart(\"eval_continue\"), \n .         stop = invokeRestart(\"eval_stop\"), error = NULL)\n . }, \"\", base::quote(sensi_load_problem(folder)))"
     ]
    }
   ],
   "source": [
    "problem <- rapsimx::sensi_load_problem_current_folder()\n",
    "\n",
    "# problem <- rapsimx::sensi_load_problem(sensi_tmp_folder)\n",
    "\n",
    "problem"
   ]
  },
  {
   "cell_type": "markdown",
   "id": "8bc50a8d",
   "metadata": {},
   "source": [
    "# Generate or load samples"
   ]
  },
  {
   "cell_type": "code",
   "execution_count": 4,
   "id": "58b00589",
   "metadata": {
    "vscode": {
     "languageId": "r"
    }
   },
   "outputs": [
    {
     "name": "stderr",
     "output_type": "stream",
     "text": [
      "\u001b[33m!\u001b[39m 'samples.csv' file already exists on /home/luanabeckerdaluz/git/luanabeckerdaluz/rapsimx-sensitivity/tmp_sensi_1 folder! However, it will be overwritten because 'overwrite' parameter was set as TRUE!\n",
      "\n",
      "\u001b[32m✔\u001b[39m File 'samples.csv' was overwriten!\n",
      "\n",
      "\u001b[32m✔\u001b[39m Files 'problem.R' and 'problem.rds' were overwriten!\n",
      "\n",
      "\u001b[32m✔\u001b[39m Loading samples from /home/luanabeckerdaluz/git/luanabeckerdaluz/rapsimx-sensitivity/tmp_sensi_1/samples.csv\n",
      "\n"
     ]
    },
    {
     "data": {
      "text/html": [
       "<table class=\"dataframe\">\n",
       "<caption>A data.frame: 6 × 18</caption>\n",
       "<thead>\n",
       "\t<tr><th></th><th scope=col>id</th><th scope=col>phen_VegTherTimeResp_X3</th><th scope=col>phen_RepTherTimeResp_X3</th><th scope=col>phen_VegPhoMod_X1</th><th scope=col>phen_RepPhoMod_X1</th><th scope=col>phen_VegetativeTarget</th><th scope=col>phen_EarlyFloweringTarget</th><th scope=col>phen_EarlyPodDevTarget</th><th scope=col>phen_FractGrainFill</th><th scope=col>phen_MidGrainFill</th><th scope=col>phen_EntGrainFill</th><th scope=col>phen_Maturing</th><th scope=col>phen_Ripening</th><th scope=col>leaf_RUE</th><th scope=col>leaf_AreaLargLeaf</th><th scope=col>leaf_Phyllochron</th><th scope=col>leaf_ExtinctionCoef_Y1</th><th scope=col>grain_HarvIndex</th></tr>\n",
       "\t<tr><th></th><th scope=col>&lt;int&gt;</th><th scope=col>&lt;dbl&gt;</th><th scope=col>&lt;dbl&gt;</th><th scope=col>&lt;dbl&gt;</th><th scope=col>&lt;dbl&gt;</th><th scope=col>&lt;dbl&gt;</th><th scope=col>&lt;dbl&gt;</th><th scope=col>&lt;dbl&gt;</th><th scope=col>&lt;dbl&gt;</th><th scope=col>&lt;dbl&gt;</th><th scope=col>&lt;dbl&gt;</th><th scope=col>&lt;dbl&gt;</th><th scope=col>&lt;dbl&gt;</th><th scope=col>&lt;dbl&gt;</th><th scope=col>&lt;dbl&gt;</th><th scope=col>&lt;dbl&gt;</th><th scope=col>&lt;dbl&gt;</th><th scope=col>&lt;dbl&gt;</th></tr>\n",
       "</thead>\n",
       "<tbody>\n",
       "\t<tr><th scope=row>1</th><td>1</td><td>27.45490</td><td>30.24447</td><td>12.21879</td><td>10.99365</td><td>295.2582</td><td>291.0427</td><td>81.89627</td><td>0.05223568</td><td>0.4928913</td><td>316.5323</td><td>44.35803</td><td>39.13738</td><td>1.024857</td><td>0.005506402</td><td>39.95472</td><td>0.4549111</td><td>0.5691425</td></tr>\n",
       "\t<tr><th scope=row>2</th><td>2</td><td>36.38538</td><td>30.24447</td><td>12.21879</td><td>10.99365</td><td>295.2582</td><td>291.0427</td><td>81.89627</td><td>0.05223568</td><td>0.4928913</td><td>316.5323</td><td>44.35803</td><td>39.13738</td><td>1.024857</td><td>0.005506402</td><td>39.95472</td><td>0.4549111</td><td>0.5691425</td></tr>\n",
       "\t<tr><th scope=row>3</th><td>3</td><td>27.45490</td><td>28.11171</td><td>12.21879</td><td>10.99365</td><td>295.2582</td><td>291.0427</td><td>81.89627</td><td>0.05223568</td><td>0.4928913</td><td>316.5323</td><td>44.35803</td><td>39.13738</td><td>1.024857</td><td>0.005506402</td><td>39.95472</td><td>0.4549111</td><td>0.5691425</td></tr>\n",
       "\t<tr><th scope=row>4</th><td>4</td><td>27.45490</td><td>30.24447</td><td>10.98598</td><td>10.99365</td><td>295.2582</td><td>291.0427</td><td>81.89627</td><td>0.05223568</td><td>0.4928913</td><td>316.5323</td><td>44.35803</td><td>39.13738</td><td>1.024857</td><td>0.005506402</td><td>39.95472</td><td>0.4549111</td><td>0.5691425</td></tr>\n",
       "\t<tr><th scope=row>5</th><td>5</td><td>27.45490</td><td>30.24447</td><td>12.21879</td><td>11.70138</td><td>295.2582</td><td>291.0427</td><td>81.89627</td><td>0.05223568</td><td>0.4928913</td><td>316.5323</td><td>44.35803</td><td>39.13738</td><td>1.024857</td><td>0.005506402</td><td>39.95472</td><td>0.4549111</td><td>0.5691425</td></tr>\n",
       "\t<tr><th scope=row>6</th><td>6</td><td>27.45490</td><td>30.24447</td><td>12.21879</td><td>10.99365</td><td>223.9415</td><td>291.0427</td><td>81.89627</td><td>0.05223568</td><td>0.4928913</td><td>316.5323</td><td>44.35803</td><td>39.13738</td><td>1.024857</td><td>0.005506402</td><td>39.95472</td><td>0.4549111</td><td>0.5691425</td></tr>\n",
       "</tbody>\n",
       "</table>\n"
      ],
      "text/latex": [
       "A data.frame: 6 × 18\n",
       "\\begin{tabular}{r|llllllllllllllllll}\n",
       "  & id & phen\\_VegTherTimeResp\\_X3 & phen\\_RepTherTimeResp\\_X3 & phen\\_VegPhoMod\\_X1 & phen\\_RepPhoMod\\_X1 & phen\\_VegetativeTarget & phen\\_EarlyFloweringTarget & phen\\_EarlyPodDevTarget & phen\\_FractGrainFill & phen\\_MidGrainFill & phen\\_EntGrainFill & phen\\_Maturing & phen\\_Ripening & leaf\\_RUE & leaf\\_AreaLargLeaf & leaf\\_Phyllochron & leaf\\_ExtinctionCoef\\_Y1 & grain\\_HarvIndex\\\\\n",
       "  & <int> & <dbl> & <dbl> & <dbl> & <dbl> & <dbl> & <dbl> & <dbl> & <dbl> & <dbl> & <dbl> & <dbl> & <dbl> & <dbl> & <dbl> & <dbl> & <dbl> & <dbl>\\\\\n",
       "\\hline\n",
       "\t1 & 1 & 27.45490 & 30.24447 & 12.21879 & 10.99365 & 295.2582 & 291.0427 & 81.89627 & 0.05223568 & 0.4928913 & 316.5323 & 44.35803 & 39.13738 & 1.024857 & 0.005506402 & 39.95472 & 0.4549111 & 0.5691425\\\\\n",
       "\t2 & 2 & 36.38538 & 30.24447 & 12.21879 & 10.99365 & 295.2582 & 291.0427 & 81.89627 & 0.05223568 & 0.4928913 & 316.5323 & 44.35803 & 39.13738 & 1.024857 & 0.005506402 & 39.95472 & 0.4549111 & 0.5691425\\\\\n",
       "\t3 & 3 & 27.45490 & 28.11171 & 12.21879 & 10.99365 & 295.2582 & 291.0427 & 81.89627 & 0.05223568 & 0.4928913 & 316.5323 & 44.35803 & 39.13738 & 1.024857 & 0.005506402 & 39.95472 & 0.4549111 & 0.5691425\\\\\n",
       "\t4 & 4 & 27.45490 & 30.24447 & 10.98598 & 10.99365 & 295.2582 & 291.0427 & 81.89627 & 0.05223568 & 0.4928913 & 316.5323 & 44.35803 & 39.13738 & 1.024857 & 0.005506402 & 39.95472 & 0.4549111 & 0.5691425\\\\\n",
       "\t5 & 5 & 27.45490 & 30.24447 & 12.21879 & 11.70138 & 295.2582 & 291.0427 & 81.89627 & 0.05223568 & 0.4928913 & 316.5323 & 44.35803 & 39.13738 & 1.024857 & 0.005506402 & 39.95472 & 0.4549111 & 0.5691425\\\\\n",
       "\t6 & 6 & 27.45490 & 30.24447 & 12.21879 & 10.99365 & 223.9415 & 291.0427 & 81.89627 & 0.05223568 & 0.4928913 & 316.5323 & 44.35803 & 39.13738 & 1.024857 & 0.005506402 & 39.95472 & 0.4549111 & 0.5691425\\\\\n",
       "\\end{tabular}\n"
      ],
      "text/markdown": [
       "\n",
       "A data.frame: 6 × 18\n",
       "\n",
       "| <!--/--> | id &lt;int&gt; | phen_VegTherTimeResp_X3 &lt;dbl&gt; | phen_RepTherTimeResp_X3 &lt;dbl&gt; | phen_VegPhoMod_X1 &lt;dbl&gt; | phen_RepPhoMod_X1 &lt;dbl&gt; | phen_VegetativeTarget &lt;dbl&gt; | phen_EarlyFloweringTarget &lt;dbl&gt; | phen_EarlyPodDevTarget &lt;dbl&gt; | phen_FractGrainFill &lt;dbl&gt; | phen_MidGrainFill &lt;dbl&gt; | phen_EntGrainFill &lt;dbl&gt; | phen_Maturing &lt;dbl&gt; | phen_Ripening &lt;dbl&gt; | leaf_RUE &lt;dbl&gt; | leaf_AreaLargLeaf &lt;dbl&gt; | leaf_Phyllochron &lt;dbl&gt; | leaf_ExtinctionCoef_Y1 &lt;dbl&gt; | grain_HarvIndex &lt;dbl&gt; |\n",
       "|---|---|---|---|---|---|---|---|---|---|---|---|---|---|---|---|---|---|---|\n",
       "| 1 | 1 | 27.45490 | 30.24447 | 12.21879 | 10.99365 | 295.2582 | 291.0427 | 81.89627 | 0.05223568 | 0.4928913 | 316.5323 | 44.35803 | 39.13738 | 1.024857 | 0.005506402 | 39.95472 | 0.4549111 | 0.5691425 |\n",
       "| 2 | 2 | 36.38538 | 30.24447 | 12.21879 | 10.99365 | 295.2582 | 291.0427 | 81.89627 | 0.05223568 | 0.4928913 | 316.5323 | 44.35803 | 39.13738 | 1.024857 | 0.005506402 | 39.95472 | 0.4549111 | 0.5691425 |\n",
       "| 3 | 3 | 27.45490 | 28.11171 | 12.21879 | 10.99365 | 295.2582 | 291.0427 | 81.89627 | 0.05223568 | 0.4928913 | 316.5323 | 44.35803 | 39.13738 | 1.024857 | 0.005506402 | 39.95472 | 0.4549111 | 0.5691425 |\n",
       "| 4 | 4 | 27.45490 | 30.24447 | 10.98598 | 10.99365 | 295.2582 | 291.0427 | 81.89627 | 0.05223568 | 0.4928913 | 316.5323 | 44.35803 | 39.13738 | 1.024857 | 0.005506402 | 39.95472 | 0.4549111 | 0.5691425 |\n",
       "| 5 | 5 | 27.45490 | 30.24447 | 12.21879 | 11.70138 | 295.2582 | 291.0427 | 81.89627 | 0.05223568 | 0.4928913 | 316.5323 | 44.35803 | 39.13738 | 1.024857 | 0.005506402 | 39.95472 | 0.4549111 | 0.5691425 |\n",
       "| 6 | 6 | 27.45490 | 30.24447 | 12.21879 | 10.99365 | 223.9415 | 291.0427 | 81.89627 | 0.05223568 | 0.4928913 | 316.5323 | 44.35803 | 39.13738 | 1.024857 | 0.005506402 | 39.95472 | 0.4549111 | 0.5691425 |\n",
       "\n"
      ],
      "text/plain": [
       "  id phen_VegTherTimeResp_X3 phen_RepTherTimeResp_X3 phen_VegPhoMod_X1\n",
       "1 1  27.45490                30.24447                12.21879         \n",
       "2 2  36.38538                30.24447                12.21879         \n",
       "3 3  27.45490                28.11171                12.21879         \n",
       "4 4  27.45490                30.24447                10.98598         \n",
       "5 5  27.45490                30.24447                12.21879         \n",
       "6 6  27.45490                30.24447                12.21879         \n",
       "  phen_RepPhoMod_X1 phen_VegetativeTarget phen_EarlyFloweringTarget\n",
       "1 10.99365          295.2582              291.0427                 \n",
       "2 10.99365          295.2582              291.0427                 \n",
       "3 10.99365          295.2582              291.0427                 \n",
       "4 10.99365          295.2582              291.0427                 \n",
       "5 11.70138          295.2582              291.0427                 \n",
       "6 10.99365          223.9415              291.0427                 \n",
       "  phen_EarlyPodDevTarget phen_FractGrainFill phen_MidGrainFill\n",
       "1 81.89627               0.05223568          0.4928913        \n",
       "2 81.89627               0.05223568          0.4928913        \n",
       "3 81.89627               0.05223568          0.4928913        \n",
       "4 81.89627               0.05223568          0.4928913        \n",
       "5 81.89627               0.05223568          0.4928913        \n",
       "6 81.89627               0.05223568          0.4928913        \n",
       "  phen_EntGrainFill phen_Maturing phen_Ripening leaf_RUE leaf_AreaLargLeaf\n",
       "1 316.5323          44.35803      39.13738      1.024857 0.005506402      \n",
       "2 316.5323          44.35803      39.13738      1.024857 0.005506402      \n",
       "3 316.5323          44.35803      39.13738      1.024857 0.005506402      \n",
       "4 316.5323          44.35803      39.13738      1.024857 0.005506402      \n",
       "5 316.5323          44.35803      39.13738      1.024857 0.005506402      \n",
       "6 316.5323          44.35803      39.13738      1.024857 0.005506402      \n",
       "  leaf_Phyllochron leaf_ExtinctionCoef_Y1 grain_HarvIndex\n",
       "1 39.95472         0.4549111              0.5691425      \n",
       "2 39.95472         0.4549111              0.5691425      \n",
       "3 39.95472         0.4549111              0.5691425      \n",
       "4 39.95472         0.4549111              0.5691425      \n",
       "5 39.95472         0.4549111              0.5691425      \n",
       "6 39.95472         0.4549111              0.5691425      "
      ]
     },
     "metadata": {},
     "output_type": "display_data"
    }
   ],
   "source": [
    "sensi_generate_samples_csv(\n",
    "  save_csv_to_folder = sensi_tmp_folder,\n",
    "  problem = problem,\n",
    "  method = \"SOBOL\",\n",
    "  N_SAMPLES = 10L,\n",
    "  overwrite = TRUE\n",
    ")\n",
    "\n",
    "samples_df <- sensi_load_samples(\n",
    "  save_csv_to_folder = sensi_tmp_folder,\n",
    "  plot = FALSE\n",
    ")\n",
    "head(samples_df)"
   ]
  },
  {
   "cell_type": "markdown",
   "id": "742a3aae",
   "metadata": {},
   "source": [
    "# Generate all samples simulations"
   ]
  },
  {
   "cell_type": "code",
   "execution_count": 8,
   "id": "ab952d3e",
   "metadata": {
    "vscode": {
     "languageId": "r"
    }
   },
   "outputs": [],
   "source": [
    "# remotes::install_github(\"https://github.com/luanabeckerdaluz/rapsimx-run\", dependencies = FALSE)\n",
    "# library(rapsimx.run)"
   ]
  },
  {
   "cell_type": "code",
   "execution_count": 6,
   "id": "951a52b1",
   "metadata": {
    "vscode": {
     "languageId": "r"
    }
   },
   "outputs": [
    {
     "name": "stderr",
     "output_type": "stream",
     "text": [
      "\u001b[32m✔\u001b[39m Loading 'samples.csv' from folder /home/luanabeckerdaluz/git/luanabeckerdaluz/rapsimx-sensitivity/tmp_sensi_1\n",
      "\n",
      "\u001b[32m✔\u001b[39m Generating 20 samples...\n",
      "\n",
      "\u001b[32m✔\u001b[39m Running in parallel with 3 cores\n",
      "\n"
     ]
    },
    {
     "name": "stderr",
     "output_type": "stream",
     "text": [
      "\u001b[36mℹ\u001b[39m Summary:\n",
      "\n",
      "\u001b[36mℹ\u001b[39m   Folder = /home/luanabeckerdaluz/git/luanabeckerdaluz/rapsimx-sensitivity/tmp_sensi_1/sims_and_met\n",
      "\n",
      "\u001b[36mℹ\u001b[39m   Number of csvs: 0\n",
      "\n",
      "\u001b[36mℹ\u001b[39m   Number of dbs: 0\n",
      "\n",
      "\u001b[36mℹ\u001b[39m   Number of apsimxs: 20\n",
      "\n"
     ]
    }
   ],
   "source": [
    "generate_apsimxs(\n",
    "  sensi_folder = sensi_tmp_folder,\n",
    "  sensit_base_sim_filepath = file.path(\"../base_simulations/Soy-BR-fields-MG6REAL.apsimx\"),\n",
    "  runs_only_some_n = 20L,\n",
    "  parallel = TRUE,\n",
    "  dry_run = FALSE\n",
    ")"
   ]
  },
  {
   "cell_type": "markdown",
   "id": "83007bfc",
   "metadata": {},
   "source": [
    "# Run all simulations in parallel"
   ]
  },
  {
   "cell_type": "code",
   "execution_count": 7,
   "id": "7acd7ff5",
   "metadata": {
    "vscode": {
     "languageId": "r"
    }
   },
   "outputs": [
    {
     "name": "stderr",
     "output_type": "stream",
     "text": [
      "\u001b[32m✔\u001b[39m Running 2 apsimx simulations...\n",
      "\n",
      "\u001b[32m✔\u001b[39m Not using parallel\n",
      "\n"
     ]
    },
    {
     "name": "stdout",
     "output_type": "stream",
     "text": [
      "  |                                                                      |   0%"
     ]
    },
    {
     "name": "stderr",
     "output_type": "stream",
     "text": [
      "Timing stopped at: 10.76 0.507 9.711\n",
      "\n",
      "\u001b[33m!\u001b[39m running command '/usr/local/bin/Models /home/luanabeckerdaluz/git/luanabeckerdaluz/rapsimx-sensitivity/tmp_sensi_1/sims_and_met/simulation1.apsimx --single-threaded=FALSE --cpu-count=3' had status 1\n",
      "\n"
     ]
    },
    {
     "name": "stdout",
     "output_type": "stream",
     "text": [
      "  |===================================                                   |  50%"
     ]
    },
    {
     "name": "stderr",
     "output_type": "stream",
     "text": [
      "Timing stopped at: 10.42 0.472 9.059\n",
      "\n",
      "\u001b[33m!\u001b[39m running command '/usr/local/bin/Models /home/luanabeckerdaluz/git/luanabeckerdaluz/rapsimx-sensitivity/tmp_sensi_1/sims_and_met/simulation10.apsimx --single-threaded=FALSE --cpu-count=3' had status 1\n",
      "\n"
     ]
    },
    {
     "name": "stdout",
     "output_type": "stream",
     "text": [
      "  |======================================================================| 100%\n"
     ]
    },
    {
     "name": "stderr",
     "output_type": "stream",
     "text": [
      "\u001b[36mℹ\u001b[39m Summary:\n",
      "\n",
      "\u001b[36mℹ\u001b[39m   Folder = /home/luanabeckerdaluz/git/luanabeckerdaluz/rapsimx-sensitivity/tmp_sensi_1/sims_and_met\n",
      "\n",
      "\u001b[36mℹ\u001b[39m   Number of csvs: 0\n",
      "\n",
      "\u001b[36mℹ\u001b[39m   Number of dbs: 2\n",
      "\n",
      "\u001b[36mℹ\u001b[39m   Number of apsimxs: 20\n",
      "\n"
     ]
    }
   ],
   "source": [
    "rapsimx.run::run_apsimxs(\n",
    "  sensi_folder = sensi_tmp_folder,\n",
    "  runs_only_some_n = 2L,\n",
    "  # ids_to_run = c(1, 20, 10, 11, 16, 15),\n",
    "  parallel = FALSE,\n",
    "  dry_run = FALSE\n",
    ")"
   ]
  },
  {
   "cell_type": "markdown",
   "id": "4bc58084",
   "metadata": {},
   "source": [
    "# Summarize db files"
   ]
  },
  {
   "cell_type": "code",
   "execution_count": 26,
   "id": "e49ea4df",
   "metadata": {
    "vscode": {
     "languageId": "r"
    }
   },
   "outputs": [
    {
     "name": "stdout",
     "output_type": "stream",
     "text": [
      "🟢 ApsimX Models folder = /usr/local/bin/Models\n",
      "🟢 Multicores = 3\n"
     ]
    },
    {
     "name": "stdout",
     "output_type": "stream",
     "text": [
      "🟡 WARNING: 'summarized.csv' file already exists on\n",
      "/home/luanabeckerdaluz/git/luanabeckerdaluz/apsimx-sensitivity/tmp_sensi_1 folder! Summarize\n",
      "process will run because overwrite parameter was set to TRUE.\n",
      "🟡 WARNING: WARNING: runs_only_some_n parameter [5] must be lower or equal than db files count [2].\n",
      "Updating its value to 2\n",
      "🟢 Not using parallel \n",
      "  |======================================================================| 100%\n",
      "🟢 File 'summarized.csv' was overwriten! \n"
     ]
    },
    {
     "data": {
      "text/html": [
       "<table class=\"dataframe\">\n",
       "<caption>A data.frame: 6 × 5</caption>\n",
       "<thead>\n",
       "\t<tr><th></th><th scope=col>id</th><th scope=col>field</th><th scope=col>yield</th><th scope=col>biomass</th><th scope=col>maturity</th></tr>\n",
       "\t<tr><th></th><th scope=col>&lt;dbl&gt;</th><th scope=col>&lt;chr&gt;</th><th scope=col>&lt;dbl&gt;</th><th scope=col>&lt;dbl&gt;</th><th scope=col>&lt;dbl&gt;</th></tr>\n",
       "</thead>\n",
       "<tbody>\n",
       "\t<tr><th scope=row>1</th><td>1</td><td>CR16 </td><td>5498.759</td><td>12774.04</td><td>158</td></tr>\n",
       "\t<tr><th scope=row>2</th><td>1</td><td>CR17 </td><td>5762.167</td><td>13018.13</td><td>164</td></tr>\n",
       "\t<tr><th scope=row>3</th><td>1</td><td>CR18 </td><td>6699.862</td><td>15190.34</td><td>168</td></tr>\n",
       "\t<tr><th scope=row>4</th><td>1</td><td>FW14a</td><td>6199.044</td><td>14371.11</td><td>161</td></tr>\n",
       "\t<tr><th scope=row>5</th><td>1</td><td>FW14b</td><td>6181.857</td><td>14071.67</td><td>157</td></tr>\n",
       "\t<tr><th scope=row>6</th><td>1</td><td>FW14c</td><td>5472.073</td><td>12220.11</td><td>151</td></tr>\n",
       "</tbody>\n",
       "</table>\n"
      ],
      "text/latex": [
       "A data.frame: 6 × 5\n",
       "\\begin{tabular}{r|lllll}\n",
       "  & id & field & yield & biomass & maturity\\\\\n",
       "  & <dbl> & <chr> & <dbl> & <dbl> & <dbl>\\\\\n",
       "\\hline\n",
       "\t1 & 1 & CR16  & 5498.759 & 12774.04 & 158\\\\\n",
       "\t2 & 1 & CR17  & 5762.167 & 13018.13 & 164\\\\\n",
       "\t3 & 1 & CR18  & 6699.862 & 15190.34 & 168\\\\\n",
       "\t4 & 1 & FW14a & 6199.044 & 14371.11 & 161\\\\\n",
       "\t5 & 1 & FW14b & 6181.857 & 14071.67 & 157\\\\\n",
       "\t6 & 1 & FW14c & 5472.073 & 12220.11 & 151\\\\\n",
       "\\end{tabular}\n"
      ],
      "text/markdown": [
       "\n",
       "A data.frame: 6 × 5\n",
       "\n",
       "| <!--/--> | id &lt;dbl&gt; | field &lt;chr&gt; | yield &lt;dbl&gt; | biomass &lt;dbl&gt; | maturity &lt;dbl&gt; |\n",
       "|---|---|---|---|---|---|\n",
       "| 1 | 1 | CR16  | 5498.759 | 12774.04 | 158 |\n",
       "| 2 | 1 | CR17  | 5762.167 | 13018.13 | 164 |\n",
       "| 3 | 1 | CR18  | 6699.862 | 15190.34 | 168 |\n",
       "| 4 | 1 | FW14a | 6199.044 | 14371.11 | 161 |\n",
       "| 5 | 1 | FW14b | 6181.857 | 14071.67 | 157 |\n",
       "| 6 | 1 | FW14c | 5472.073 | 12220.11 | 151 |\n",
       "\n"
      ],
      "text/plain": [
       "  id field yield    biomass  maturity\n",
       "1 1  CR16  5498.759 12774.04 158     \n",
       "2 1  CR17  5762.167 13018.13 164     \n",
       "3 1  CR18  6699.862 15190.34 168     \n",
       "4 1  FW14a 6199.044 14371.11 161     \n",
       "5 1  FW14b 6181.857 14071.67 157     \n",
       "6 1  FW14c 5472.073 12220.11 151     "
      ]
     },
     "metadata": {},
     "output_type": "display_data"
    }
   ],
   "source": [
    "source(file.path(\"..\", \"R\", \"init.R\"))\n",
    "init(multicores = 3)\n",
    "\n",
    "summarized_df <- sensi_summarize_harvest_dbs(\n",
    "  sensi_folder = sensi_tmp_folder,\n",
    "  # ids_to_summarize = c(1, 2),\n",
    "  runs_only_some_n = 5L,\n",
    "  parallel = FALSE,\n",
    "  # number_of_fields = 32L,\n",
    "  overwrite = TRUE,\n",
    "  dry_run = FALSE\n",
    ")\n",
    "head(summarized_df)"
   ]
  },
  {
   "cell_type": "markdown",
   "id": "450e07ca",
   "metadata": {},
   "source": [
    "# Compute SALib"
   ]
  },
  {
   "cell_type": "code",
   "execution_count": 69,
   "id": "bfb96ea4",
   "metadata": {
    "vscode": {
     "languageId": "r"
    }
   },
   "outputs": [
    {
     "name": "stdout",
     "output_type": "stream",
     "text": [
      "🟢 Base folder = /home/luanabeckerdaluz/git/luanabeckerdaluz/apsimtestes\n",
      "🟢 Met folder = /home/luanabeckerdaluz/git/luanabeckerdaluz/apsimtestes/met_data\n",
      "🟢 Base simulations folder = /home/luanabeckerdaluz/git/luanabeckerdaluz/apsimtestes/base_simulations\n",
      "🟢 ApsimX Models folder = /usr/local/bin/Models\n",
      "🟢 Multicores = 3\n"
     ]
    },
    {
     "name": "stdout",
     "output_type": "stream",
     "text": [
      "🟡 WARNING: 'salib.csv' file already exists on\n",
      "/home/luanabeckerdaluz/git/luanabeckerdaluz/apsimtestes/tmp_sensi_20250214_224536 folder! However,\n",
      "it will be overwritten because 'overwrite' parameter was set as TRUE!\n",
      "🟢 Running in parallel with 3 cores \n",
      "🟢 Loading 'samples.csv' from\n",
      "/home/luanabeckerdaluz/git/luanabeckerdaluz/apsimtestes/tmp_sensi_20250214_224536/samples.csv \n",
      "🟢 Loading 'summarized.csv' from\n",
      "/home/luanabeckerdaluz/git/luanabeckerdaluz/apsimtestes/tmp_sensi_20250214_224536/summarized.csv \n",
      "🟢 Loading 'problem.R' from\n",
      "/home/luanabeckerdaluz/git/luanabeckerdaluz/apsimtestes/tmp_sensi_20250214_224536/problem.R \n",
      "🟡 WARNING: field=FW14a param=yield -> number_of_simulations [180] is greater than array length\n",
      "[3]. Filling with 177 NAs...\n",
      "🟡 WARNING: field=CR18 param=yield -> number_of_simulations [180] is greater than array length [3].\n",
      "Filling with 177 NAs...\n",
      "🟡 WARNING: field=CR16 param=yield -> number_of_simulations [180] is greater than array length [3].\n",
      "Filling with 177 NAs...\n",
      "🟡 WARNING: field=CR17 param=yield -> number_of_simulations [180] is greater than array length [3].\n",
      "Filling with 177 NAs...\n",
      "🟡 WARNING: field=FW14d param=yield -> number_of_simulations [180] is greater than array length\n",
      "[3]. Filling with 177 NAs...\n",
      "🟡 WARNING: field=FW14c param=yield -> number_of_simulations [180] is greater than array length\n",
      "[3]. Filling with 177 NAs...\n",
      "🟡 WARNING: field=FW14b param=yield -> number_of_simulations [180] is greater than array length\n",
      "[3]. Filling with 177 NAs...\n",
      "🟡 WARNING: field=FW14e param=yield -> number_of_simulations [180] is greater than array length\n",
      "[3]. Filling with 177 NAs...\n",
      "🟡 WARNING: field=LO14b param=yield -> number_of_simulations [180] is greater than array length\n",
      "[3]. Filling with 177 NAs...\n",
      "🟡 WARNING: field=LO14a param=yield -> number_of_simulations [180] is greater than array length\n",
      "[3]. Filling with 177 NAs...\n",
      "🟡 WARNING: field=LO14c param=yield -> number_of_simulations [180] is greater than array length\n",
      "[3]. Filling with 177 NAs...\n",
      "🟡 WARNING: field=LO14d param=yield -> number_of_simulations [180] is greater than array length\n",
      "[3]. Filling with 177 NAs...\n",
      "🟡 WARNING: field=LO14f param=yield -> number_of_simulations [180] is greater than array length\n",
      "[3]. Filling with 177 NAs...\n",
      "🟡 WARNING: field=LO14e param=yield -> number_of_simulations [180] is greater than array length\n",
      "[3]. Filling with 177 NAs...\n",
      "🟡 WARNING: field=PI14a param=yield -> number_of_simulations [180] is greater than array length\n",
      "[3]. Filling with 177 NAs...\n",
      "🟡 WARNING: field=PI14b param=yield -> number_of_simulations [180] is greater than array length\n",
      "[3]. Filling with 177 NAs...\n",
      "🟡 WARNING: field=PI14c param=yield -> number_of_simulations [180] is greater than array length\n",
      "[3]. Filling with 177 NAs...\n",
      "🟡 WARNING: field=PI14d param=yield -> number_of_simulations [180] is greater than array length\n",
      "[3]. Filling with 177 NAs...\n",
      "🟡 WARNING: field=PI14f param=yield -> number_of_simulations [180] is greater than array length\n",
      "[3]. Filling with 177 NAs...\n",
      "🟡 WARNING: field=PI14e param=yield -> number_of_simulations [180] is greater than array length\n",
      "[3]. Filling with 177 NAs...\n",
      "🟡 WARNING: field=CA14 param=yield -> number_of_simulations [180] is greater than array length [3].\n",
      "Filling with 177 NAs...\n",
      "🟡 WARNING: field=CA15 param=yield -> number_of_simulations [180] is greater than array length [3].\n",
      "Filling with 177 NAs...\n",
      "🟡 WARNING: field=CA16 param=yield -> number_of_simulations [180] is greater than array length [3].\n",
      "Filling with 177 NAs...\n",
      "🟡 WARNING: field=MB14 param=yield -> number_of_simulations [180] is greater than array length [3].\n",
      "Filling with 177 NAs...\n",
      "🟡 WARNING: field=MB16 param=yield -> number_of_simulations [180] is greater than array length [2].\n",
      "Filling with 178 NAs...\n",
      "🟡 WARNING: field=MB15 param=yield -> number_of_simulations [180] is greater than array length [3].\n",
      "Filling with 177 NAs...\n",
      "🟡 WARNING: field=PL14 param=yield -> number_of_simulations [180] is greater than array length [3].\n",
      "Filling with 177 NAs...\n",
      "🟡 WARNING: field=MV14 param=yield -> number_of_simulations [180] is greater than array length [3].\n",
      "Filling with 177 NAs...\n",
      "🟡 WARNING: field=MV15 param=yield -> number_of_simulations [180] is greater than array length [3].\n",
      "Filling with 177 NAs...\n",
      "🟡 WARNING: field=MV16 param=yield -> number_of_simulations [180] is greater than array length [3].\n",
      "Filling with 177 NAs...\n",
      "🟡 WARNING: field=PL15 param=yield -> number_of_simulations [180] is greater than array length [3].\n",
      "Filling with 177 NAs...\n",
      "🟡 WARNING: field=PL16 param=yield -> number_of_simulations [180] is greater than array length [3].\n",
      "Filling with 177 NAs...\n",
      "🟡 WARNING: field=FW14a param=biomass -> number_of_simulations [180] is greater than array length\n",
      "[3]. Filling with 177 NAs...\n",
      "🟡 WARNING: field=CR18 param=biomass -> number_of_simulations [180] is greater than array length\n",
      "[3]. Filling with 177 NAs...\n",
      "🟡 WARNING: field=CR16 param=biomass -> number_of_simulations [180] is greater than array length\n",
      "[3]. Filling with 177 NAs...\n",
      "🟡 WARNING: field=CR17 param=biomass -> number_of_simulations [180] is greater than array length\n",
      "[3]. Filling with 177 NAs...\n",
      "🟡 WARNING: field=FW14d param=biomass -> number_of_simulations [180] is greater than array length\n",
      "[3]. Filling with 177 NAs...\n",
      "🟡 WARNING: field=FW14c param=biomass -> number_of_simulations [180] is greater than array length\n",
      "[3]. Filling with 177 NAs...\n",
      "🟡 WARNING: field=FW14b param=biomass -> number_of_simulations [180] is greater than array length\n",
      "[3]. Filling with 177 NAs...\n",
      "🟡 WARNING: field=FW14e param=biomass -> number_of_simulations [180] is greater than array length\n",
      "[3]. Filling with 177 NAs...\n",
      "🟡 WARNING: field=LO14b param=biomass -> number_of_simulations [180] is greater than array length\n",
      "[3]. Filling with 177 NAs...\n",
      "🟡 WARNING: field=LO14a param=biomass -> number_of_simulations [180] is greater than array length\n",
      "[3]. Filling with 177 NAs...\n",
      "🟡 WARNING: field=LO14c param=biomass -> number_of_simulations [180] is greater than array length\n",
      "[3]. Filling with 177 NAs...\n",
      "🟡 WARNING: field=LO14d param=biomass -> number_of_simulations [180] is greater than array length\n",
      "[3]. Filling with 177 NAs...\n",
      "🟡 WARNING: field=LO14f param=biomass -> number_of_simulations [180] is greater than array length\n",
      "[3]. Filling with 177 NAs...\n",
      "🟡 WARNING: field=LO14e param=biomass -> number_of_simulations [180] is greater than array length\n",
      "[3]. Filling with 177 NAs...\n",
      "🟡 WARNING: field=PI14a param=biomass -> number_of_simulations [180] is greater than array length\n",
      "[3]. Filling with 177 NAs...\n",
      "🟡 WARNING: field=PI14b param=biomass -> number_of_simulations [180] is greater than array length\n",
      "[3]. Filling with 177 NAs...\n",
      "🟡 WARNING: field=PI14c param=biomass -> number_of_simulations [180] is greater than array length\n",
      "[3]. Filling with 177 NAs...\n",
      "🟡 WARNING: field=PI14d param=biomass -> number_of_simulations [180] is greater than array length\n",
      "[3]. Filling with 177 NAs...\n",
      "🟡 WARNING: field=PI14f param=biomass -> number_of_simulations [180] is greater than array length\n",
      "[3]. Filling with 177 NAs...\n",
      "🟡 WARNING: field=PI14e param=biomass -> number_of_simulations [180] is greater than array length\n",
      "[3]. Filling with 177 NAs...\n",
      "🟡 WARNING: field=CA14 param=biomass -> number_of_simulations [180] is greater than array length\n",
      "[3]. Filling with 177 NAs...\n",
      "🟡 WARNING: field=CA15 param=biomass -> number_of_simulations [180] is greater than array length\n",
      "[3]. Filling with 177 NAs...\n",
      "🟡 WARNING: field=CA16 param=biomass -> number_of_simulations [180] is greater than array length\n",
      "[3]. Filling with 177 NAs...\n",
      "🟡 WARNING: field=MB14 param=biomass -> number_of_simulations [180] is greater than array length\n",
      "[3]. Filling with 177 NAs...\n",
      "🟡 WARNING: field=MB16 param=biomass -> number_of_simulations [180] is greater than array length\n",
      "[2]. Filling with 178 NAs...\n",
      "🟡 WARNING: field=MB15 param=biomass -> number_of_simulations [180] is greater than array length\n",
      "[3]. Filling with 177 NAs...\n",
      "🟡 WARNING: field=PL14 param=biomass -> number_of_simulations [180] is greater than array length\n",
      "[3]. Filling with 177 NAs...\n",
      "🟡 WARNING: field=MV14 param=biomass -> number_of_simulations [180] is greater than array length\n",
      "[3]. Filling with 177 NAs...\n",
      "🟡 WARNING: field=MV15 param=biomass -> number_of_simulations [180] is greater than array length\n",
      "[3]. Filling with 177 NAs...\n",
      "🟡 WARNING: field=MV16 param=biomass -> number_of_simulations [180] is greater than array length\n",
      "[3]. Filling with 177 NAs...\n",
      "🟡 WARNING: field=PL15 param=biomass -> number_of_simulations [180] is greater than array length\n",
      "[3]. Filling with 177 NAs...\n",
      "🟡 WARNING: field=PL16 param=biomass -> number_of_simulations [180] is greater than array length\n",
      "[3]. Filling with 177 NAs...\n",
      "🟡 WARNING: field=FW14a param=maturity -> number_of_simulations [180] is greater than array length\n",
      "[3]. Filling with 177 NAs...\n",
      "🟡 WARNING: field=CR18 param=maturity -> number_of_simulations [180] is greater than array length\n",
      "[3]. Filling with 177 NAs...\n",
      "🟡 WARNING: field=CR16 param=maturity -> number_of_simulations [180] is greater than array length\n",
      "[3]. Filling with 177 NAs...\n",
      "🟡 WARNING: field=CR17 param=maturity -> number_of_simulations [180] is greater than array length\n",
      "[3]. Filling with 177 NAs...\n",
      "🟡 WARNING: field=FW14d param=maturity -> number_of_simulations [180] is greater than array length\n",
      "[3]. Filling with 177 NAs...\n",
      "🟡 WARNING: field=FW14c param=maturity -> number_of_simulations [180] is greater than array length\n",
      "[3]. Filling with 177 NAs...\n",
      "🟡 WARNING: field=FW14b param=maturity -> number_of_simulations [180] is greater than array length\n",
      "[3]. Filling with 177 NAs...\n",
      "🟡 WARNING: field=FW14e param=maturity -> number_of_simulations [180] is greater than array length\n",
      "[3]. Filling with 177 NAs...\n",
      "🟡 WARNING: field=LO14b param=maturity -> number_of_simulations [180] is greater than array length\n",
      "[3]. Filling with 177 NAs...\n",
      "🟡 WARNING: field=LO14a param=maturity -> number_of_simulations [180] is greater than array length\n",
      "[3]. Filling with 177 NAs...\n",
      "🟡 WARNING: field=LO14c param=maturity -> number_of_simulations [180] is greater than array length\n",
      "[3]. Filling with 177 NAs...\n",
      "🟡 WARNING: field=LO14d param=maturity -> number_of_simulations [180] is greater than array length\n",
      "[3]. Filling with 177 NAs...\n",
      "🟡 WARNING: field=LO14f param=maturity -> number_of_simulations [180] is greater than array length\n",
      "[3]. Filling with 177 NAs...\n",
      "🟡 WARNING: field=LO14e param=maturity -> number_of_simulations [180] is greater than array length\n",
      "[3]. Filling with 177 NAs...\n",
      "🟡 WARNING: field=PI14a param=maturity -> number_of_simulations [180] is greater than array length\n",
      "[3]. Filling with 177 NAs...\n",
      "🟡 WARNING: field=PI14b param=maturity -> number_of_simulations [180] is greater than array length\n",
      "[3]. Filling with 177 NAs...\n",
      "🟡 WARNING: field=PI14c param=maturity -> number_of_simulations [180] is greater than array length\n",
      "[3]. Filling with 177 NAs...\n",
      "🟡 WARNING: field=PI14d param=maturity -> number_of_simulations [180] is greater than array length\n",
      "[3]. Filling with 177 NAs...\n",
      "🟡 WARNING: field=PI14f param=maturity -> number_of_simulations [180] is greater than array length\n",
      "[3]. Filling with 177 NAs...\n",
      "🟡 WARNING: field=PI14e param=maturity -> number_of_simulations [180] is greater than array length\n",
      "[3]. Filling with 177 NAs...\n",
      "🟡 WARNING: field=CA14 param=maturity -> number_of_simulations [180] is greater than array length\n",
      "[3]. Filling with 177 NAs...\n",
      "🟡 WARNING: field=CA15 param=maturity -> number_of_simulations [180] is greater than array length\n",
      "[3]. Filling with 177 NAs...\n",
      "🟡 WARNING: field=CA16 param=maturity -> number_of_simulations [180] is greater than array length\n",
      "[3]. Filling with 177 NAs...\n",
      "🟡 WARNING: field=MB14 param=maturity -> number_of_simulations [180] is greater than array length\n",
      "[3]. Filling with 177 NAs...\n",
      "🟡 WARNING: field=MB16 param=maturity -> number_of_simulations [180] is greater than array length\n",
      "[2]. Filling with 178 NAs...\n",
      "🟡 WARNING: field=MB15 param=maturity -> number_of_simulations [180] is greater than array length\n",
      "[3]. Filling with 177 NAs...\n",
      "🟡 WARNING: field=PL14 param=maturity -> number_of_simulations [180] is greater than array length\n",
      "[3]. Filling with 177 NAs...\n",
      "🟡 WARNING: field=MV14 param=maturity -> number_of_simulations [180] is greater than array length\n",
      "[3]. Filling with 177 NAs...\n",
      "🟡 WARNING: field=MV15 param=maturity -> number_of_simulations [180] is greater than array length\n",
      "[3]. Filling with 177 NAs...\n",
      "🟡 WARNING: field=MV16 param=maturity -> number_of_simulations [180] is greater than array length\n",
      "[3]. Filling with 177 NAs...\n",
      "🟡 WARNING: field=PL15 param=maturity -> number_of_simulations [180] is greater than array length\n",
      "[3]. Filling with 177 NAs...\n",
      "🟡 WARNING: field=PL16 param=maturity -> number_of_simulations [180] is greater than array length\n",
      "[3]. Filling with 177 NAs...\n",
      "🟢 File 'salib.csv' was overwriten! \n"
     ]
    },
    {
     "data": {
      "text/html": [
       "<table class=\"dataframe\">\n",
       "<caption>A data.frame: 6 × 7</caption>\n",
       "<thead>\n",
       "\t<tr><th></th><th scope=col>field</th><th scope=col>param</th><th scope=col>names</th><th scope=col>S1</th><th scope=col>S1_conf</th><th scope=col>ST</th><th scope=col>ST_conf</th></tr>\n",
       "\t<tr><th></th><th scope=col>&lt;chr&gt;</th><th scope=col>&lt;chr&gt;</th><th scope=col>&lt;chr&gt;</th><th scope=col>&lt;dbl&gt;</th><th scope=col>&lt;dbl&gt;</th><th scope=col>&lt;dbl&gt;</th><th scope=col>&lt;dbl&gt;</th></tr>\n",
       "</thead>\n",
       "<tbody>\n",
       "\t<tr><th scope=row>1</th><td>FW14a</td><td>yield</td><td>phen_VegTherTimeResp_X3  </td><td>2.571939e-14</td><td>2.730006e-14</td><td>6.6757913</td><td>7.0860728</td></tr>\n",
       "\t<tr><th scope=row>2</th><td>FW14a</td><td>yield</td><td>phen_RepTherTimeResp_X3  </td><td>5.758767e-15</td><td>6.112690e-15</td><td>0.3346881</td><td>0.3552574</td></tr>\n",
       "\t<tr><th scope=row>3</th><td>FW14a</td><td>yield</td><td>phen_VegPhoMod_X1        </td><td>1.049272e-14</td><td>1.113758e-14</td><td>1.1111111</td><td>1.1793979</td></tr>\n",
       "\t<tr><th scope=row>4</th><td>FW14a</td><td>yield</td><td>phen_RepPhoMod_X1        </td><td>1.049272e-14</td><td>1.113758e-14</td><td>1.1111111</td><td>1.1793979</td></tr>\n",
       "\t<tr><th scope=row>5</th><td>FW14a</td><td>yield</td><td>phen_VegetativeTarget    </td><td>1.049272e-14</td><td>1.113758e-14</td><td>1.1111111</td><td>1.1793979</td></tr>\n",
       "\t<tr><th scope=row>6</th><td>FW14a</td><td>yield</td><td>phen_EarlyFloweringTarget</td><td>1.049272e-14</td><td>1.113758e-14</td><td>1.1111111</td><td>1.1793979</td></tr>\n",
       "</tbody>\n",
       "</table>\n"
      ],
      "text/latex": [
       "A data.frame: 6 × 7\n",
       "\\begin{tabular}{r|lllllll}\n",
       "  & field & param & names & S1 & S1\\_conf & ST & ST\\_conf\\\\\n",
       "  & <chr> & <chr> & <chr> & <dbl> & <dbl> & <dbl> & <dbl>\\\\\n",
       "\\hline\n",
       "\t1 & FW14a & yield & phen\\_VegTherTimeResp\\_X3   & 2.571939e-14 & 2.730006e-14 & 6.6757913 & 7.0860728\\\\\n",
       "\t2 & FW14a & yield & phen\\_RepTherTimeResp\\_X3   & 5.758767e-15 & 6.112690e-15 & 0.3346881 & 0.3552574\\\\\n",
       "\t3 & FW14a & yield & phen\\_VegPhoMod\\_X1         & 1.049272e-14 & 1.113758e-14 & 1.1111111 & 1.1793979\\\\\n",
       "\t4 & FW14a & yield & phen\\_RepPhoMod\\_X1         & 1.049272e-14 & 1.113758e-14 & 1.1111111 & 1.1793979\\\\\n",
       "\t5 & FW14a & yield & phen\\_VegetativeTarget     & 1.049272e-14 & 1.113758e-14 & 1.1111111 & 1.1793979\\\\\n",
       "\t6 & FW14a & yield & phen\\_EarlyFloweringTarget & 1.049272e-14 & 1.113758e-14 & 1.1111111 & 1.1793979\\\\\n",
       "\\end{tabular}\n"
      ],
      "text/markdown": [
       "\n",
       "A data.frame: 6 × 7\n",
       "\n",
       "| <!--/--> | field &lt;chr&gt; | param &lt;chr&gt; | names &lt;chr&gt; | S1 &lt;dbl&gt; | S1_conf &lt;dbl&gt; | ST &lt;dbl&gt; | ST_conf &lt;dbl&gt; |\n",
       "|---|---|---|---|---|---|---|---|\n",
       "| 1 | FW14a | yield | phen_VegTherTimeResp_X3   | 2.571939e-14 | 2.730006e-14 | 6.6757913 | 7.0860728 |\n",
       "| 2 | FW14a | yield | phen_RepTherTimeResp_X3   | 5.758767e-15 | 6.112690e-15 | 0.3346881 | 0.3552574 |\n",
       "| 3 | FW14a | yield | phen_VegPhoMod_X1         | 1.049272e-14 | 1.113758e-14 | 1.1111111 | 1.1793979 |\n",
       "| 4 | FW14a | yield | phen_RepPhoMod_X1         | 1.049272e-14 | 1.113758e-14 | 1.1111111 | 1.1793979 |\n",
       "| 5 | FW14a | yield | phen_VegetativeTarget     | 1.049272e-14 | 1.113758e-14 | 1.1111111 | 1.1793979 |\n",
       "| 6 | FW14a | yield | phen_EarlyFloweringTarget | 1.049272e-14 | 1.113758e-14 | 1.1111111 | 1.1793979 |\n",
       "\n"
      ],
      "text/plain": [
       "  field param names                     S1           S1_conf      ST       \n",
       "1 FW14a yield phen_VegTherTimeResp_X3   2.571939e-14 2.730006e-14 6.6757913\n",
       "2 FW14a yield phen_RepTherTimeResp_X3   5.758767e-15 6.112690e-15 0.3346881\n",
       "3 FW14a yield phen_VegPhoMod_X1         1.049272e-14 1.113758e-14 1.1111111\n",
       "4 FW14a yield phen_RepPhoMod_X1         1.049272e-14 1.113758e-14 1.1111111\n",
       "5 FW14a yield phen_VegetativeTarget     1.049272e-14 1.113758e-14 1.1111111\n",
       "6 FW14a yield phen_EarlyFloweringTarget 1.049272e-14 1.113758e-14 1.1111111\n",
       "  ST_conf  \n",
       "1 7.0860728\n",
       "2 0.3552574\n",
       "3 1.1793979\n",
       "4 1.1793979\n",
       "5 1.1793979\n",
       "6 1.1793979"
      ]
     },
     "metadata": {},
     "output_type": "display_data"
    }
   ],
   "source": [
    "# salib_for_one_field_and_param(\n",
    "#     field = \"CA14\",\n",
    "#     df = read.csv(file.path(sensi_tmp_folder, \"summarized.csv\")),\n",
    "#     param = \"yield\",\n",
    "#     number_of_simulations = 360,\n",
    "#     problem = problem,\n",
    "#     salib_sobol = TRUE,\n",
    "#     fix_NAs_with_mean = TRUE,\n",
    "#     dry_run = FALSE\n",
    "#   ) |>\n",
    "#   head()\n",
    "\n",
    "source(file.path(\"..\", \"R\", \"init.R\"))\n",
    "init(multicores = 3)\n",
    "\n",
    "df_salib <- compute_salib_for_all_params_and_fields(\n",
    "  sensi_tmp_folder = sensi_tmp_folder,\n",
    "  salib_sobol = TRUE,\n",
    "  fix_NAs_with_mean = TRUE,\n",
    "  # fields = c(\"CA14\", \"CA15\"),\n",
    "  # params = c(\"yield\", \"biomass\"),\n",
    "  dry_run = FALSE,\n",
    "  overwrite = TRUE,\n",
    "  parallel = TRUE\n",
    ")\n",
    "head(df_salib)"
   ]
  },
  {
   "cell_type": "code",
   "execution_count": null,
   "id": "21657ebf",
   "metadata": {
    "vscode": {
     "languageId": "r"
    }
   },
   "outputs": [],
   "source": []
  }
 ],
 "metadata": {
  "kernelspec": {
   "display_name": "R",
   "language": "R",
   "name": "ir"
  },
  "language_info": {
   "codemirror_mode": "r",
   "file_extension": ".r",
   "mimetype": "text/x-r-source",
   "name": "R",
   "pygments_lexer": "r",
   "version": "4.1.2"
  }
 },
 "nbformat": 4,
 "nbformat_minor": 5
}
