{
 "cells": [
  {
   "cell_type": "code",
   "execution_count": null,
   "id": "05cc1d53-e9c4-4826-aac1-e5e438cdcdc7",
   "metadata": {},
   "outputs": [],
   "source": [
    "# library(\"devtools\")\n",
    "# devtools::install(\"/home/jovyan/apsim/rapsimx\", dependencies = TRUE)"
   ]
  },
  {
   "cell_type": "code",
   "execution_count": 1,
   "id": "f56b9503-b08a-48e9-aad4-4cd829b831d1",
   "metadata": {
    "execution": {
     "iopub.execute_input": "2025-09-17T16:39:48.572999Z",
     "iopub.status.busy": "2025-09-17T16:39:48.571886Z",
     "iopub.status.idle": "2025-09-17T16:39:48.582070Z",
     "shell.execute_reply": "2025-09-17T16:39:48.580742Z"
    }
   },
   "outputs": [],
   "source": [
    "# detach(\"package:ApsimOnR\", unload = TRUE)\n",
    "# remove.packages(\"ApsimOnR\")\n",
    "\n",
    "# remotes::install_github(\"luanabeckerdaluz/ApsimOnR\")\n",
    "# packageVersion(\"ApsimOnR\")"
   ]
  },
  {
   "cell_type": "code",
   "execution_count": 1,
   "id": "074a89e2-3121-490e-bab7-a131630e22b1",
   "metadata": {
    "execution": {
     "iopub.execute_input": "2025-09-18T01:06:41.154860Z",
     "iopub.status.busy": "2025-09-18T01:06:41.127267Z",
     "iopub.status.idle": "2025-09-18T01:06:41.166852Z",
     "shell.execute_reply": "2025-09-18T01:06:41.165575Z"
    }
   },
   "outputs": [],
   "source": [
    "# detach(\"package:rapsimx\", unload = TRUE)\n",
    "# remove.packages(\"rapsimx\")\n",
    "\n",
    "# remotes::install_github(\"luanabeckerdaluz/rapsimx\")\n",
    "# packageVersion(\"rapsimx\")"
   ]
  },
  {
   "cell_type": "markdown",
   "id": "b091fad6-7063-4a9c-b4b1-08d9d3a221f4",
   "metadata": {},
   "source": [
    "# Example:\n",
    "https://github.com/APSIMInitiative/ApsimOnR/blob/91fd7b9975f7dc26d94cd8ed2677fe6bc7afb9ef/scripts/simple_run_example.R#L48"
   ]
  },
  {
   "cell_type": "code",
   "execution_count": 3,
   "id": "c717e47b-bf80-4006-87ab-221da2293372",
   "metadata": {
    "execution": {
     "iopub.execute_input": "2025-09-18T01:07:42.506857Z",
     "iopub.status.busy": "2025-09-18T01:07:42.505552Z",
     "iopub.status.idle": "2025-09-18T01:07:42.519835Z",
     "shell.execute_reply": "2025-09-18T01:07:42.518484Z"
    }
   },
   "outputs": [],
   "source": [
    "# library(\"CroptimizR\")\n",
    "# library(\"ApsimOnR\")\n",
    "# library(\"dplyr\")\n",
    "# library(\"CroPlotR\")\n",
    "# library(\"gridExtra\")\n",
    "# library(\"ggplot2\")\n",
    "# library(\"tidyr\")\n",
    "# library(RSQLite)\n",
    "library(\"rapsimx\")"
   ]
  },
  {
   "cell_type": "code",
   "execution_count": 4,
   "id": "d776ac9e-8fd2-4d4e-88f8-ddf59d312b7b",
   "metadata": {
    "execution": {
     "iopub.execute_input": "2025-09-18T01:07:49.177250Z",
     "iopub.status.busy": "2025-09-18T01:07:49.175933Z",
     "iopub.status.idle": "2025-09-18T01:07:49.190144Z",
     "shell.execute_reply": "2025-09-18T01:07:49.188796Z"
    }
   },
   "outputs": [],
   "source": [
    "# dotnet_path <- \"/home/jovyan/dotnet\"\n",
    "# apsimx_path=\"/home/jovyan/apsim_7850/usr/local/bin/Models\"\n",
    "\n",
    "apsimx_path=\"/home/jovyan/apsim_7504/usr/local/bin/Models\"\n",
    "dotnet_path <- \"/home/jovyan/dotnet6\"\n",
    "\n",
    "# Set dotnet to system PATH\n",
    "if (!grepl(dotnet_path, Sys.getenv(\"PATH\"), fixed = TRUE)) {\n",
    "  Sys.setenv(PATH = paste(Sys.getenv(\"PATH\"), dotnet_path, sep = \":\"))\n",
    "}"
   ]
  },
  {
   "cell_type": "code",
   "execution_count": 6,
   "id": "a06c884b-b961-4e6c-b5bf-a8c289b5d133",
   "metadata": {
    "execution": {
     "iopub.execute_input": "2025-09-18T01:08:57.703351Z",
     "iopub.status.busy": "2025-09-18T01:08:57.701928Z",
     "iopub.status.idle": "2025-09-18T01:09:03.512120Z",
     "shell.execute_reply": "2025-09-18T01:09:03.510766Z"
    }
   },
   "outputs": [
    {
     "data": {
      "text/html": [
       "'/home/jovyan/apsim/wrapper_example//cal.apsimx'"
      ],
      "text/latex": [
       "'/home/jovyan/apsim/wrapper\\_example//cal.apsimx'"
      ],
      "text/markdown": [
       "'/home/jovyan/apsim/wrapper_example//cal.apsimx'"
      ],
      "text/plain": [
       "[1] \"/home/jovyan/apsim/wrapper_example//cal.apsimx\""
      ]
     },
     "metadata": {},
     "output_type": "display_data"
    },
    {
     "data": {
      "text/html": [
       "<dl>\n",
       "\t<dt>$apsimx_path</dt>\n",
       "\t\t<dd>'/home/jovyan/apsim_7504/usr/local/bin/Models'</dd>\n",
       "\t<dt>$apsimx_file</dt>\n",
       "\t\t<dd>'/home/jovyan/apsim/wrapper_example//cal.apsimx'</dd>\n",
       "\t<dt>$variable_names</dt>\n",
       "\t\t<dd>'Clock.Today'</dd>\n",
       "\t<dt>$predicted_table_name</dt>\n",
       "\t\t<dd>'HarvestReport'</dd>\n",
       "\t<dt>$observed_table_name</dt>\n",
       "\t\t<dd>'Observed'</dd>\n",
       "\t<dt>$met_files_path</dt>\n",
       "\t\t<dd>'/home/jovyan/apsim/wrapper_example/'</dd>\n",
       "\t<dt>$obs_files_path</dt>\n",
       "\t\t<dd>'/home/jovyan/apsim/wrapper_example/'</dd>\n",
       "\t<dt>$warning_display</dt>\n",
       "\t\t<dd>TRUE</dd>\n",
       "\t<dt>$multi_process</dt>\n",
       "\t\t<dd>FALSE</dd>\n",
       "\t<dt>$time_display</dt>\n",
       "\t\t<dd>FALSE</dd>\n",
       "</dl>\n"
      ],
      "text/latex": [
       "\\begin{description}\n",
       "\\item[\\$apsimx\\_path] '/home/jovyan/apsim\\_7504/usr/local/bin/Models'\n",
       "\\item[\\$apsimx\\_file] '/home/jovyan/apsim/wrapper\\_example//cal.apsimx'\n",
       "\\item[\\$variable\\_names] 'Clock.Today'\n",
       "\\item[\\$predicted\\_table\\_name] 'HarvestReport'\n",
       "\\item[\\$observed\\_table\\_name] 'Observed'\n",
       "\\item[\\$met\\_files\\_path] '/home/jovyan/apsim/wrapper\\_example/'\n",
       "\\item[\\$obs\\_files\\_path] '/home/jovyan/apsim/wrapper\\_example/'\n",
       "\\item[\\$warning\\_display] TRUE\n",
       "\\item[\\$multi\\_process] FALSE\n",
       "\\item[\\$time\\_display] FALSE\n",
       "\\end{description}\n"
      ],
      "text/markdown": [
       "$apsimx_path\n",
       ":   '/home/jovyan/apsim_7504/usr/local/bin/Models'\n",
       "$apsimx_file\n",
       ":   '/home/jovyan/apsim/wrapper_example//cal.apsimx'\n",
       "$variable_names\n",
       ":   'Clock.Today'\n",
       "$predicted_table_name\n",
       ":   'HarvestReport'\n",
       "$observed_table_name\n",
       ":   'Observed'\n",
       "$met_files_path\n",
       ":   '/home/jovyan/apsim/wrapper_example/'\n",
       "$obs_files_path\n",
       ":   '/home/jovyan/apsim/wrapper_example/'\n",
       "$warning_display\n",
       ":   TRUE\n",
       "$multi_process\n",
       ":   FALSE\n",
       "$time_display\n",
       ":   FALSE\n",
       "\n",
       "\n"
      ],
      "text/plain": [
       "$apsimx_path\n",
       "[1] \"/home/jovyan/apsim_7504/usr/local/bin/Models\"\n",
       "\n",
       "$apsimx_file\n",
       "[1] \"/home/jovyan/apsim/wrapper_example//cal.apsimx\"\n",
       "\n",
       "$variable_names\n",
       "[1] \"Clock.Today\"\n",
       "\n",
       "$predicted_table_name\n",
       "[1] \"HarvestReport\"\n",
       "\n",
       "$observed_table_name\n",
       "[1] \"Observed\"\n",
       "\n",
       "$met_files_path\n",
       "[1] \"/home/jovyan/apsim/wrapper_example/\"\n",
       "\n",
       "$obs_files_path\n",
       "[1] \"/home/jovyan/apsim/wrapper_example/\"\n",
       "\n",
       "$warning_display\n",
       "[1] TRUE\n",
       "\n",
       "$multi_process\n",
       "[1] FALSE\n",
       "\n",
       "$time_display\n",
       "[1] FALSE\n"
      ]
     },
     "metadata": {},
     "output_type": "display_data"
    },
    {
     "name": "stderr",
     "output_type": "stream",
     "text": [
      "\u001b[32m✔\u001b[39m run_apsimx function returned object class logical!\n",
      "\n",
      "\u001b[32m✔\u001b[39m read_db_table | Table HarvestReport was read!\n",
      "\n"
     ]
    },
    {
     "data": {
      "text/plain": [
       "$db_file_name\n",
       "[1] \"/tmp/RtmpFIsjD1/simulationkRCiCr.db\"\n",
       "\n",
       "$sim_list\n",
       "$CheckpointID\n",
       "[1] 1 1 1\n",
       "\n",
       "$SimulationID\n",
       "[1] 1 2 3\n",
       "\n",
       "$Zone\n",
       "[1] \"paddock\" \"paddock\" \"paddock\"\n",
       "\n",
       "$Clock.Today\n",
       "[1] \"2016-03-29 12:00:00\" \"2017-03-31 12:00:00\" \"2018-04-01 12:00:00\"\n",
       "\n",
       "$Biomass\n",
       "[1] 9659.162 9919.084 8698.238\n",
       "\n",
       "$Yield\n",
       "[1] 4875.366 4705.709 3821.241\n",
       "\n",
       "$Soybean.Phenology.FloweringDAS\n",
       "[1] 49 61 49\n",
       "\n",
       "$Soybean.Phenology.MaturityDAS\n",
       "[1] 120 132 121\n",
       "\n",
       "attr(,\"class\")\n",
       "[1] \"cropr_simulation\"\n",
       "attr(,\"row.names\")\n",
       "[1] 1 2 3\n"
      ]
     },
     "metadata": {},
     "output_type": "display_data"
    }
   ],
   "source": [
    "# files_path <- system.file(file.path(\"extdata\",\"apsimx_files\"),package = \"ApsimOnR\")\n",
    "# apsimx_file <- file.path(files_path, \"template.apsimx\")\n",
    "# apsimx_file <- \"/home/jovyan/apsim_7850/usr/local/lib/apsim/2025.9.7850.0/Examples/Wheat.apsimx\"\n",
    "\n",
    "files_path <- \"/home/jovyan/apsim/wrapper_example/\"\n",
    "\n",
    "apsimx_file <- file.path(files_path, \"cal.apsimx\")\n",
    "apsimx_file\n",
    "\n",
    "# variable_names=c(\"Wheat.Leaf.LAI\")\n",
    "# variable_names=c(\"Wheat.LAI\")\n",
    "# variable_names=c(\"Soybean.LAI\")\n",
    "\n",
    "model_options = rapsimx::rapsimx_wrapper_options(\n",
    "    apsimx_path = apsimx_path,\n",
    "    apsimx_file = apsimx_file,\n",
    "    # variable_names = variable_names,\n",
    "    # predicted_table_name = \"DailyReport\",\n",
    "    predicted_table_name = \"HarvestReport\",\n",
    "    met_files_path = files_path,\n",
    "    obs_files_path = files_path,\n",
    ")\n",
    "model_options\n",
    "\n",
    "sim = rapsimx::rapsimx_wrapper(\n",
    "    model_options = model_options,\n",
    "    verbose = FALSE\n",
    ")\n",
    "sim"
   ]
  },
  {
   "cell_type": "code",
   "execution_count": 7,
   "id": "72cea1a4-a0da-4fa7-903f-1c38d6661f71",
   "metadata": {
    "execution": {
     "iopub.execute_input": "2025-09-18T01:10:24.772704Z",
     "iopub.status.busy": "2025-09-18T01:10:24.771300Z",
     "iopub.status.idle": "2025-09-18T01:10:30.935747Z",
     "shell.execute_reply": "2025-09-18T01:10:30.934523Z"
    }
   },
   "outputs": [
    {
     "name": "stderr",
     "output_type": "stream",
     "text": [
      "\u001b[32m✔\u001b[39m run_apsimx function returned object class logical!\n",
      "\n",
      "\u001b[32m✔\u001b[39m read_db_table | Table HarvestReport was read!\n",
      "\n"
     ]
    },
    {
     "data": {
      "text/plain": [
       "$db_file_name\n",
       "[1] \"/tmp/RtmpFIsjD1/simulationzP8HHZ.db\"\n",
       "\n",
       "$sim_list\n",
       "$CheckpointID\n",
       "[1] 1 1 1\n",
       "\n",
       "$SimulationID\n",
       "[1] 1 2 3\n",
       "\n",
       "$Zone\n",
       "[1] \"paddock\" \"paddock\" \"paddock\"\n",
       "\n",
       "$Clock.Today\n",
       "[1] \"2016-03-25 12:00:00\" \"2017-03-27 12:00:00\" \"2018-03-28 12:00:00\"\n",
       "\n",
       "$Biomass\n",
       "[1] 9329.246 9566.865 8549.130\n",
       "\n",
       "$Yield\n",
       "[1] 4677.730 4586.565 3918.362\n",
       "\n",
       "$Soybean.Phenology.FloweringDAS\n",
       "[1] 49 61 49\n",
       "\n",
       "$Soybean.Phenology.MaturityDAS\n",
       "[1] 117 129 118\n",
       "\n",
       "attr(,\"class\")\n",
       "[1] \"cropr_simulation\"\n",
       "attr(,\"row.names\")\n",
       "[1] 1 2 3\n"
      ]
     },
     "metadata": {},
     "output_type": "display_data"
    }
   ],
   "source": [
    "# param_values <- c(.Simulations.Wheat.Plant.Population = 150)\n",
    "# param_values <- c(.Simulations.Wheat.Crop.SowingDepth = 50)\n",
    "# param_values <- c(.Simulations.Crop.Wheat.SowingDepth = 50)\n",
    "# param_values <- c(.Simulations.Replacements.Soybean.Leaf.Phyllochron.FixedValue = 45)\n",
    "param_values <- c(phen_EarlyFloweringTarget = 140)\n",
    "\n",
    "sim_par_forcing = rapsimx::rapsimx_wrapper(\n",
    "    model_options = model_options,\n",
    "    param_values = param_values,\n",
    "    verbose = FALSE\n",
    ")\n",
    "sim_par_forcing"
   ]
  },
  {
   "cell_type": "code",
   "execution_count": null,
   "id": "76885706-6d07-4ac3-9045-630efda8a449",
   "metadata": {},
   "outputs": [],
   "source": []
  },
  {
   "cell_type": "code",
   "execution_count": 8,
   "id": "11566376-0fb0-4a06-b731-99dcace2fa7a",
   "metadata": {
    "execution": {
     "iopub.execute_input": "2025-09-18T01:10:34.690778Z",
     "iopub.status.busy": "2025-09-18T01:10:34.689541Z",
     "iopub.status.idle": "2025-09-18T01:10:34.724467Z",
     "shell.execute_reply": "2025-09-18T01:10:34.723202Z"
    }
   },
   "outputs": [
    {
     "data": {
      "text/html": [
       "<style>\n",
       ".list-inline {list-style: none; margin:0; padding: 0}\n",
       ".list-inline>li {display: inline-block}\n",
       ".list-inline>li:not(:last-child)::after {content: \"\\00b7\"; padding: 0 .5ex}\n",
       "</style>\n",
       "<ol class=list-inline><li>'2016-03-29 12:00:00'</li><li>'2017-03-31 12:00:00'</li><li>'2018-04-01 12:00:00'</li></ol>\n"
      ],
      "text/latex": [
       "\\begin{enumerate*}\n",
       "\\item '2016-03-29 12:00:00'\n",
       "\\item '2017-03-31 12:00:00'\n",
       "\\item '2018-04-01 12:00:00'\n",
       "\\end{enumerate*}\n"
      ],
      "text/markdown": [
       "1. '2016-03-29 12:00:00'\n",
       "2. '2017-03-31 12:00:00'\n",
       "3. '2018-04-01 12:00:00'\n",
       "\n",
       "\n"
      ],
      "text/plain": [
       "[1] \"2016-03-29 12:00:00\" \"2017-03-31 12:00:00\" \"2018-04-01 12:00:00\""
      ]
     },
     "metadata": {},
     "output_type": "display_data"
    },
    {
     "data": {
      "text/html": [
       "<style>\n",
       ".list-inline {list-style: none; margin:0; padding: 0}\n",
       ".list-inline>li {display: inline-block}\n",
       ".list-inline>li:not(:last-child)::after {content: \"\\00b7\"; padding: 0 .5ex}\n",
       "</style>\n",
       "<ol class=list-inline><li>'2016-03-25 12:00:00'</li><li>'2017-03-27 12:00:00'</li><li>'2018-03-28 12:00:00'</li></ol>\n"
      ],
      "text/latex": [
       "\\begin{enumerate*}\n",
       "\\item '2016-03-25 12:00:00'\n",
       "\\item '2017-03-27 12:00:00'\n",
       "\\item '2018-03-28 12:00:00'\n",
       "\\end{enumerate*}\n"
      ],
      "text/markdown": [
       "1. '2016-03-25 12:00:00'\n",
       "2. '2017-03-27 12:00:00'\n",
       "3. '2018-03-28 12:00:00'\n",
       "\n",
       "\n"
      ],
      "text/plain": [
       "[1] \"2016-03-25 12:00:00\" \"2017-03-27 12:00:00\" \"2018-03-28 12:00:00\""
      ]
     },
     "metadata": {},
     "output_type": "display_data"
    },
    {
     "data": {
      "text/html": [
       "<style>\n",
       ".list-inline {list-style: none; margin:0; padding: 0}\n",
       ".list-inline>li {display: inline-block}\n",
       ".list-inline>li:not(:last-child)::after {content: \"\\00b7\"; padding: 0 .5ex}\n",
       "</style>\n",
       "<ol class=list-inline><li>9659.161528277</li><li>9919.08411464816</li><li>8698.23841373332</li></ol>\n"
      ],
      "text/latex": [
       "\\begin{enumerate*}\n",
       "\\item 9659.161528277\n",
       "\\item 9919.08411464816\n",
       "\\item 8698.23841373332\n",
       "\\end{enumerate*}\n"
      ],
      "text/markdown": [
       "1. 9659.161528277\n",
       "2. 9919.08411464816\n",
       "3. 8698.23841373332\n",
       "\n",
       "\n"
      ],
      "text/plain": [
       "[1] 9659.162 9919.084 8698.238"
      ]
     },
     "metadata": {},
     "output_type": "display_data"
    },
    {
     "data": {
      "text/html": [
       "<style>\n",
       ".list-inline {list-style: none; margin:0; padding: 0}\n",
       ".list-inline>li {display: inline-block}\n",
       ".list-inline>li:not(:last-child)::after {content: \"\\00b7\"; padding: 0 .5ex}\n",
       "</style>\n",
       "<ol class=list-inline><li>9329.24563256104</li><li>9566.86516534002</li><li>8549.12984986708</li></ol>\n"
      ],
      "text/latex": [
       "\\begin{enumerate*}\n",
       "\\item 9329.24563256104\n",
       "\\item 9566.86516534002\n",
       "\\item 8549.12984986708\n",
       "\\end{enumerate*}\n"
      ],
      "text/markdown": [
       "1. 9329.24563256104\n",
       "2. 9566.86516534002\n",
       "3. 8549.12984986708\n",
       "\n",
       "\n"
      ],
      "text/plain": [
       "[1] 9329.246 9566.865 8549.130"
      ]
     },
     "metadata": {},
     "output_type": "display_data"
    },
    {
     "data": {
      "text/html": [
       "<style>\n",
       ".list-inline {list-style: none; margin:0; padding: 0}\n",
       ".list-inline>li {display: inline-block}\n",
       ".list-inline>li:not(:last-child)::after {content: \"\\00b7\"; padding: 0 .5ex}\n",
       "</style>\n",
       "<ol class=list-inline><li>4875.36645294092</li><li>4705.70853226505</li><li>3821.2408357811</li></ol>\n"
      ],
      "text/latex": [
       "\\begin{enumerate*}\n",
       "\\item 4875.36645294092\n",
       "\\item 4705.70853226505\n",
       "\\item 3821.2408357811\n",
       "\\end{enumerate*}\n"
      ],
      "text/markdown": [
       "1. 4875.36645294092\n",
       "2. 4705.70853226505\n",
       "3. 3821.2408357811\n",
       "\n",
       "\n"
      ],
      "text/plain": [
       "[1] 4875.366 4705.709 3821.241"
      ]
     },
     "metadata": {},
     "output_type": "display_data"
    },
    {
     "data": {
      "text/html": [
       "<style>\n",
       ".list-inline {list-style: none; margin:0; padding: 0}\n",
       ".list-inline>li {display: inline-block}\n",
       ".list-inline>li:not(:last-child)::after {content: \"\\00b7\"; padding: 0 .5ex}\n",
       "</style>\n",
       "<ol class=list-inline><li>4677.73045431611</li><li>4586.56541768719</li><li>3918.36236705011</li></ol>\n"
      ],
      "text/latex": [
       "\\begin{enumerate*}\n",
       "\\item 4677.73045431611\n",
       "\\item 4586.56541768719\n",
       "\\item 3918.36236705011\n",
       "\\end{enumerate*}\n"
      ],
      "text/markdown": [
       "1. 4677.73045431611\n",
       "2. 4586.56541768719\n",
       "3. 3918.36236705011\n",
       "\n",
       "\n"
      ],
      "text/plain": [
       "[1] 4677.730 4586.565 3918.362"
      ]
     },
     "metadata": {},
     "output_type": "display_data"
    },
    {
     "data": {
      "text/html": [
       "<style>\n",
       ".list-inline {list-style: none; margin:0; padding: 0}\n",
       ".list-inline>li {display: inline-block}\n",
       ".list-inline>li:not(:last-child)::after {content: \"\\00b7\"; padding: 0 .5ex}\n",
       "</style>\n",
       "<ol class=list-inline><li>49</li><li>61</li><li>49</li></ol>\n"
      ],
      "text/latex": [
       "\\begin{enumerate*}\n",
       "\\item 49\n",
       "\\item 61\n",
       "\\item 49\n",
       "\\end{enumerate*}\n"
      ],
      "text/markdown": [
       "1. 49\n",
       "2. 61\n",
       "3. 49\n",
       "\n",
       "\n"
      ],
      "text/plain": [
       "[1] 49 61 49"
      ]
     },
     "metadata": {},
     "output_type": "display_data"
    },
    {
     "data": {
      "text/html": [
       "<style>\n",
       ".list-inline {list-style: none; margin:0; padding: 0}\n",
       ".list-inline>li {display: inline-block}\n",
       ".list-inline>li:not(:last-child)::after {content: \"\\00b7\"; padding: 0 .5ex}\n",
       "</style>\n",
       "<ol class=list-inline><li>49</li><li>61</li><li>49</li></ol>\n"
      ],
      "text/latex": [
       "\\begin{enumerate*}\n",
       "\\item 49\n",
       "\\item 61\n",
       "\\item 49\n",
       "\\end{enumerate*}\n"
      ],
      "text/markdown": [
       "1. 49\n",
       "2. 61\n",
       "3. 49\n",
       "\n",
       "\n"
      ],
      "text/plain": [
       "[1] 49 61 49"
      ]
     },
     "metadata": {},
     "output_type": "display_data"
    }
   ],
   "source": [
    "sim$sim_list$Clock.Today\n",
    "sim_par_forcing$sim_list$Clock.Today\n",
    "\n",
    "sim$sim_list$Biomass\n",
    "sim_par_forcing$sim_list$Biomass\n",
    "\n",
    "sim$sim_list$Yield\n",
    "sim_par_forcing$sim_list$Yield\n",
    "\n",
    "sim$sim_list$Soybean.Phenology.FloweringDAS\n",
    "sim_par_forcing$sim_list$Soybean.Phenology.FloweringDAS\n"
   ]
  },
  {
   "cell_type": "code",
   "execution_count": null,
   "id": "9addb73c-18d6-40d8-8501-748418297759",
   "metadata": {},
   "outputs": [],
   "source": []
  },
  {
   "cell_type": "code",
   "execution_count": null,
   "id": "4e9321a6-68d8-4705-a81d-a38a9842e0fb",
   "metadata": {},
   "outputs": [],
   "source": []
  },
  {
   "cell_type": "code",
   "execution_count": null,
   "id": "56319ffa-ef72-4095-937b-cda43d095a96",
   "metadata": {},
   "outputs": [],
   "source": []
  },
  {
   "cell_type": "code",
   "execution_count": null,
   "id": "069fab0f-e1c9-47c6-92c8-22e771866a7d",
   "metadata": {},
   "outputs": [],
   "source": []
  },
  {
   "cell_type": "code",
   "execution_count": 117,
   "id": "5b767f4c-0ede-412a-95a2-6fad7aaa2d1b",
   "metadata": {
    "execution": {
     "iopub.execute_input": "2025-09-18T01:05:54.764996Z",
     "iopub.status.busy": "2025-09-18T01:05:54.763605Z",
     "iopub.status.idle": "2025-09-18T01:05:54.775942Z",
     "shell.execute_reply": "2025-09-18T01:05:54.774600Z"
    }
   },
   "outputs": [],
   "source": [
    "# #================================================\n",
    "# # RESULTS\n",
    "# #================================================\n",
    "\n",
    "# situation_name <- \"Biomass\"\n",
    "\n",
    "# Dates <- as.Date(sim$sim_list[situation_name][[1]]$Date)\n",
    "# LAI <- sim$sim_list[situation_name][[1]]$Wheat.Leaf.LAI\n",
    "# LAI_forcing <- sim_par_forcing$sim_list[situation_name][[1]]$Wheat.Leaf.LAI\n",
    "\n",
    "# print(paste(\"Length:\", length(Dates)))\n",
    "# print(\"Printing first 5 data:\")\n",
    "# print(Dates[1:5])\n",
    "# print(LAI[1:5])\n",
    "# print(LAI_forcing[1:5])"
   ]
  },
  {
   "cell_type": "code",
   "execution_count": 90,
   "id": "72952667-8395-4d16-bbde-e8bee5e4a613",
   "metadata": {
    "execution": {
     "iopub.execute_input": "2025-09-16T16:39:19.410400Z",
     "iopub.status.busy": "2025-09-16T16:39:19.409208Z",
     "iopub.status.idle": "2025-09-16T16:39:19.861998Z",
     "shell.execute_reply": "2025-09-16T16:39:19.860591Z"
    }
   },
   "outputs": [
    {
     "data": {
      "image/png": "[encoded data removed]",
      "text/plain": [
       "plot without title"
      ]
     },
     "metadata": {
      "image/png": {
       "height": 420,
       "width": 420
      }
     },
     "output_type": "display_data"
    },
    {
     "data": {
      "image/png": "[encoded data removed]",
      "text/plain": [
       "plot without title"
      ]
     },
     "metadata": {
      "image/png": {
       "height": 420,
       "width": 420
      }
     },
     "output_type": "display_data"
    }
   ],
   "source": [
    "ggplot(data.frame(Dates=Dates,LAI=LAI), aes(x=Dates, y=LAI)) +\n",
    "  geom_line() +\n",
    "  labs(title=\"LAI dynamics without forcing parameters\")\n",
    "\n",
    "\n",
    "ggplot(data.frame(Dates=Dates,LAI=LAI_forcing), aes(x=Dates, y=LAI)) +\n",
    "  geom_line() +\n",
    "  labs(title=\"LAI dynamics with forcing parameters\",\n",
    "  subtitle = \"ExtinctionCoeff (0.4) and RUE (1.4)\" )"
   ]
  },
  {
   "cell_type": "code",
   "execution_count": null,
   "id": "8252c081-e7ad-4eab-9a39-d3e49d5d7a06",
   "metadata": {},
   "outputs": [],
   "source": []
  }
 ],
 "metadata": {
  "kernelspec": {
   "display_name": "R APSIMx",
   "language": "R",
   "name": "rgeo"
  },
  "language_info": {
   "codemirror_mode": "r",
   "file_extension": ".r",
   "mimetype": "text/x-r-source",
   "name": "R",
   "pygments_lexer": "r",
   "version": "4.4.3"
  }
 },
 "nbformat": 4,
 "nbformat_minor": 5
}
