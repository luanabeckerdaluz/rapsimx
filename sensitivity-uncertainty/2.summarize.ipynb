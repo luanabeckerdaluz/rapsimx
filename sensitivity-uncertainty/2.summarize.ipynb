{
 "cells": [
  {
   "cell_type": "code",
   "execution_count": 3,
   "id": "c5cfd9b5",
   "metadata": {
    "vscode": {
     "languageId": "r"
    }
   },
   "outputs": [
    {
     "name": "stdout",
     "output_type": "stream",
     "text": [
      "[1] \"Config for local!\"\n"
     ]
    }
   ],
   "source": [
    "source(file.path(\"..\", \"R\", \"init.R\"))\n",
    "init(where = \"local\")\n",
    "\n",
    "suppressMessages({\n",
    "  library(dplyr)\n",
    "  library(future.apply)\n",
    "  library(future)\n",
    "  library(parallel)\n",
    "})"
   ]
  },
  {
   "cell_type": "markdown",
   "id": "780b7fd3",
   "metadata": {},
   "source": [
    "# Summarize all dfs into one"
   ]
  },
  {
   "cell_type": "markdown",
   "id": "b5c0b45b",
   "metadata": {},
   "source": [
    "### List all csvs"
   ]
  },
  {
   "cell_type": "code",
   "execution_count": 31,
   "id": "2b084ef6",
   "metadata": {
    "vscode": {
     "languageId": "r"
    }
   },
   "outputs": [
    {
     "data": {
      "text/html": [
       "'/home/rstudio/apsimtestes/tmp_sensi_7'"
      ],
      "text/latex": [
       "'/home/rstudio/apsimtestes/tmp\\_sensi\\_7'"
      ],
      "text/markdown": [
       "'/home/rstudio/apsimtestes/tmp_sensi_7'"
      ],
      "text/plain": [
       "[1] \"/home/rstudio/apsimtestes/tmp_sensi_7\""
      ]
     },
     "metadata": {},
     "output_type": "display_data"
    },
    {
     "data": {
      "text/html": [
       "12"
      ],
      "text/latex": [
       "12"
      ],
      "text/markdown": [
       "12"
      ],
      "text/plain": [
       "[1] 12"
      ]
     },
     "metadata": {},
     "output_type": "display_data"
    }
   ],
   "source": [
    "sensi_tmp_folder <- file.path(base_folder, \"tmp_sensi_5\")\n",
    "sensi_tmp_folder\n",
    "\n",
    "files_list <- list.files(path = sensi_tmp_folder, pattern = \"DailyReport.csv\", full.names = TRUE)\n",
    "length(files_list)\n",
    "files_list[1:5]"
   ]
  },
  {
   "cell_type": "markdown",
   "id": "120a5a52",
   "metadata": {},
   "source": [
    "### Summarize into one"
   ]
  },
  {
   "cell_type": "code",
   "execution_count": 57,
   "id": "10cb7470",
   "metadata": {
    "vscode": {
     "languageId": "r"
    }
   },
   "outputs": [
    {
     "name": "stdout",
     "output_type": "stream",
     "text": [
      "[1] \"Config for container!\"\n"
     ]
    },
    {
     "name": "stdout",
     "output_type": "stream",
     "text": [
      "[1] \"HarvestReport id=1 is missing fields! Count=26\"\n",
      "[1] \"HarvestReport id=10 is missing fields! Count=28\"\n",
      "[1] \"HarvestReport id=11 is missing fields! Count=28\"\n",
      "[1] \"HarvestReport id=12 is missing fields! Count=28\"\n",
      "[1] \"HarvestReport id=13 is missing fields! Count=28\"\n",
      "[1] \"HarvestReport id=14 is missing fields! Count=28\"\n",
      "[1] \"HarvestReport id=15 is missing fields! Count=28\"\n",
      "[1] \"HarvestReport id=2 is missing fields! Count=27\"\n",
      "[1] \"HarvestReport id=3 is missing fields! Count=27\"\n",
      "[1] \"HarvestReport id=4 is missing fields! Count=27\"\n",
      "[1] \"HarvestReport id=5 is missing fields! Count=27\"\n",
      "[1] \"HarvestReport id=9 is missing fields! Count=28\"\n"
     ]
    },
    {
     "data": {
      "text/html": [
       "<style>\n",
       ".list-inline {list-style: none; margin:0; padding: 0}\n",
       ".list-inline>li {display: inline-block}\n",
       ".list-inline>li:not(:last-child)::after {content: \"\\00b7\"; padding: 0 .5ex}\n",
       "</style>\n",
       "<ol class=list-inline><li>330</li><li>11</li></ol>\n"
      ],
      "text/latex": [
       "\\begin{enumerate*}\n",
       "\\item 330\n",
       "\\item 11\n",
       "\\end{enumerate*}\n"
      ],
      "text/markdown": [
       "1. 330\n",
       "2. 11\n",
       "\n",
       "\n"
      ],
      "text/plain": [
       "[1] 330  11"
      ]
     },
     "metadata": {},
     "output_type": "display_data"
    },
    {
     "data": {
      "text/html": [
       "<table class=\"dataframe\">\n",
       "<caption>A data.frame: 6 × 11</caption>\n",
       "<thead>\n",
       "\t<tr><th></th><th scope=col>id</th><th scope=col>field</th><th scope=col>yield</th><th scope=col>biomass</th><th scope=col>emergence</th><th scope=col>flowering</th><th scope=col>start_pod_development</th><th scope=col>start_grain_filling</th><th scope=col>end_grain_filling</th><th scope=col>maturity</th><th scope=col>harvest</th></tr>\n",
       "\t<tr><th></th><th scope=col>&lt;dbl&gt;</th><th scope=col>&lt;chr&gt;</th><th scope=col>&lt;dbl&gt;</th><th scope=col>&lt;dbl&gt;</th><th scope=col>&lt;dbl&gt;</th><th scope=col>&lt;dbl&gt;</th><th scope=col>&lt;dbl&gt;</th><th scope=col>&lt;dbl&gt;</th><th scope=col>&lt;dbl&gt;</th><th scope=col>&lt;dbl&gt;</th><th scope=col>&lt;dbl&gt;</th></tr>\n",
       "</thead>\n",
       "<tbody>\n",
       "\t<tr><th scope=row>1</th><td>1</td><td>CA14 </td><td>7147.612</td><td>13795.81</td><td>10</td><td>59</td><td>76</td><td> 94</td><td>168</td><td>176</td><td>184</td></tr>\n",
       "\t<tr><th scope=row>2</th><td>1</td><td>CA15 </td><td>9430.438</td><td>18132.64</td><td> 9</td><td>61</td><td>81</td><td>101</td><td>179</td><td>188</td><td>195</td></tr>\n",
       "\t<tr><th scope=row>3</th><td>1</td><td>CA16 </td><td>7751.268</td><td>15115.04</td><td> 9</td><td>55</td><td>73</td><td> 92</td><td>161</td><td>166</td><td>172</td></tr>\n",
       "\t<tr><th scope=row>4</th><td>1</td><td>CR17 </td><td>8562.944</td><td>16918.12</td><td> 8</td><td>62</td><td>84</td><td>103</td><td>176</td><td>183</td><td>191</td></tr>\n",
       "\t<tr><th scope=row>5</th><td>1</td><td>FW14a</td><td>8931.015</td><td>17484.28</td><td>11</td><td>55</td><td>78</td><td> 99</td><td>168</td><td>175</td><td>180</td></tr>\n",
       "\t<tr><th scope=row>6</th><td>1</td><td>FW14b</td><td>8488.244</td><td>16565.22</td><td> 8</td><td>56</td><td>76</td><td> 97</td><td>164</td><td>170</td><td>174</td></tr>\n",
       "</tbody>\n",
       "</table>\n"
      ],
      "text/latex": [
       "A data.frame: 6 × 11\n",
       "\\begin{tabular}{r|lllllllllll}\n",
       "  & id & field & yield & biomass & emergence & flowering & start\\_pod\\_development & start\\_grain\\_filling & end\\_grain\\_filling & maturity & harvest\\\\\n",
       "  & <dbl> & <chr> & <dbl> & <dbl> & <dbl> & <dbl> & <dbl> & <dbl> & <dbl> & <dbl> & <dbl>\\\\\n",
       "\\hline\n",
       "\t1 & 1 & CA14  & 7147.612 & 13795.81 & 10 & 59 & 76 &  94 & 168 & 176 & 184\\\\\n",
       "\t2 & 1 & CA15  & 9430.438 & 18132.64 &  9 & 61 & 81 & 101 & 179 & 188 & 195\\\\\n",
       "\t3 & 1 & CA16  & 7751.268 & 15115.04 &  9 & 55 & 73 &  92 & 161 & 166 & 172\\\\\n",
       "\t4 & 1 & CR17  & 8562.944 & 16918.12 &  8 & 62 & 84 & 103 & 176 & 183 & 191\\\\\n",
       "\t5 & 1 & FW14a & 8931.015 & 17484.28 & 11 & 55 & 78 &  99 & 168 & 175 & 180\\\\\n",
       "\t6 & 1 & FW14b & 8488.244 & 16565.22 &  8 & 56 & 76 &  97 & 164 & 170 & 174\\\\\n",
       "\\end{tabular}\n"
      ],
      "text/markdown": [
       "\n",
       "A data.frame: 6 × 11\n",
       "\n",
       "| <!--/--> | id &lt;dbl&gt; | field &lt;chr&gt; | yield &lt;dbl&gt; | biomass &lt;dbl&gt; | emergence &lt;dbl&gt; | flowering &lt;dbl&gt; | start_pod_development &lt;dbl&gt; | start_grain_filling &lt;dbl&gt; | end_grain_filling &lt;dbl&gt; | maturity &lt;dbl&gt; | harvest &lt;dbl&gt; |\n",
       "|---|---|---|---|---|---|---|---|---|---|---|---|\n",
       "| 1 | 1 | CA14  | 7147.612 | 13795.81 | 10 | 59 | 76 |  94 | 168 | 176 | 184 |\n",
       "| 2 | 1 | CA15  | 9430.438 | 18132.64 |  9 | 61 | 81 | 101 | 179 | 188 | 195 |\n",
       "| 3 | 1 | CA16  | 7751.268 | 15115.04 |  9 | 55 | 73 |  92 | 161 | 166 | 172 |\n",
       "| 4 | 1 | CR17  | 8562.944 | 16918.12 |  8 | 62 | 84 | 103 | 176 | 183 | 191 |\n",
       "| 5 | 1 | FW14a | 8931.015 | 17484.28 | 11 | 55 | 78 |  99 | 168 | 175 | 180 |\n",
       "| 6 | 1 | FW14b | 8488.244 | 16565.22 |  8 | 56 | 76 |  97 | 164 | 170 | 174 |\n",
       "\n"
      ],
      "text/plain": [
       "  id field yield    biomass  emergence flowering start_pod_development\n",
       "1 1  CA14  7147.612 13795.81 10        59        76                   \n",
       "2 1  CA15  9430.438 18132.64  9        61        81                   \n",
       "3 1  CA16  7751.268 15115.04  9        55        73                   \n",
       "4 1  CR17  8562.944 16918.12  8        62        84                   \n",
       "5 1  FW14a 8931.015 17484.28 11        55        78                   \n",
       "6 1  FW14b 8488.244 16565.22  8        56        76                   \n",
       "  start_grain_filling end_grain_filling maturity harvest\n",
       "1  94                 168               176      184    \n",
       "2 101                 179               188      195    \n",
       "3  92                 161               166      172    \n",
       "4 103                 176               183      191    \n",
       "5  99                 168               175      180    \n",
       "6  97                 164               170      174    "
      ]
     },
     "metadata": {},
     "output_type": "display_data"
    },
    {
     "data": {
      "text/html": [
       "<style>\n",
       ".list-inline {list-style: none; margin:0; padding: 0}\n",
       ".list-inline>li {display: inline-block}\n",
       ".list-inline>li:not(:last-child)::after {content: \"\\00b7\"; padding: 0 .5ex}\n",
       "</style>\n",
       "<ol class=list-inline><li>1</li><li>10</li><li>11</li><li>12</li><li>13</li><li>14</li><li>15</li><li>2</li><li>3</li><li>4</li><li>5</li><li>9</li></ol>\n"
      ],
      "text/latex": [
       "\\begin{enumerate*}\n",
       "\\item 1\n",
       "\\item 10\n",
       "\\item 11\n",
       "\\item 12\n",
       "\\item 13\n",
       "\\item 14\n",
       "\\item 15\n",
       "\\item 2\n",
       "\\item 3\n",
       "\\item 4\n",
       "\\item 5\n",
       "\\item 9\n",
       "\\end{enumerate*}\n"
      ],
      "text/markdown": [
       "1. 1\n",
       "2. 10\n",
       "3. 11\n",
       "4. 12\n",
       "5. 13\n",
       "6. 14\n",
       "7. 15\n",
       "8. 2\n",
       "9. 3\n",
       "10. 4\n",
       "11. 5\n",
       "12. 9\n",
       "\n",
       "\n"
      ],
      "text/plain": [
       " [1]  1 10 11 12 13 14 15  2  3  4  5  9"
      ]
     },
     "metadata": {},
     "output_type": "display_data"
    }
   ],
   "source": [
    "df_all_summarized <- summarize_csvs_from_filelist(\n",
    "  folder = sensi_tmp_folder,\n",
    "  # ids_to_summarize = c(1),\n",
    "  check_32_fields_use_id = TRUE,\n",
    "  runs_only_some = FALSE,\n",
    "  return_with_NA = TRUE,\n",
    "  daily_or_harvest = \"DailyReport\"\n",
    "  # daily_or_harvest = \"HarvestReport\"\n",
    ")\n",
    "dim(df_all_summarized)\n",
    "head(df_all_summarized)"
   ]
  },
  {
   "cell_type": "markdown",
   "id": "b4cd5314",
   "metadata": {},
   "source": [
    "### Save summarized csv"
   ]
  },
  {
   "cell_type": "code",
   "execution_count": 11,
   "id": "aa3aa1c3",
   "metadata": {
    "vscode": {
     "languageId": "r"
    }
   },
   "outputs": [],
   "source": [
    "# # Check duplicated ids\n",
    "# fields <- df_all_summarized$field %>% unique()\n",
    "# ids_dupli <- lapply(fields, FUN=function(x){\n",
    "#   ids <- df_all_summarized %>% filter(field == !!x) %>% filter(duplicated(Biomass)) %>% pull(id)\n",
    "#   ids\n",
    "# })\n",
    "# print(ids_dupli)\n",
    "# length(duplicated(unlist(ids_dupli)))\n",
    "# print(Reduce(intersect, ids_dupli))\n",
    "\n",
    "FILENAME <- \"new_sobol_summarized.csv\"\n",
    "df_all_summarized_to_save <- df_all_summarized\n",
    "write.csv(df_all_summarized_to_save, FILENAME, row.names = FALSE)"
   ]
  },
  {
   "cell_type": "markdown",
   "id": "0096b691",
   "metadata": {},
   "source": [
    "# Test: Check difference between summarizes"
   ]
  },
  {
   "cell_type": "code",
   "execution_count": 8,
   "id": "5c4d7995",
   "metadata": {
    "vscode": {
     "languageId": "r"
    }
   },
   "outputs": [],
   "source": [
    "# summarized_before <- read.csv(\"16000_summarized.csv\") %>% arrange(id, field)\n",
    "# summarized_run1 <- read.csv(\"16000_summarize_run1.csv\") %>% arrange(id, field)\n",
    "# summarized_run2 <- read.csv(\"16000_summarize_run2.csv\") %>% arrange(id, field)\n",
    "\n",
    "# # rbind(\n",
    "# #     summarized_before %>% mutate(sim = 1),\n",
    "# #     summarized_run1 %>% mutate(sim = 2),\n",
    "# #     summarized_run2 %>% mutate(sim = 3)\n",
    "# #   ) %>% \n",
    "# #   select(sim, id, field, everything()) %>%\n",
    "# #   arrange(id, field) %>%\n",
    "# #   head(15)"
   ]
  },
  {
   "cell_type": "code",
   "execution_count": null,
   "id": "0bc0d2be",
   "metadata": {
    "vscode": {
     "languageId": "r"
    }
   },
   "outputs": [],
   "source": []
  }
 ],
 "metadata": {
  "kernelspec": {
   "display_name": "R",
   "language": "R",
   "name": "ir"
  },
  "language_info": {
   "codemirror_mode": "r",
   "file_extension": ".r",
   "mimetype": "text/x-r-source",
   "name": "R",
   "pygments_lexer": "r",
   "version": "4.1.2"
  }
 },
 "nbformat": 4,
 "nbformat_minor": 5
}
