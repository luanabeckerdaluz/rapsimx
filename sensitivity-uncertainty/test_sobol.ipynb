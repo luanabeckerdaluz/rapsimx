{
 "cells": [
  {
   "cell_type": "code",
   "execution_count": 1,
   "metadata": {
    "vscode": {
     "languageId": "r"
    }
   },
   "outputs": [
    {
     "name": "stderr",
     "output_type": "stream",
     "text": [
      "Installing package into ‘/home/luanabeckerdaluz/R/x86_64-pc-linux-gnu-library/4.1’\n",
      "(as ‘lib’ is unspecified)\n",
      "\n",
      "also installing the dependencies ‘RcppGSL’, ‘rngWELL’, ‘rbibutils’, ‘RcppZiggurat’, ‘RcppParallel’, ‘data.table’, ‘lhs’, ‘matrixStats’, ‘randtoolbox’, ‘deSolve’, ‘Rdpack’, ‘Rfast’, ‘RcppArmadillo’\n",
      "\n",
      "\n",
      "Warning message in install.packages(\"sensobol\"):\n",
      "“installation of package ‘RcppGSL’ had non-zero exit status”\n",
      "Warning message in install.packages(\"sensobol\"):\n",
      "“installation of package ‘RcppZiggurat’ had non-zero exit status”\n",
      "Warning message in install.packages(\"sensobol\"):\n",
      "“installation of package ‘Rfast’ had non-zero exit status”\n",
      "Warning message in install.packages(\"sensobol\"):\n",
      "“installation of package ‘sensobol’ had non-zero exit status”\n"
     ]
    }
   ],
   "source": [
    "install.packages(\"sensobol\")"
   ]
  },
  {
   "cell_type": "code",
   "execution_count": null,
   "metadata": {
    "vscode": {
     "languageId": "r"
    }
   },
   "outputs": [],
   "source": [
    "## Load the package:\n",
    "library(sensobol)\n",
    "\n",
    "## Define the base sample size and the parameters\n",
    "N <- 2 ^ 8\n",
    "params <- paste(\"X\", 1:3, sep = \"\")\n",
    "\n",
    "## Create sample matrix to compute first and total-order indices:\n",
    "mat <- sobol_matrices(N = N, params = params)\n",
    "\n",
    "## Compute the model output (using the Ishigami test function):\n",
    "Y <- ishigami_Fun(mat)\n",
    "\n",
    "## Compute and bootstrap the Sobol' indices:\n",
    "ind <- sobol_indices(Y = Y, N = N, params = params)"
   ]
  }
 ],
 "metadata": {
  "kernelspec": {
   "display_name": "R",
   "language": "R",
   "name": "ir"
  },
  "language_info": {
   "codemirror_mode": "r",
   "file_extension": ".r",
   "mimetype": "text/x-r-source",
   "name": "R",
   "pygments_lexer": "r",
   "version": "4.1.2"
  }
 },
 "nbformat": 4,
 "nbformat_minor": 2
}
