{
 "cells": [
  {
   "cell_type": "code",
   "execution_count": 107,
   "id": "a6f9a459",
   "metadata": {
    "vscode": {
     "languageId": "r"
    }
   },
   "outputs": [
    {
     "name": "stderr",
     "output_type": "stream",
     "text": [
      "\u001b[32m✔\u001b[39m Loading tmp_sensi3...\n",
      "\n",
      "\u001b[32m✔\u001b[39m Folder: /home/luanabeckerdaluz/git/luanabeckerdaluz/rapsimx/tmp_sensi3\n",
      "\n",
      "\u001b[32m✔\u001b[39m ApsimX command = /usr/local/bin/Models\n",
      "\n",
      "\u001b[32m✔\u001b[39m File problem.rds is available!\n",
      "\n",
      "\u001b[32m✔\u001b[39m File samples.csv is available!\n",
      "\n"
     ]
    },
    {
     "name": "stderr",
     "output_type": "stream",
     "text": [
      "\u001b[33m!\u001b[39m File summarized.csv does not exist!\n",
      "\n",
      "\u001b[33m!\u001b[39m File salib.csv does not exist!\n",
      "\n",
      "\u001b[36mℹ\u001b[39m Summary:\n",
      "\n",
      "\u001b[36mℹ\u001b[39m   Folder = /home/luanabeckerdaluz/git/luanabeckerdaluz/rapsimx/tmp_sensi3\n",
      "\n",
      "\u001b[36mℹ\u001b[39m   Number of dbs: 0\n",
      "\n",
      "\u001b[36mℹ\u001b[39m   Number of apsimxs: 0\n",
      "\n"
     ]
    }
   ],
   "source": [
    "source(file.path(\"R\", \"class.R\"))\n",
    "\n",
    "proj <- RApsimxSensitivity(\"tmp_sensi3\")"
   ]
  },
  {
   "cell_type": "code",
   "execution_count": 102,
   "id": "a90555a8",
   "metadata": {
    "vscode": {
     "languageId": "r"
    }
   },
   "outputs": [],
   "source": [
    "# proj$import_or_overwrite_problem(\"problem.R\")"
   ]
  },
  {
   "cell_type": "code",
   "execution_count": null,
   "id": "9e40009c",
   "metadata": {
    "vscode": {
     "languageId": "r"
    }
   },
   "outputs": [
    {
     "name": "stderr",
     "output_type": "stream",
     "text": [
      "\u001b[33m!\u001b[39m Samples file samples.csv already exists! However, it will be overwritten.\n",
      "\n"
     ]
    },
    {
     "name": "stderr",
     "output_type": "stream",
     "text": [
      "\u001b[32m✔\u001b[39m File samples.csv was generated!\n",
      "\n"
     ]
    }
   ],
   "source": [
    "# proj$generate_samples(method = \"LHS\", n_samples = 10L)"
   ]
  },
  {
   "cell_type": "code",
   "execution_count": 108,
   "id": "a9d47218",
   "metadata": {
    "vscode": {
     "languageId": "r"
    }
   },
   "outputs": [
    {
     "name": "stderr",
     "output_type": "stream",
     "text": [
      "\u001b[32m✔\u001b[39m Folder: /home/luanabeckerdaluz/git/luanabeckerdaluz/rapsimx/tmp_sensi3\n",
      "\n"
     ]
    },
    {
     "name": "stderr",
     "output_type": "stream",
     "text": [
      "\u001b[32m✔\u001b[39m ApsimX command = /usr/local/bin/Models\n",
      "\n",
      "\u001b[32m✔\u001b[39m File problem.rds is available!\n",
      "\n",
      "\u001b[32m✔\u001b[39m File samples.csv is available!\n",
      "\n",
      "\u001b[33m!\u001b[39m File summarized.csv does not exist!\n",
      "\n",
      "\u001b[33m!\u001b[39m File salib.csv does not exist!\n",
      "\n",
      "\u001b[36mℹ\u001b[39m Summary:\n",
      "\n",
      "\u001b[36mℹ\u001b[39m   Folder = /home/luanabeckerdaluz/git/luanabeckerdaluz/rapsimx/tmp_sensi3\n",
      "\n",
      "\u001b[36mℹ\u001b[39m   Number of dbs: 0\n",
      "\n",
      "\u001b[36mℹ\u001b[39m   Number of apsimxs: 0\n",
      "\n"
     ]
    }
   ],
   "source": [
    "proj$info()"
   ]
  },
  {
   "cell_type": "code",
   "execution_count": 49,
   "id": "9400cc8a",
   "metadata": {
    "vscode": {
     "languageId": "r"
    }
   },
   "outputs": [
    {
     "data": {
      "text/html": [
       "<table class=\"dataframe\">\n",
       "<caption>A data.frame: 6 × 18</caption>\n",
       "<thead>\n",
       "\t<tr><th></th><th scope=col>id</th><th scope=col>phen_VegTherTimeResp_X3</th><th scope=col>phen_RepTherTimeResp_X3</th><th scope=col>phen_VegPhoMod_X1</th><th scope=col>phen_RepPhoMod_X1</th><th scope=col>phen_VegetativeTarget</th><th scope=col>phen_EarlyFloweringTarget</th><th scope=col>phen_EarlyPodDevTarget</th><th scope=col>phen_FractGrainFill</th><th scope=col>phen_MidGrainFill</th><th scope=col>phen_EntGrainFill</th><th scope=col>phen_Maturing</th><th scope=col>phen_Ripening</th><th scope=col>leaf_RUE</th><th scope=col>leaf_AreaLargLeaf</th><th scope=col>leaf_Phyllochron</th><th scope=col>leaf_ExtinctionCoef_Y1</th><th scope=col>grain_HarvIndex</th></tr>\n",
       "\t<tr><th></th><th scope=col>&lt;int&gt;</th><th scope=col>&lt;dbl&gt;</th><th scope=col>&lt;dbl&gt;</th><th scope=col>&lt;dbl&gt;</th><th scope=col>&lt;dbl&gt;</th><th scope=col>&lt;dbl&gt;</th><th scope=col>&lt;dbl&gt;</th><th scope=col>&lt;dbl&gt;</th><th scope=col>&lt;dbl&gt;</th><th scope=col>&lt;dbl&gt;</th><th scope=col>&lt;dbl&gt;</th><th scope=col>&lt;dbl&gt;</th><th scope=col>&lt;dbl&gt;</th><th scope=col>&lt;dbl&gt;</th><th scope=col>&lt;dbl&gt;</th><th scope=col>&lt;dbl&gt;</th><th scope=col>&lt;dbl&gt;</th><th scope=col>&lt;dbl&gt;</th></tr>\n",
       "</thead>\n",
       "<tbody>\n",
       "\t<tr><th scope=row>1</th><td>1</td><td>33.76308</td><td>21.06957</td><td>12.92585</td><td>14.21477</td><td>389.4541</td><td>250.2836</td><td>174.43877</td><td>0.05083219</td><td>0.5449011</td><td>450.4795</td><td>54.24265</td><td>60.45825</td><td>1.1983377</td><td>0.006900060</td><td>52.38999</td><td>0.6246613</td><td>0.6480531</td></tr>\n",
       "\t<tr><th scope=row>2</th><td>2</td><td>27.42114</td><td>31.72201</td><td>12.35544</td><td>12.83607</td><td>455.2944</td><td>299.8768</td><td>126.59973</td><td>0.04875688</td><td>0.4481962</td><td>511.2059</td><td>52.39988</td><td>43.99558</td><td>1.4986806</td><td>0.006700342</td><td>39.52693</td><td>0.6880646</td><td>0.5704967</td></tr>\n",
       "\t<tr><th scope=row>3</th><td>3</td><td>38.50553</td><td>33.85541</td><td>10.65447</td><td>13.63580</td><td>341.0147</td><td>112.8200</td><td>152.09459</td><td>0.05614101</td><td>0.6048168</td><td>368.6850</td><td>37.81525</td><td>51.44380</td><td>1.2763923</td><td>0.007840202</td><td>62.69034</td><td>0.7672312</td><td>0.4064908</td></tr>\n",
       "\t<tr><th scope=row>4</th><td>4</td><td>22.84988</td><td>28.18702</td><td>14.12968</td><td>12.11416</td><td>259.4750</td><td>158.7402</td><td> 85.23136</td><td>0.03750923</td><td>0.3664725</td><td>291.4420</td><td>46.86784</td><td>49.97271</td><td>0.8075441</td><td>0.005661438</td><td>49.99827</td><td>0.7369762</td><td>0.3712612</td></tr>\n",
       "\t<tr><th scope=row>5</th><td>5</td><td>21.73415</td><td>23.78310</td><td>13.30596</td><td>11.82342</td><td>593.8071</td><td>171.8103</td><td>167.69126</td><td>0.03977518</td><td>0.5880865</td><td>325.6817</td><td>43.61833</td><td>40.83245</td><td>1.5449157</td><td>0.005408252</td><td>58.68791</td><td>0.4093759</td><td>0.5044527</td></tr>\n",
       "\t<tr><th scope=row>6</th><td>6</td><td>36.05039</td><td>24.75495</td><td>12.50210</td><td>14.05671</td><td>302.4509</td><td>209.7737</td><td>186.53984</td><td>0.06119690</td><td>0.3812973</td><td>437.8635</td><td>62.06587</td><td>45.49550</td><td>0.9541676</td><td>0.007590951</td><td>36.74895</td><td>0.6516883</td><td>0.4596221</td></tr>\n",
       "</tbody>\n",
       "</table>\n"
      ],
      "text/latex": [
       "A data.frame: 6 × 18\n",
       "\\begin{tabular}{r|llllllllllllllllll}\n",
       "  & id & phen\\_VegTherTimeResp\\_X3 & phen\\_RepTherTimeResp\\_X3 & phen\\_VegPhoMod\\_X1 & phen\\_RepPhoMod\\_X1 & phen\\_VegetativeTarget & phen\\_EarlyFloweringTarget & phen\\_EarlyPodDevTarget & phen\\_FractGrainFill & phen\\_MidGrainFill & phen\\_EntGrainFill & phen\\_Maturing & phen\\_Ripening & leaf\\_RUE & leaf\\_AreaLargLeaf & leaf\\_Phyllochron & leaf\\_ExtinctionCoef\\_Y1 & grain\\_HarvIndex\\\\\n",
       "  & <int> & <dbl> & <dbl> & <dbl> & <dbl> & <dbl> & <dbl> & <dbl> & <dbl> & <dbl> & <dbl> & <dbl> & <dbl> & <dbl> & <dbl> & <dbl> & <dbl> & <dbl>\\\\\n",
       "\\hline\n",
       "\t1 & 1 & 33.76308 & 21.06957 & 12.92585 & 14.21477 & 389.4541 & 250.2836 & 174.43877 & 0.05083219 & 0.5449011 & 450.4795 & 54.24265 & 60.45825 & 1.1983377 & 0.006900060 & 52.38999 & 0.6246613 & 0.6480531\\\\\n",
       "\t2 & 2 & 27.42114 & 31.72201 & 12.35544 & 12.83607 & 455.2944 & 299.8768 & 126.59973 & 0.04875688 & 0.4481962 & 511.2059 & 52.39988 & 43.99558 & 1.4986806 & 0.006700342 & 39.52693 & 0.6880646 & 0.5704967\\\\\n",
       "\t3 & 3 & 38.50553 & 33.85541 & 10.65447 & 13.63580 & 341.0147 & 112.8200 & 152.09459 & 0.05614101 & 0.6048168 & 368.6850 & 37.81525 & 51.44380 & 1.2763923 & 0.007840202 & 62.69034 & 0.7672312 & 0.4064908\\\\\n",
       "\t4 & 4 & 22.84988 & 28.18702 & 14.12968 & 12.11416 & 259.4750 & 158.7402 &  85.23136 & 0.03750923 & 0.3664725 & 291.4420 & 46.86784 & 49.97271 & 0.8075441 & 0.005661438 & 49.99827 & 0.7369762 & 0.3712612\\\\\n",
       "\t5 & 5 & 21.73415 & 23.78310 & 13.30596 & 11.82342 & 593.8071 & 171.8103 & 167.69126 & 0.03977518 & 0.5880865 & 325.6817 & 43.61833 & 40.83245 & 1.5449157 & 0.005408252 & 58.68791 & 0.4093759 & 0.5044527\\\\\n",
       "\t6 & 6 & 36.05039 & 24.75495 & 12.50210 & 14.05671 & 302.4509 & 209.7737 & 186.53984 & 0.06119690 & 0.3812973 & 437.8635 & 62.06587 & 45.49550 & 0.9541676 & 0.007590951 & 36.74895 & 0.6516883 & 0.4596221\\\\\n",
       "\\end{tabular}\n"
      ],
      "text/markdown": [
       "\n",
       "A data.frame: 6 × 18\n",
       "\n",
       "| <!--/--> | id &lt;int&gt; | phen_VegTherTimeResp_X3 &lt;dbl&gt; | phen_RepTherTimeResp_X3 &lt;dbl&gt; | phen_VegPhoMod_X1 &lt;dbl&gt; | phen_RepPhoMod_X1 &lt;dbl&gt; | phen_VegetativeTarget &lt;dbl&gt; | phen_EarlyFloweringTarget &lt;dbl&gt; | phen_EarlyPodDevTarget &lt;dbl&gt; | phen_FractGrainFill &lt;dbl&gt; | phen_MidGrainFill &lt;dbl&gt; | phen_EntGrainFill &lt;dbl&gt; | phen_Maturing &lt;dbl&gt; | phen_Ripening &lt;dbl&gt; | leaf_RUE &lt;dbl&gt; | leaf_AreaLargLeaf &lt;dbl&gt; | leaf_Phyllochron &lt;dbl&gt; | leaf_ExtinctionCoef_Y1 &lt;dbl&gt; | grain_HarvIndex &lt;dbl&gt; |\n",
       "|---|---|---|---|---|---|---|---|---|---|---|---|---|---|---|---|---|---|---|\n",
       "| 1 | 1 | 33.76308 | 21.06957 | 12.92585 | 14.21477 | 389.4541 | 250.2836 | 174.43877 | 0.05083219 | 0.5449011 | 450.4795 | 54.24265 | 60.45825 | 1.1983377 | 0.006900060 | 52.38999 | 0.6246613 | 0.6480531 |\n",
       "| 2 | 2 | 27.42114 | 31.72201 | 12.35544 | 12.83607 | 455.2944 | 299.8768 | 126.59973 | 0.04875688 | 0.4481962 | 511.2059 | 52.39988 | 43.99558 | 1.4986806 | 0.006700342 | 39.52693 | 0.6880646 | 0.5704967 |\n",
       "| 3 | 3 | 38.50553 | 33.85541 | 10.65447 | 13.63580 | 341.0147 | 112.8200 | 152.09459 | 0.05614101 | 0.6048168 | 368.6850 | 37.81525 | 51.44380 | 1.2763923 | 0.007840202 | 62.69034 | 0.7672312 | 0.4064908 |\n",
       "| 4 | 4 | 22.84988 | 28.18702 | 14.12968 | 12.11416 | 259.4750 | 158.7402 |  85.23136 | 0.03750923 | 0.3664725 | 291.4420 | 46.86784 | 49.97271 | 0.8075441 | 0.005661438 | 49.99827 | 0.7369762 | 0.3712612 |\n",
       "| 5 | 5 | 21.73415 | 23.78310 | 13.30596 | 11.82342 | 593.8071 | 171.8103 | 167.69126 | 0.03977518 | 0.5880865 | 325.6817 | 43.61833 | 40.83245 | 1.5449157 | 0.005408252 | 58.68791 | 0.4093759 | 0.5044527 |\n",
       "| 6 | 6 | 36.05039 | 24.75495 | 12.50210 | 14.05671 | 302.4509 | 209.7737 | 186.53984 | 0.06119690 | 0.3812973 | 437.8635 | 62.06587 | 45.49550 | 0.9541676 | 0.007590951 | 36.74895 | 0.6516883 | 0.4596221 |\n",
       "\n"
      ],
      "text/plain": [
       "  id phen_VegTherTimeResp_X3 phen_RepTherTimeResp_X3 phen_VegPhoMod_X1\n",
       "1 1  33.76308                21.06957                12.92585         \n",
       "2 2  27.42114                31.72201                12.35544         \n",
       "3 3  38.50553                33.85541                10.65447         \n",
       "4 4  22.84988                28.18702                14.12968         \n",
       "5 5  21.73415                23.78310                13.30596         \n",
       "6 6  36.05039                24.75495                12.50210         \n",
       "  phen_RepPhoMod_X1 phen_VegetativeTarget phen_EarlyFloweringTarget\n",
       "1 14.21477          389.4541              250.2836                 \n",
       "2 12.83607          455.2944              299.8768                 \n",
       "3 13.63580          341.0147              112.8200                 \n",
       "4 12.11416          259.4750              158.7402                 \n",
       "5 11.82342          593.8071              171.8103                 \n",
       "6 14.05671          302.4509              209.7737                 \n",
       "  phen_EarlyPodDevTarget phen_FractGrainFill phen_MidGrainFill\n",
       "1 174.43877              0.05083219          0.5449011        \n",
       "2 126.59973              0.04875688          0.4481962        \n",
       "3 152.09459              0.05614101          0.6048168        \n",
       "4  85.23136              0.03750923          0.3664725        \n",
       "5 167.69126              0.03977518          0.5880865        \n",
       "6 186.53984              0.06119690          0.3812973        \n",
       "  phen_EntGrainFill phen_Maturing phen_Ripening leaf_RUE  leaf_AreaLargLeaf\n",
       "1 450.4795          54.24265      60.45825      1.1983377 0.006900060      \n",
       "2 511.2059          52.39988      43.99558      1.4986806 0.006700342      \n",
       "3 368.6850          37.81525      51.44380      1.2763923 0.007840202      \n",
       "4 291.4420          46.86784      49.97271      0.8075441 0.005661438      \n",
       "5 325.6817          43.61833      40.83245      1.5449157 0.005408252      \n",
       "6 437.8635          62.06587      45.49550      0.9541676 0.007590951      \n",
       "  leaf_Phyllochron leaf_ExtinctionCoef_Y1 grain_HarvIndex\n",
       "1 52.38999         0.6246613              0.6480531      \n",
       "2 39.52693         0.6880646              0.5704967      \n",
       "3 62.69034         0.7672312              0.4064908      \n",
       "4 49.99827         0.7369762              0.3712612      \n",
       "5 58.68791         0.4093759              0.5044527      \n",
       "6 36.74895         0.6516883              0.4596221      "
      ]
     },
     "metadata": {},
     "output_type": "display_data"
    }
   ],
   "source": [
    "head(proj$samples_df)"
   ]
  },
  {
   "cell_type": "code",
   "execution_count": 50,
   "id": "11d703aa",
   "metadata": {
    "vscode": {
     "languageId": "r"
    }
   },
   "outputs": [
    {
     "name": "stderr",
     "output_type": "stream",
     "text": [
      "\u001b[36mℹ\u001b[39m Summary:\n",
      "\n",
      "\u001b[36mℹ\u001b[39m   Folder = /home/luanabeckerdaluz/git/luanabeckerdaluz/rapsimx/tmp_sensi2\n",
      "\n"
     ]
    },
    {
     "name": "stderr",
     "output_type": "stream",
     "text": [
      "\u001b[36mℹ\u001b[39m   Number of dbs: 0\n",
      "\n",
      "\u001b[36mℹ\u001b[39m   Number of apsimxs: 0\n",
      "\n"
     ]
    }
   ],
   "source": [
    "proj$files_summary()"
   ]
  },
  {
   "cell_type": "code",
   "execution_count": 5,
   "id": "484da849",
   "metadata": {
    "vscode": {
     "languageId": "r"
    }
   },
   "outputs": [
    {
     "name": "stderr",
     "output_type": "stream",
     "text": [
      "[+] Carregando pasta existente: /home/luanabeckerdaluz/git/luanabeckerdaluz/rapsimx/sensi\n",
      "\n",
      "[+] Estrutura carregada.\n",
      "\n"
     ]
    },
    {
     "ename": "ERROR",
     "evalue": "Error in self$try_load_samples(): [✖] samples.csv não encontrado em /home/luanabeckerdaluz/git/luanabeckerdaluz/rapsimx/sensi/samples.csv\n",
     "output_type": "error",
     "traceback": [
      "Error in self$try_load_samples(): [✖] samples.csv não encontrado em /home/luanabeckerdaluz/git/luanabeckerdaluz/rapsimx/sensi/samples.csv\nTraceback:\n",
      "1. RApsimxSensitivityClass$new(folder)",
      "2. initialize(...)",
      "3. self$try_load_samples()",
      "4. stop(\"[✖] samples.csv não encontrado em \", path)",
      "5. .handleSimpleError(function (cnd) \n . {\n .     watcher$capture_plot_and_output()\n .     cnd <- sanitize_call(cnd)\n .     watcher$push(cnd)\n .     switch(on_error, continue = invokeRestart(\"eval_continue\"), \n .         stop = invokeRestart(\"eval_stop\"), error = NULL)\n . }, \"[✖] samples.csv não encontrado em /home/luanabeckerdaluz/git/luanabeckerdaluz/rapsimx/sensi/samples.csv\", \n .     base::quote(self$try_load_samples()))"
     ]
    }
   ],
   "source": [
    "proj2 <- RApsimxSensitivity(\"sensi\")"
   ]
  },
  {
   "cell_type": "code",
   "execution_count": 6,
   "id": "6b943318",
   "metadata": {
    "vscode": {
     "languageId": "r"
    }
   },
   "outputs": [
    {
     "ename": "ERROR",
     "evalue": "Error: object 'proj2' not found\n",
     "output_type": "error",
     "traceback": [
      "Error: object 'proj2' not found\nTraceback:\n"
     ]
    }
   ],
   "source": [
    "proj2"
   ]
  },
  {
   "cell_type": "code",
   "execution_count": null,
   "id": "6cd66635",
   "metadata": {
    "vscode": {
     "languageId": "r"
    }
   },
   "outputs": [],
   "source": []
  }
 ],
 "metadata": {
  "kernelspec": {
   "display_name": "R",
   "language": "R",
   "name": "ir"
  },
  "language_info": {
   "codemirror_mode": "r",
   "file_extension": ".r",
   "mimetype": "text/x-r-source",
   "name": "R",
   "pygments_lexer": "r",
   "version": "4.1.2"
  }
 },
 "nbformat": 4,
 "nbformat_minor": 5
}
