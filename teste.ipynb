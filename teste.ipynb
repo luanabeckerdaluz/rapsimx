{
 "cells": [
  {
   "cell_type": "code",
   "execution_count": 22,
   "id": "a6f9a459",
   "metadata": {
    "vscode": {
     "languageId": "r"
    }
   },
   "outputs": [
    {
     "name": "stderr",
     "output_type": "stream",
     "text": [
      "\u001b[32m✔\u001b[39m ApsimX Models folder = /usr/local/bin/Models\n",
      "\n",
      "\u001b[32m✔\u001b[39m Multicores = \n",
      "\n",
      "\u001b[32m✔\u001b[39m Generating sensi5...\n",
      "\n",
      "\u001b[32m✔\u001b[39m Folder sensi5 was created!\n",
      "\n"
     ]
    }
   ],
   "source": [
    "source(file.path(\"R\", \"class.R\"))\n",
    "\n",
    "proj <- RApsimxSensitivity(\"sensi5\")"
   ]
  },
  {
   "cell_type": "code",
   "execution_count": 23,
   "id": "9e40009c",
   "metadata": {
    "vscode": {
     "languageId": "r"
    }
   },
   "outputs": [
    {
     "name": "stderr",
     "output_type": "stream",
     "text": [
      "\u001b[31m✖\u001b[39m ERROR: Problem was not detected to generate samples. Please run load_problem funciton before generate samples.\n",
      "\n"
     ]
    },
    {
     "ename": "ERROR",
     "evalue": "Error in proj$generate_samples(): \n",
     "output_type": "error",
     "traceback": [
      "Error in proj$generate_samples(): \nTraceback:\n",
      "1. stop()",
      "2. .handleSimpleError(function (cnd) \n . {\n .     watcher$capture_plot_and_output()\n .     cnd <- sanitize_call(cnd)\n .     watcher$push(cnd)\n .     switch(on_error, continue = invokeRestart(\"eval_continue\"), \n .         stop = invokeRestart(\"eval_stop\"), error = NULL)\n . }, \"\", base::quote(proj$generate_samples()))"
     ]
    }
   ],
   "source": [
    "proj$generate_samples()"
   ]
  },
  {
   "cell_type": "code",
   "execution_count": 3,
   "id": "90727684",
   "metadata": {
    "vscode": {
     "languageId": "r"
    }
   },
   "outputs": [
    {
     "ename": "ERROR",
     "evalue": "Error in proj$samples.plot(): [✖] Nenhuma amostra carregada. Rode generate_samples() ou verifique samples.csv.\n",
     "output_type": "error",
     "traceback": [
      "Error in proj$samples.plot(): [✖] Nenhuma amostra carregada. Rode generate_samples() ou verifique samples.csv.\nTraceback:\n",
      "1. stop(\"[✖] Nenhuma amostra carregada. Rode generate_samples() ou verifique samples.csv.\")",
      "2. .handleSimpleError(function (cnd) \n . {\n .     watcher$capture_plot_and_output()\n .     cnd <- sanitize_call(cnd)\n .     watcher$push(cnd)\n .     switch(on_error, continue = invokeRestart(\"eval_continue\"), \n .         stop = invokeRestart(\"eval_stop\"), error = NULL)\n . }, \"[✖] Nenhuma amostra carregada. Rode generate_samples() ou verifique samples.csv.\", \n .     base::quote(proj$samples.plot()))"
     ]
    }
   ],
   "source": [
    "proj$samples.plot()"
   ]
  },
  {
   "cell_type": "code",
   "execution_count": 4,
   "id": "11d703aa",
   "metadata": {
    "vscode": {
     "languageId": "r"
    }
   },
   "outputs": [
    {
     "name": "stdout",
     "output_type": "stream",
     "text": [
      "[i] Total de arquivos .apsimx: 0 \n"
     ]
    }
   ],
   "source": [
    "proj$files_summary()"
   ]
  },
  {
   "cell_type": "code",
   "execution_count": 5,
   "id": "484da849",
   "metadata": {
    "vscode": {
     "languageId": "r"
    }
   },
   "outputs": [
    {
     "name": "stderr",
     "output_type": "stream",
     "text": [
      "[+] Carregando pasta existente: /home/luanabeckerdaluz/git/luanabeckerdaluz/rapsimx/sensi\n",
      "\n",
      "[+] Estrutura carregada.\n",
      "\n"
     ]
    },
    {
     "ename": "ERROR",
     "evalue": "Error in self$try_load_samples(): [✖] samples.csv não encontrado em /home/luanabeckerdaluz/git/luanabeckerdaluz/rapsimx/sensi/samples.csv\n",
     "output_type": "error",
     "traceback": [
      "Error in self$try_load_samples(): [✖] samples.csv não encontrado em /home/luanabeckerdaluz/git/luanabeckerdaluz/rapsimx/sensi/samples.csv\nTraceback:\n",
      "1. RApsimxSensitivityClass$new(folder)",
      "2. initialize(...)",
      "3. self$try_load_samples()",
      "4. stop(\"[✖] samples.csv não encontrado em \", path)",
      "5. .handleSimpleError(function (cnd) \n . {\n .     watcher$capture_plot_and_output()\n .     cnd <- sanitize_call(cnd)\n .     watcher$push(cnd)\n .     switch(on_error, continue = invokeRestart(\"eval_continue\"), \n .         stop = invokeRestart(\"eval_stop\"), error = NULL)\n . }, \"[✖] samples.csv não encontrado em /home/luanabeckerdaluz/git/luanabeckerdaluz/rapsimx/sensi/samples.csv\", \n .     base::quote(self$try_load_samples()))"
     ]
    }
   ],
   "source": [
    "proj2 <- RApsimxSensitivity(\"sensi\")"
   ]
  },
  {
   "cell_type": "code",
   "execution_count": 6,
   "id": "6b943318",
   "metadata": {
    "vscode": {
     "languageId": "r"
    }
   },
   "outputs": [
    {
     "ename": "ERROR",
     "evalue": "Error: object 'proj2' not found\n",
     "output_type": "error",
     "traceback": [
      "Error: object 'proj2' not found\nTraceback:\n"
     ]
    }
   ],
   "source": [
    "proj2"
   ]
  },
  {
   "cell_type": "code",
   "execution_count": null,
   "id": "6cd66635",
   "metadata": {
    "vscode": {
     "languageId": "r"
    }
   },
   "outputs": [],
   "source": []
  }
 ],
 "metadata": {
  "kernelspec": {
   "display_name": "R",
   "language": "R",
   "name": "ir"
  },
  "language_info": {
   "codemirror_mode": "r",
   "file_extension": ".r",
   "mimetype": "text/x-r-source",
   "name": "R",
   "pygments_lexer": "r",
   "version": "4.1.2"
  }
 },
 "nbformat": 4,
 "nbformat_minor": 5
}
