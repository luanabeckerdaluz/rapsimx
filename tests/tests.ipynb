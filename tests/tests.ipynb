{
 "cells": [
  {
   "cell_type": "code",
   "execution_count": 7,
   "metadata": {
    "vscode": {
     "languageId": "r"
    }
   },
   "outputs": [
    {
     "name": "stdout",
     "output_type": "stream",
     "text": [
      "🟢 ApsimX Models folder = /usr/local/bin/Models\n",
      "🟢 Multicores = 3\n"
     ]
    }
   ],
   "source": [
    "source(file.path(\"..\", \"R\", \"init.R\"))\n",
    "init(multicores = 3)"
   ]
  },
  {
   "cell_type": "code",
   "execution_count": 8,
   "metadata": {
    "vscode": {
     "languageId": "r"
    }
   },
   "outputs": [
    {
     "name": "stdout",
     "output_type": "stream",
     "text": [
      "\u001b[32m✔\u001b[39m | \u001b[33mF\u001b[39m \u001b[35mW\u001b[39m \u001b[34m S\u001b[39m \u001b[32m OK\u001b[39m | Context\n",
      "\n",
      "⠏ |          0 | replace_values                                                 🛑 STOP: this_doesnt_exist not available on replace_values function!\n",
      "⠙ |          2 | replace_values                                                 \n",
      "⠸ |          4 | replace_values                                                 \n",
      "⠼ |          5 | replace_values                                                 \n",
      "⠴ |          6 | replace_values                                                 \n",
      "⠦ |          7 | replace_values                                                 \n",
      "⠧ |          8 | replace_values                                                 \n",
      "⠇ |          9 | replace_values                                                 \n",
      "⠏ |         10 | replace_values                                                 \n",
      "⠋ |         11 | replace_values                                                 \n",
      "⠙ |         12 | replace_values                                                 \n",
      "⠹ |         13 | replace_values                                                 \n",
      "⠸ |         14 | replace_values                                                 \n",
      "⠼ |         15 | replace_values                                                 \n",
      "⠴ |         16 | replace_values                                                 \n",
      "⠦ |         17 | replace_values                                                 \n",
      "⠧ |         18 | replace_values                                                 \n",
      "⠇ |         19 | replace_values                                                 \n",
      "⠏ |         20 | replace_values                                                 \n",
      "⠋ |         21 | replace_values                                                 \n",
      "⠙ |         22 | replace_values                                                 \n",
      "⠹ |         23 | replace_values                                                 \n",
      "⠸ |         24 | replace_values                                                 \n",
      "⠼ |         25 | replace_values                                                 \n",
      "⠴ |         26 | replace_values                                                 \n",
      "⠦ |         27 | replace_values                                                 \n",
      "⠧ |         28 | replace_values                                                 \n",
      "\u001b[32m✔\u001b[39m |         28 | replace_values\u001b[90m [4.3s]\u001b[39m\n",
      "\n",
      "══ \u001b[1mResults\u001b[22m ═════════════════════════════════════════════════════════════════════\n",
      "\u001b[36mDuration: 4.3 s\u001b[39m\n",
      "\n",
      "[ FAIL 0 | WARN 0 | SKIP 0 | \u001b[32mPASS\u001b[39m 28 ]\n"
     ]
    }
   ],
   "source": [
    "testthat::test_file(\"test_replace_values.R\", reporter = \"progress\")"
   ]
  },
  {
   "cell_type": "code",
   "execution_count": null,
   "metadata": {
    "vscode": {
     "languageId": "r"
    }
   },
   "outputs": [],
   "source": []
  },
  {
   "cell_type": "code",
   "execution_count": null,
   "metadata": {
    "vscode": {
     "languageId": "r"
    }
   },
   "outputs": [],
   "source": []
  }
 ],
 "metadata": {
  "kernelspec": {
   "display_name": "R",
   "language": "R",
   "name": "ir"
  },
  "language_info": {
   "codemirror_mode": "r",
   "file_extension": ".r",
   "mimetype": "text/x-r-source",
   "name": "R",
   "pygments_lexer": "r",
   "version": "4.1.2"
  }
 },
 "nbformat": 4,
 "nbformat_minor": 2
}
